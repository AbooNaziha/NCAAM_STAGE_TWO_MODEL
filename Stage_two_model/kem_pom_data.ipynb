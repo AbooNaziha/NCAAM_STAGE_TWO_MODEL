{
 "metadata": {
  "language_info": {
   "codemirror_mode": {
    "name": "ipython",
    "version": 3
   },
   "file_extension": ".py",
   "mimetype": "text/x-python",
   "name": "python",
   "nbconvert_exporter": "python",
   "pygments_lexer": "ipython3",
   "version": "3.7.7-final"
  },
  "orig_nbformat": 2,
  "kernelspec": {
   "name": "python3",
   "display_name": "Python 3.7.7 64-bit ('tf': conda)",
   "metadata": {
    "interpreter": {
     "hash": "1b4bd66619e1f63a2810c0f91c748d47860e139f5a175a9a480ebd9d4456bd5e"
    }
   }
  }
 },
 "nbformat": 4,
 "nbformat_minor": 2,
 "cells": [
  {
   "cell_type": "code",
   "execution_count": 66,
   "metadata": {},
   "outputs": [],
   "source": [
    "import numpy as np\n",
    "import pandas as pd\n",
    "\n",
    "import matplotlib.pyplot as plt\n",
    "import seaborn as sns\n",
    "%matplotlib inline\n",
    "\n",
    "from collections import Counter\n",
    "\n",
    "from sklearn.neural_network import MLPClassifier\n",
    "from sklearn.preprocessing import StandardScaler\n",
    "from sklearn.ensemble import RandomForestClassifier\n",
    "from sklearn.ensemble import VotingClassifier\n",
    "from sklearn.linear_model import LogisticRegression\n",
    "from sklearn.model_selection import GridSearchCV, cross_val_score, StratifiedKFold, learning_curve, train_test_split\n",
    "from sklearn.metrics import brier_score_loss\n",
    "\n",
    "import xgboost as xgb\n",
    "from xgboost import XGBClassifier\n",
    "\n",
    "pd.set_option('display.max_columns', None)"
   ]
  },
  {
   "cell_type": "code",
   "execution_count": 67,
   "metadata": {},
   "outputs": [],
   "source": [
    "#read_file = pd.read_excel(r'C:/Users/FLUXNATURE/Desktop/ML stuff/Kp2021_finals.xlsx', engine='openpyxl')"
   ]
  },
  {
   "cell_type": "code",
   "execution_count": 68,
   "metadata": {},
   "outputs": [],
   "source": [
    "#read_file.to_csv(r'C:/Users/FLUXNATURE/Desktop/ML stuff/KP2021_final.csv', index= None)"
   ]
  },
  {
   "cell_type": "code",
   "execution_count": 69,
   "metadata": {},
   "outputs": [],
   "source": [
    "#read_file2 = pd.read_excel(r'C:/Users/FLUXNATURE/Desktop/ML stuff/Kp2020_finals.xlsx', engine='openpyxl')"
   ]
  },
  {
   "cell_type": "code",
   "execution_count": 70,
   "metadata": {},
   "outputs": [],
   "source": [
    "#read_file2.to_csv(r'C:/Users/FLUXNATURE/Desktop/ML stuff/KP2020_final.csv', index= None)"
   ]
  },
  {
   "cell_type": "code",
   "execution_count": 71,
   "metadata": {},
   "outputs": [],
   "source": [
    "kp_df=[]\n",
    "years_list = [2021,2020,2019,2018,2017,2016,2015,2014,2013,2012,2011,2010,2009,2008,2007,2006,2005,2004,2003,2002]\n",
    "for year in years_list:\n",
    "    temp_kp_df = pd.read_csv(\"C:/Users/FLUXNATURE/Desktop/New Kaggle world/Ken Pom/KP\" + str(year) + \"_final.csv\")\n",
    "    temp_kp_df['Season'] = year\n",
    "    year_last = year   \n",
    "    if year==2021:\n",
    "        kp_df = temp_kp_df\n",
    "    else:\n",
    "        kp_df = kp_df.append(temp_kp_df)"
   ]
  },
  {
   "cell_type": "code",
   "execution_count": 72,
   "metadata": {},
   "outputs": [
    {
     "output_type": "execute_result",
     "data": {
      "text/plain": [
       "       team conf  adjem   adjo  adjd   luck  Season\n",
       "0   Gonzaga  WCC  36.62  126.1  89.5  0.018    2021\n",
       "1  Michigan  B10  30.79  119.4  88.6  0.026    2021\n",
       "2  Illinois  B10  30.61  119.0  88.3  0.030    2021\n",
       "3    Baylor  B12  29.50  123.3  93.8  0.050    2021\n",
       "4      Iowa  B10  28.90  123.5  94.6 -0.028    2021"
      ],
      "text/html": "<div>\n<style scoped>\n    .dataframe tbody tr th:only-of-type {\n        vertical-align: middle;\n    }\n\n    .dataframe tbody tr th {\n        vertical-align: top;\n    }\n\n    .dataframe thead th {\n        text-align: right;\n    }\n</style>\n<table border=\"1\" class=\"dataframe\">\n  <thead>\n    <tr style=\"text-align: right;\">\n      <th></th>\n      <th>team</th>\n      <th>conf</th>\n      <th>adjem</th>\n      <th>adjo</th>\n      <th>adjd</th>\n      <th>luck</th>\n      <th>Season</th>\n    </tr>\n  </thead>\n  <tbody>\n    <tr>\n      <th>0</th>\n      <td>Gonzaga</td>\n      <td>WCC</td>\n      <td>36.62</td>\n      <td>126.1</td>\n      <td>89.5</td>\n      <td>0.018</td>\n      <td>2021</td>\n    </tr>\n    <tr>\n      <th>1</th>\n      <td>Michigan</td>\n      <td>B10</td>\n      <td>30.79</td>\n      <td>119.4</td>\n      <td>88.6</td>\n      <td>0.026</td>\n      <td>2021</td>\n    </tr>\n    <tr>\n      <th>2</th>\n      <td>Illinois</td>\n      <td>B10</td>\n      <td>30.61</td>\n      <td>119.0</td>\n      <td>88.3</td>\n      <td>0.030</td>\n      <td>2021</td>\n    </tr>\n    <tr>\n      <th>3</th>\n      <td>Baylor</td>\n      <td>B12</td>\n      <td>29.50</td>\n      <td>123.3</td>\n      <td>93.8</td>\n      <td>0.050</td>\n      <td>2021</td>\n    </tr>\n    <tr>\n      <th>4</th>\n      <td>Iowa</td>\n      <td>B10</td>\n      <td>28.90</td>\n      <td>123.5</td>\n      <td>94.6</td>\n      <td>-0.028</td>\n      <td>2021</td>\n    </tr>\n  </tbody>\n</table>\n</div>"
     },
     "metadata": {},
     "execution_count": 72
    }
   ],
   "source": [
    "kp_df.head()"
   ]
  },
  {
   "cell_type": "code",
   "execution_count": 73,
   "metadata": {},
   "outputs": [
    {
     "output_type": "execute_result",
     "data": {
      "text/plain": [
       "                 team conf  adjem  adjo   adjd   luck  Season\n",
       "324  Mount St. Mary's  NEC -29.36  85.1  114.5  0.019    2002\n",
       "325      Morris Brown  ind -29.95  85.1  115.1  0.044    2002\n",
       "326      Savannah St.  ind -31.15  78.1  109.2 -0.021    2002"
      ],
      "text/html": "<div>\n<style scoped>\n    .dataframe tbody tr th:only-of-type {\n        vertical-align: middle;\n    }\n\n    .dataframe tbody tr th {\n        vertical-align: top;\n    }\n\n    .dataframe thead th {\n        text-align: right;\n    }\n</style>\n<table border=\"1\" class=\"dataframe\">\n  <thead>\n    <tr style=\"text-align: right;\">\n      <th></th>\n      <th>team</th>\n      <th>conf</th>\n      <th>adjem</th>\n      <th>adjo</th>\n      <th>adjd</th>\n      <th>luck</th>\n      <th>Season</th>\n    </tr>\n  </thead>\n  <tbody>\n    <tr>\n      <th>324</th>\n      <td>Mount St. Mary's</td>\n      <td>NEC</td>\n      <td>-29.36</td>\n      <td>85.1</td>\n      <td>114.5</td>\n      <td>0.019</td>\n      <td>2002</td>\n    </tr>\n    <tr>\n      <th>325</th>\n      <td>Morris Brown</td>\n      <td>ind</td>\n      <td>-29.95</td>\n      <td>85.1</td>\n      <td>115.1</td>\n      <td>0.044</td>\n      <td>2002</td>\n    </tr>\n    <tr>\n      <th>326</th>\n      <td>Savannah St.</td>\n      <td>ind</td>\n      <td>-31.15</td>\n      <td>78.1</td>\n      <td>109.2</td>\n      <td>-0.021</td>\n      <td>2002</td>\n    </tr>\n  </tbody>\n</table>\n</div>"
     },
     "metadata": {},
     "execution_count": 73
    }
   ],
   "source": [
    "kp_df.tail(3)"
   ]
  },
  {
   "cell_type": "code",
   "execution_count": 74,
   "metadata": {},
   "outputs": [
    {
     "output_type": "execute_result",
     "data": {
      "text/plain": [
       "2021    357\n",
       "2020    353\n",
       "2019    353\n",
       "2017    351\n",
       "2018    351\n",
       "2014    351\n",
       "2015    351\n",
       "2016    351\n",
       "2010    347\n",
       "2013    347\n",
       "2011    345\n",
       "2012    345\n",
       "2009    344\n",
       "2008    341\n",
       "2007    336\n",
       "2006    334\n",
       "2005    330\n",
       "2003    327\n",
       "2002    327\n",
       "2004    326\n",
       "Name: Season, dtype: int64"
      ]
     },
     "metadata": {},
     "execution_count": 74
    }
   ],
   "source": [
    "kp_df['Season'].value_counts(dropna=False)"
   ]
  },
  {
   "cell_type": "code",
   "execution_count": 75,
   "metadata": {},
   "outputs": [],
   "source": [
    "kp_df['team'] = kp_df['team'].str.lower()"
   ]
  },
  {
   "source": [
    "Match Team IDs to data"
   ],
   "cell_type": "markdown",
   "metadata": {}
  },
  {
   "cell_type": "code",
   "execution_count": 76,
   "metadata": {},
   "outputs": [],
   "source": [
    "teams_df = pd.read_csv('C:/Users/FLUXNATURE/Desktop/New Kaggle world/NCAAM_stage_two_two/MDataFiles_Stage2/MTeamSpellings.csv', sep='\\,', engine='python')"
   ]
  },
  {
   "cell_type": "code",
   "execution_count": 77,
   "metadata": {},
   "outputs": [
    {
     "output_type": "execute_result",
     "data": {
      "text/plain": [
       "      TeamNameSpelling  TeamID\n",
       "1142     youngstown st    1464\n",
       "1143    youngstown st.    1464\n",
       "1144  youngstown state    1464\n",
       "1145     youngstown-st    1464\n",
       "1146  youngstown-state    1464"
      ],
      "text/html": "<div>\n<style scoped>\n    .dataframe tbody tr th:only-of-type {\n        vertical-align: middle;\n    }\n\n    .dataframe tbody tr th {\n        vertical-align: top;\n    }\n\n    .dataframe thead th {\n        text-align: right;\n    }\n</style>\n<table border=\"1\" class=\"dataframe\">\n  <thead>\n    <tr style=\"text-align: right;\">\n      <th></th>\n      <th>TeamNameSpelling</th>\n      <th>TeamID</th>\n    </tr>\n  </thead>\n  <tbody>\n    <tr>\n      <th>1142</th>\n      <td>youngstown st</td>\n      <td>1464</td>\n    </tr>\n    <tr>\n      <th>1143</th>\n      <td>youngstown st.</td>\n      <td>1464</td>\n    </tr>\n    <tr>\n      <th>1144</th>\n      <td>youngstown state</td>\n      <td>1464</td>\n    </tr>\n    <tr>\n      <th>1145</th>\n      <td>youngstown-st</td>\n      <td>1464</td>\n    </tr>\n    <tr>\n      <th>1146</th>\n      <td>youngstown-state</td>\n      <td>1464</td>\n    </tr>\n  </tbody>\n</table>\n</div>"
     },
     "metadata": {},
     "execution_count": 77
    }
   ],
   "source": [
    "teams_df.tail()"
   ]
  },
  {
   "cell_type": "code",
   "execution_count": 78,
   "metadata": {},
   "outputs": [],
   "source": [
    "kp_df = pd.merge(kp_df, teams_df, left_on=['team'], right_on = ['TeamNameSpelling'], how='left')\n",
    "kp_df = kp_df.drop(['TeamNameSpelling'], axis=1)"
   ]
  },
  {
   "cell_type": "code",
   "execution_count": 79,
   "metadata": {},
   "outputs": [
    {
     "output_type": "execute_result",
     "data": {
      "text/plain": [
       "2021    357\n",
       "2020    353\n",
       "2019    353\n",
       "2017    351\n",
       "2018    351\n",
       "2014    351\n",
       "2015    351\n",
       "2016    351\n",
       "2010    347\n",
       "2013    347\n",
       "2011    345\n",
       "2012    345\n",
       "2009    344\n",
       "2008    341\n",
       "2007    336\n",
       "2006    334\n",
       "2005    330\n",
       "2003    327\n",
       "2002    327\n",
       "2004    326\n",
       "Name: Season, dtype: int64"
      ]
     },
     "metadata": {},
     "execution_count": 79
    }
   ],
   "source": [
    "kp_df['Season'].value_counts(dropna=False)"
   ]
  },
  {
   "cell_type": "code",
   "execution_count": 80,
   "metadata": {},
   "outputs": [
    {
     "output_type": "execute_result",
     "data": {
      "text/plain": [
       "       team conf  adjem   adjo  adjd   luck  Season  TeamID\n",
       "0   gonzaga  WCC  36.62  126.1  89.5  0.018    2021  1211.0\n",
       "1  michigan  B10  30.79  119.4  88.6  0.026    2021  1276.0\n",
       "2  illinois  B10  30.61  119.0  88.3  0.030    2021  1228.0\n",
       "3    baylor  B12  29.50  123.3  93.8  0.050    2021  1124.0\n",
       "4      iowa  B10  28.90  123.5  94.6 -0.028    2021  1234.0"
      ],
      "text/html": "<div>\n<style scoped>\n    .dataframe tbody tr th:only-of-type {\n        vertical-align: middle;\n    }\n\n    .dataframe tbody tr th {\n        vertical-align: top;\n    }\n\n    .dataframe thead th {\n        text-align: right;\n    }\n</style>\n<table border=\"1\" class=\"dataframe\">\n  <thead>\n    <tr style=\"text-align: right;\">\n      <th></th>\n      <th>team</th>\n      <th>conf</th>\n      <th>adjem</th>\n      <th>adjo</th>\n      <th>adjd</th>\n      <th>luck</th>\n      <th>Season</th>\n      <th>TeamID</th>\n    </tr>\n  </thead>\n  <tbody>\n    <tr>\n      <th>0</th>\n      <td>gonzaga</td>\n      <td>WCC</td>\n      <td>36.62</td>\n      <td>126.1</td>\n      <td>89.5</td>\n      <td>0.018</td>\n      <td>2021</td>\n      <td>1211.0</td>\n    </tr>\n    <tr>\n      <th>1</th>\n      <td>michigan</td>\n      <td>B10</td>\n      <td>30.79</td>\n      <td>119.4</td>\n      <td>88.6</td>\n      <td>0.026</td>\n      <td>2021</td>\n      <td>1276.0</td>\n    </tr>\n    <tr>\n      <th>2</th>\n      <td>illinois</td>\n      <td>B10</td>\n      <td>30.61</td>\n      <td>119.0</td>\n      <td>88.3</td>\n      <td>0.030</td>\n      <td>2021</td>\n      <td>1228.0</td>\n    </tr>\n    <tr>\n      <th>3</th>\n      <td>baylor</td>\n      <td>B12</td>\n      <td>29.50</td>\n      <td>123.3</td>\n      <td>93.8</td>\n      <td>0.050</td>\n      <td>2021</td>\n      <td>1124.0</td>\n    </tr>\n    <tr>\n      <th>4</th>\n      <td>iowa</td>\n      <td>B10</td>\n      <td>28.90</td>\n      <td>123.5</td>\n      <td>94.6</td>\n      <td>-0.028</td>\n      <td>2021</td>\n      <td>1234.0</td>\n    </tr>\n  </tbody>\n</table>\n</div>"
     },
     "metadata": {},
     "execution_count": 80
    }
   ],
   "source": [
    "kp_df.head()"
   ]
  },
  {
   "cell_type": "code",
   "execution_count": 81,
   "metadata": {},
   "outputs": [
    {
     "output_type": "execute_result",
     "data": {
      "text/plain": [
       "                     team  conf  adjem  adjo   adjd   luck  Season  TeamID\n",
       "6862         nicholls st.  Slnd -26.22  87.1  113.3 -0.070    2002  1311.0\n",
       "6863  arkansas pine bluff  SWAC -28.85  82.2  111.1 -0.014    2002     NaN\n",
       "6864     mount st. mary's   NEC -29.36  85.1  114.5  0.019    2002  1291.0\n",
       "6865         morris brown   ind -29.95  85.1  115.1  0.044    2002  1289.0\n",
       "6866         savannah st.   ind -31.15  78.1  109.2 -0.021    2002  1366.0"
      ],
      "text/html": "<div>\n<style scoped>\n    .dataframe tbody tr th:only-of-type {\n        vertical-align: middle;\n    }\n\n    .dataframe tbody tr th {\n        vertical-align: top;\n    }\n\n    .dataframe thead th {\n        text-align: right;\n    }\n</style>\n<table border=\"1\" class=\"dataframe\">\n  <thead>\n    <tr style=\"text-align: right;\">\n      <th></th>\n      <th>team</th>\n      <th>conf</th>\n      <th>adjem</th>\n      <th>adjo</th>\n      <th>adjd</th>\n      <th>luck</th>\n      <th>Season</th>\n      <th>TeamID</th>\n    </tr>\n  </thead>\n  <tbody>\n    <tr>\n      <th>6862</th>\n      <td>nicholls st.</td>\n      <td>Slnd</td>\n      <td>-26.22</td>\n      <td>87.1</td>\n      <td>113.3</td>\n      <td>-0.070</td>\n      <td>2002</td>\n      <td>1311.0</td>\n    </tr>\n    <tr>\n      <th>6863</th>\n      <td>arkansas pine bluff</td>\n      <td>SWAC</td>\n      <td>-28.85</td>\n      <td>82.2</td>\n      <td>111.1</td>\n      <td>-0.014</td>\n      <td>2002</td>\n      <td>NaN</td>\n    </tr>\n    <tr>\n      <th>6864</th>\n      <td>mount st. mary's</td>\n      <td>NEC</td>\n      <td>-29.36</td>\n      <td>85.1</td>\n      <td>114.5</td>\n      <td>0.019</td>\n      <td>2002</td>\n      <td>1291.0</td>\n    </tr>\n    <tr>\n      <th>6865</th>\n      <td>morris brown</td>\n      <td>ind</td>\n      <td>-29.95</td>\n      <td>85.1</td>\n      <td>115.1</td>\n      <td>0.044</td>\n      <td>2002</td>\n      <td>1289.0</td>\n    </tr>\n    <tr>\n      <th>6866</th>\n      <td>savannah st.</td>\n      <td>ind</td>\n      <td>-31.15</td>\n      <td>78.1</td>\n      <td>109.2</td>\n      <td>-0.021</td>\n      <td>2002</td>\n      <td>1366.0</td>\n    </tr>\n  </tbody>\n</table>\n</div>"
     },
     "metadata": {},
     "execution_count": 81
    }
   ],
   "source": [
    "kp_df.tail()"
   ]
  },
  {
   "source": [
    "Write the data to a csv"
   ],
   "cell_type": "markdown",
   "metadata": {}
  },
  {
   "cell_type": "code",
   "execution_count": 82,
   "metadata": {},
   "outputs": [],
   "source": [
    "kp_df.to_csv('kp_all.csv', index=False)"
   ]
  }
 ]
}
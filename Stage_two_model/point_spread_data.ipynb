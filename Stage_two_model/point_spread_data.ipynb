{
 "metadata": {
  "language_info": {
   "codemirror_mode": {
    "name": "ipython",
    "version": 3
   },
   "file_extension": ".py",
   "mimetype": "text/x-python",
   "name": "python",
   "nbconvert_exporter": "python",
   "pygments_lexer": "ipython3",
   "version": "3.7.7-final"
  },
  "orig_nbformat": 2,
  "kernelspec": {
   "name": "python3",
   "display_name": "Python 3.7.7 64-bit ('tf': conda)",
   "metadata": {
    "interpreter": {
     "hash": "1b4bd66619e1f63a2810c0f91c748d47860e139f5a175a9a480ebd9d4456bd5e"
    }
   }
  }
 },
 "nbformat": 4,
 "nbformat_minor": 2,
 "cells": [
  {
   "cell_type": "code",
   "execution_count": 35,
   "metadata": {},
   "outputs": [],
   "source": [
    "import numpy as np\n",
    "import pandas as pd\n",
    "\n",
    "import matplotlib.pyplot as plt\n",
    "import seaborn as sns\n",
    "%matplotlib inline\n",
    "\n",
    "from collections import Counter\n",
    "\n",
    "from sklearn.neural_network import MLPClassifier\n",
    "from sklearn.preprocessing import StandardScaler\n",
    "from sklearn.ensemble import RandomForestClassifier\n",
    "from sklearn.ensemble import VotingClassifier\n",
    "from sklearn.linear_model import LogisticRegression\n",
    "from sklearn.model_selection import GridSearchCV, cross_val_score, StratifiedKFold, learning_curve, train_test_split\n",
    "from sklearn.metrics import brier_score_loss\n",
    "\n",
    "import xgboost as xgb\n",
    "from xgboost import XGBClassifier\n",
    "\n",
    "pd.set_option('display.max_columns', None)"
   ]
  },
  {
   "cell_type": "code",
   "execution_count": 36,
   "metadata": {},
   "outputs": [],
   "source": [
    "spread_df=[]\n",
    "years_list = [20,19,18,17,16,15,14,13,12,11,10,'09','08','07','06','05','04','03']\n",
    "year_int = 2021\n",
    "for year in years_list:\n",
    "    #Note: 19 refers to 2020 and so on\n",
    "    temp_spread_df = pd.read_csv(\"C:/Users/FLUXNATURE/Desktop/New Kaggle world/Point Spread/ncaabb\" + str(year) + \".csv\")\n",
    "    temp_spread_df['Season'] = year_int\n",
    "    year_last = year\n",
    "    year_int = year_int-1    \n",
    "    if year==20:\n",
    "        spread_df = temp_spread_df\n",
    "    else:\n",
    "        spread_df = spread_df.append(temp_spread_df)"
   ]
  },
  {
   "cell_type": "code",
   "execution_count": 37,
   "metadata": {},
   "outputs": [
    {
     "output_type": "execute_result",
     "data": {
      "text/plain": [
       "          date                  home hscore                road rscore  line  \\\n",
       "0          NaN     Abilene Christian     70  East Tennessee St.     47   6.5   \n",
       "1   11/25/2020               Alabama     81    Jacksonville St.     57  20.5   \n",
       "2   11/25/2020              Arkansas    142     Miss Valley St.     62  36.5   \n",
       "3   11/25/2020  Arkansas-Little Rock     71        Prairie View     66    14   \n",
       "4   11/25/2020        Boston College     67           Villanova     76   -14   \n",
       "..         ...                   ...    ...                 ...    ...   ...   \n",
       "95  11/26/2020                Towson     68       San Francisco     79  -7.5   \n",
       "96  11/26/2020              Utah St.     59    South Dakota St.     83    -2   \n",
       "97  11/26/2020         West Virginia     78     VA Commonwealth     66  10.5   \n",
       "98  11/26/2020                Xavier     51             Bradley     50    10   \n",
       "99  11/27/2020               Arizona     74       Grambling St.     55    30   \n",
       "\n",
       "    lineavg  linesag  linesage  linesagp  linesaggm linemoore lineopen  \\\n",
       "0     -5.46    -7.34     -7.34     -7.34      -7.34      1.46       -1   \n",
       "1     17.53    16.94     16.94     16.94      16.94     19.64       18   \n",
       "2     31.78    30.21     30.21     30.21      30.21     29.45       37   \n",
       "3      7.70     7.31      7.31      7.31       7.31     11.05     11.5   \n",
       "4    -13.40   -13.53    -13.53    -13.53     -13.53    -14.79      -14   \n",
       "..      ...      ...       ...       ...        ...       ...      ...   \n",
       "95    -5.29    -1.21     -1.79     -5.90       4.60    -12.47       -8   \n",
       "96     2.71    -0.02     -0.04      3.24      -2.56      1.89       -2   \n",
       "97     7.40     7.08      6.46      9.84       3.14     15.45        9   \n",
       "98     8.45     7.12      7.61      8.32       5.11      9.05       11   \n",
       "99    23.95    25.69     25.68     25.70      25.68      9.81       24   \n",
       "\n",
       "    linedok  linefox   std  linepugh  linedonc  neutral  linetalis  lineespn  \\\n",
       "0     -9.32    -10.0  4.20     -1.32      -2.0      1.0        NaN       NaN   \n",
       "1     16.72     16.0  2.30     22.82      13.8      0.0        NaN     17.36   \n",
       "2       NaN     34.0  4.05     41.43      25.1      0.0        NaN     33.47   \n",
       "3       NaN      7.0  2.70     11.15       NaN      1.0        NaN      2.78   \n",
       "4    -16.65    -17.0  2.55    -13.88     -10.8      1.0        NaN    -10.34   \n",
       "..      ...      ...   ...       ...       ...      ...        ...       ...   \n",
       "95    -6.30     -9.0  4.64    -10.06      -5.9      1.0        NaN     -1.61   \n",
       "96     7.08      5.0  3.21      5.95       5.9      1.0        NaN       NaN   \n",
       "97     2.51      6.0  3.77      9.95       8.0      1.0        NaN       NaN   \n",
       "98    10.53     13.0  3.43      9.21       7.9      0.0        NaN      8.26   \n",
       "99    26.26     26.0  6.25     35.37      20.0      0.0        NaN     16.52   \n",
       "\n",
       "    linepir  linepiw  linepib  line7ot  lineer  linedd  linemassey linedunk  \\\n",
       "0       NaN      NaN      NaN      NaN     NaN     NaN       -9.71      NaN   \n",
       "1       NaN      NaN      NaN      NaN     NaN     NaN       16.30      NaN   \n",
       "2       NaN      NaN      NaN      NaN     NaN     NaN       31.74      NaN   \n",
       "3       NaN      NaN      NaN      NaN     NaN     NaN        4.93      NaN   \n",
       "4       NaN      NaN      NaN      NaN     NaN     NaN       -8.20      NaN   \n",
       "..      ...      ...      ...      ...     ...     ...         ...      ...   \n",
       "95      NaN      NaN      NaN     -9.0     NaN     NaN       -7.85      NaN   \n",
       "96      NaN      NaN      NaN      4.0     NaN     NaN        4.22      NaN   \n",
       "97      NaN      NaN      NaN      1.0     NaN     NaN        3.52      NaN   \n",
       "98      NaN      NaN      NaN      7.0     NaN     NaN        1.00      NaN   \n",
       "99      NaN      NaN      NaN      NaN     NaN     NaN       26.63      NaN   \n",
       "\n",
       "    lineround  lineteamrnks  Season  lineashby  lineprophet  lineseven  \\\n",
       "0         NaN           0.2    2021        NaN          NaN        NaN   \n",
       "1         NaN          20.0    2021        NaN          NaN        NaN   \n",
       "2         NaN          33.6    2021        NaN          NaN        NaN   \n",
       "3         NaN          10.8    2021        NaN          NaN        NaN   \n",
       "4         NaN         -15.0    2021        NaN          NaN        NaN   \n",
       "..        ...           ...     ...        ...          ...        ...   \n",
       "95        NaN          -6.0    2021        NaN          NaN        NaN   \n",
       "96        NaN          -0.8    2021        NaN          NaN        NaN   \n",
       "97        NaN           9.5    2021        NaN          NaN        NaN   \n",
       "98        NaN          14.3    2021        NaN          NaN        NaN   \n",
       "99        NaN          24.1    2021        NaN          NaN        NaN   \n",
       "\n",
       "    linepig linepom linemass linerpi linegreen lineash lineargh linemarkov  \\\n",
       "0       NaN     NaN      NaN     NaN       NaN     NaN      NaN        NaN   \n",
       "1       NaN     NaN      NaN     NaN       NaN     NaN      NaN        NaN   \n",
       "2       NaN     NaN      NaN     NaN       NaN     NaN      NaN        NaN   \n",
       "3       NaN     NaN      NaN     NaN       NaN     NaN      NaN        NaN   \n",
       "4       NaN     NaN      NaN     NaN       NaN     NaN      NaN        NaN   \n",
       "..      ...     ...      ...     ...       ...     ...      ...        ...   \n",
       "95      NaN     NaN      NaN     NaN       NaN     NaN      NaN        NaN   \n",
       "96      NaN     NaN      NaN     NaN       NaN     NaN      NaN        NaN   \n",
       "97      NaN     NaN      NaN     NaN       NaN     NaN      NaN        NaN   \n",
       "98      NaN     NaN      NaN     NaN       NaN     NaN      NaN        NaN   \n",
       "99      NaN     NaN      NaN     NaN       NaN     NaN      NaN        NaN   \n",
       "\n",
       "   linesauce  \n",
       "0        NaN  \n",
       "1        NaN  \n",
       "2        NaN  \n",
       "3        NaN  \n",
       "4        NaN  \n",
       "..       ...  \n",
       "95       NaN  \n",
       "96       NaN  \n",
       "97       NaN  \n",
       "98       NaN  \n",
       "99       NaN  \n",
       "\n",
       "[100 rows x 44 columns]"
      ],
      "text/html": "<div>\n<style scoped>\n    .dataframe tbody tr th:only-of-type {\n        vertical-align: middle;\n    }\n\n    .dataframe tbody tr th {\n        vertical-align: top;\n    }\n\n    .dataframe thead th {\n        text-align: right;\n    }\n</style>\n<table border=\"1\" class=\"dataframe\">\n  <thead>\n    <tr style=\"text-align: right;\">\n      <th></th>\n      <th>date</th>\n      <th>home</th>\n      <th>hscore</th>\n      <th>road</th>\n      <th>rscore</th>\n      <th>line</th>\n      <th>lineavg</th>\n      <th>linesag</th>\n      <th>linesage</th>\n      <th>linesagp</th>\n      <th>linesaggm</th>\n      <th>linemoore</th>\n      <th>lineopen</th>\n      <th>linedok</th>\n      <th>linefox</th>\n      <th>std</th>\n      <th>linepugh</th>\n      <th>linedonc</th>\n      <th>neutral</th>\n      <th>linetalis</th>\n      <th>lineespn</th>\n      <th>linepir</th>\n      <th>linepiw</th>\n      <th>linepib</th>\n      <th>line7ot</th>\n      <th>lineer</th>\n      <th>linedd</th>\n      <th>linemassey</th>\n      <th>linedunk</th>\n      <th>lineround</th>\n      <th>lineteamrnks</th>\n      <th>Season</th>\n      <th>lineashby</th>\n      <th>lineprophet</th>\n      <th>lineseven</th>\n      <th>linepig</th>\n      <th>linepom</th>\n      <th>linemass</th>\n      <th>linerpi</th>\n      <th>linegreen</th>\n      <th>lineash</th>\n      <th>lineargh</th>\n      <th>linemarkov</th>\n      <th>linesauce</th>\n    </tr>\n  </thead>\n  <tbody>\n    <tr>\n      <th>0</th>\n      <td>NaN</td>\n      <td>Abilene Christian</td>\n      <td>70</td>\n      <td>East Tennessee St.</td>\n      <td>47</td>\n      <td>6.5</td>\n      <td>-5.46</td>\n      <td>-7.34</td>\n      <td>-7.34</td>\n      <td>-7.34</td>\n      <td>-7.34</td>\n      <td>1.46</td>\n      <td>-1</td>\n      <td>-9.32</td>\n      <td>-10.0</td>\n      <td>4.20</td>\n      <td>-1.32</td>\n      <td>-2.0</td>\n      <td>1.0</td>\n      <td>NaN</td>\n      <td>NaN</td>\n      <td>NaN</td>\n      <td>NaN</td>\n      <td>NaN</td>\n      <td>NaN</td>\n      <td>NaN</td>\n      <td>NaN</td>\n      <td>-9.71</td>\n      <td>NaN</td>\n      <td>NaN</td>\n      <td>0.2</td>\n      <td>2021</td>\n      <td>NaN</td>\n      <td>NaN</td>\n      <td>NaN</td>\n      <td>NaN</td>\n      <td>NaN</td>\n      <td>NaN</td>\n      <td>NaN</td>\n      <td>NaN</td>\n      <td>NaN</td>\n      <td>NaN</td>\n      <td>NaN</td>\n      <td>NaN</td>\n    </tr>\n    <tr>\n      <th>1</th>\n      <td>11/25/2020</td>\n      <td>Alabama</td>\n      <td>81</td>\n      <td>Jacksonville St.</td>\n      <td>57</td>\n      <td>20.5</td>\n      <td>17.53</td>\n      <td>16.94</td>\n      <td>16.94</td>\n      <td>16.94</td>\n      <td>16.94</td>\n      <td>19.64</td>\n      <td>18</td>\n      <td>16.72</td>\n      <td>16.0</td>\n      <td>2.30</td>\n      <td>22.82</td>\n      <td>13.8</td>\n      <td>0.0</td>\n      <td>NaN</td>\n      <td>17.36</td>\n      <td>NaN</td>\n      <td>NaN</td>\n      <td>NaN</td>\n      <td>NaN</td>\n      <td>NaN</td>\n      <td>NaN</td>\n      <td>16.30</td>\n      <td>NaN</td>\n      <td>NaN</td>\n      <td>20.0</td>\n      <td>2021</td>\n      <td>NaN</td>\n      <td>NaN</td>\n      <td>NaN</td>\n      <td>NaN</td>\n      <td>NaN</td>\n      <td>NaN</td>\n      <td>NaN</td>\n      <td>NaN</td>\n      <td>NaN</td>\n      <td>NaN</td>\n      <td>NaN</td>\n      <td>NaN</td>\n    </tr>\n    <tr>\n      <th>2</th>\n      <td>11/25/2020</td>\n      <td>Arkansas</td>\n      <td>142</td>\n      <td>Miss Valley St.</td>\n      <td>62</td>\n      <td>36.5</td>\n      <td>31.78</td>\n      <td>30.21</td>\n      <td>30.21</td>\n      <td>30.21</td>\n      <td>30.21</td>\n      <td>29.45</td>\n      <td>37</td>\n      <td>NaN</td>\n      <td>34.0</td>\n      <td>4.05</td>\n      <td>41.43</td>\n      <td>25.1</td>\n      <td>0.0</td>\n      <td>NaN</td>\n      <td>33.47</td>\n      <td>NaN</td>\n      <td>NaN</td>\n      <td>NaN</td>\n      <td>NaN</td>\n      <td>NaN</td>\n      <td>NaN</td>\n      <td>31.74</td>\n      <td>NaN</td>\n      <td>NaN</td>\n      <td>33.6</td>\n      <td>2021</td>\n      <td>NaN</td>\n      <td>NaN</td>\n      <td>NaN</td>\n      <td>NaN</td>\n      <td>NaN</td>\n      <td>NaN</td>\n      <td>NaN</td>\n      <td>NaN</td>\n      <td>NaN</td>\n      <td>NaN</td>\n      <td>NaN</td>\n      <td>NaN</td>\n    </tr>\n    <tr>\n      <th>3</th>\n      <td>11/25/2020</td>\n      <td>Arkansas-Little Rock</td>\n      <td>71</td>\n      <td>Prairie View</td>\n      <td>66</td>\n      <td>14</td>\n      <td>7.70</td>\n      <td>7.31</td>\n      <td>7.31</td>\n      <td>7.31</td>\n      <td>7.31</td>\n      <td>11.05</td>\n      <td>11.5</td>\n      <td>NaN</td>\n      <td>7.0</td>\n      <td>2.70</td>\n      <td>11.15</td>\n      <td>NaN</td>\n      <td>1.0</td>\n      <td>NaN</td>\n      <td>2.78</td>\n      <td>NaN</td>\n      <td>NaN</td>\n      <td>NaN</td>\n      <td>NaN</td>\n      <td>NaN</td>\n      <td>NaN</td>\n      <td>4.93</td>\n      <td>NaN</td>\n      <td>NaN</td>\n      <td>10.8</td>\n      <td>2021</td>\n      <td>NaN</td>\n      <td>NaN</td>\n      <td>NaN</td>\n      <td>NaN</td>\n      <td>NaN</td>\n      <td>NaN</td>\n      <td>NaN</td>\n      <td>NaN</td>\n      <td>NaN</td>\n      <td>NaN</td>\n      <td>NaN</td>\n      <td>NaN</td>\n    </tr>\n    <tr>\n      <th>4</th>\n      <td>11/25/2020</td>\n      <td>Boston College</td>\n      <td>67</td>\n      <td>Villanova</td>\n      <td>76</td>\n      <td>-14</td>\n      <td>-13.40</td>\n      <td>-13.53</td>\n      <td>-13.53</td>\n      <td>-13.53</td>\n      <td>-13.53</td>\n      <td>-14.79</td>\n      <td>-14</td>\n      <td>-16.65</td>\n      <td>-17.0</td>\n      <td>2.55</td>\n      <td>-13.88</td>\n      <td>-10.8</td>\n      <td>1.0</td>\n      <td>NaN</td>\n      <td>-10.34</td>\n      <td>NaN</td>\n      <td>NaN</td>\n      <td>NaN</td>\n      <td>NaN</td>\n      <td>NaN</td>\n      <td>NaN</td>\n      <td>-8.20</td>\n      <td>NaN</td>\n      <td>NaN</td>\n      <td>-15.0</td>\n      <td>2021</td>\n      <td>NaN</td>\n      <td>NaN</td>\n      <td>NaN</td>\n      <td>NaN</td>\n      <td>NaN</td>\n      <td>NaN</td>\n      <td>NaN</td>\n      <td>NaN</td>\n      <td>NaN</td>\n      <td>NaN</td>\n      <td>NaN</td>\n      <td>NaN</td>\n    </tr>\n    <tr>\n      <th>...</th>\n      <td>...</td>\n      <td>...</td>\n      <td>...</td>\n      <td>...</td>\n      <td>...</td>\n      <td>...</td>\n      <td>...</td>\n      <td>...</td>\n      <td>...</td>\n      <td>...</td>\n      <td>...</td>\n      <td>...</td>\n      <td>...</td>\n      <td>...</td>\n      <td>...</td>\n      <td>...</td>\n      <td>...</td>\n      <td>...</td>\n      <td>...</td>\n      <td>...</td>\n      <td>...</td>\n      <td>...</td>\n      <td>...</td>\n      <td>...</td>\n      <td>...</td>\n      <td>...</td>\n      <td>...</td>\n      <td>...</td>\n      <td>...</td>\n      <td>...</td>\n      <td>...</td>\n      <td>...</td>\n      <td>...</td>\n      <td>...</td>\n      <td>...</td>\n      <td>...</td>\n      <td>...</td>\n      <td>...</td>\n      <td>...</td>\n      <td>...</td>\n      <td>...</td>\n      <td>...</td>\n      <td>...</td>\n      <td>...</td>\n    </tr>\n    <tr>\n      <th>95</th>\n      <td>11/26/2020</td>\n      <td>Towson</td>\n      <td>68</td>\n      <td>San Francisco</td>\n      <td>79</td>\n      <td>-7.5</td>\n      <td>-5.29</td>\n      <td>-1.21</td>\n      <td>-1.79</td>\n      <td>-5.90</td>\n      <td>4.60</td>\n      <td>-12.47</td>\n      <td>-8</td>\n      <td>-6.30</td>\n      <td>-9.0</td>\n      <td>4.64</td>\n      <td>-10.06</td>\n      <td>-5.9</td>\n      <td>1.0</td>\n      <td>NaN</td>\n      <td>-1.61</td>\n      <td>NaN</td>\n      <td>NaN</td>\n      <td>NaN</td>\n      <td>-9.0</td>\n      <td>NaN</td>\n      <td>NaN</td>\n      <td>-7.85</td>\n      <td>NaN</td>\n      <td>NaN</td>\n      <td>-6.0</td>\n      <td>2021</td>\n      <td>NaN</td>\n      <td>NaN</td>\n      <td>NaN</td>\n      <td>NaN</td>\n      <td>NaN</td>\n      <td>NaN</td>\n      <td>NaN</td>\n      <td>NaN</td>\n      <td>NaN</td>\n      <td>NaN</td>\n      <td>NaN</td>\n      <td>NaN</td>\n    </tr>\n    <tr>\n      <th>96</th>\n      <td>11/26/2020</td>\n      <td>Utah St.</td>\n      <td>59</td>\n      <td>South Dakota St.</td>\n      <td>83</td>\n      <td>-2</td>\n      <td>2.71</td>\n      <td>-0.02</td>\n      <td>-0.04</td>\n      <td>3.24</td>\n      <td>-2.56</td>\n      <td>1.89</td>\n      <td>-2</td>\n      <td>7.08</td>\n      <td>5.0</td>\n      <td>3.21</td>\n      <td>5.95</td>\n      <td>5.9</td>\n      <td>1.0</td>\n      <td>NaN</td>\n      <td>NaN</td>\n      <td>NaN</td>\n      <td>NaN</td>\n      <td>NaN</td>\n      <td>4.0</td>\n      <td>NaN</td>\n      <td>NaN</td>\n      <td>4.22</td>\n      <td>NaN</td>\n      <td>NaN</td>\n      <td>-0.8</td>\n      <td>2021</td>\n      <td>NaN</td>\n      <td>NaN</td>\n      <td>NaN</td>\n      <td>NaN</td>\n      <td>NaN</td>\n      <td>NaN</td>\n      <td>NaN</td>\n      <td>NaN</td>\n      <td>NaN</td>\n      <td>NaN</td>\n      <td>NaN</td>\n      <td>NaN</td>\n    </tr>\n    <tr>\n      <th>97</th>\n      <td>11/26/2020</td>\n      <td>West Virginia</td>\n      <td>78</td>\n      <td>VA Commonwealth</td>\n      <td>66</td>\n      <td>10.5</td>\n      <td>7.40</td>\n      <td>7.08</td>\n      <td>6.46</td>\n      <td>9.84</td>\n      <td>3.14</td>\n      <td>15.45</td>\n      <td>9</td>\n      <td>2.51</td>\n      <td>6.0</td>\n      <td>3.77</td>\n      <td>9.95</td>\n      <td>8.0</td>\n      <td>1.0</td>\n      <td>NaN</td>\n      <td>NaN</td>\n      <td>NaN</td>\n      <td>NaN</td>\n      <td>NaN</td>\n      <td>1.0</td>\n      <td>NaN</td>\n      <td>NaN</td>\n      <td>3.52</td>\n      <td>NaN</td>\n      <td>NaN</td>\n      <td>9.5</td>\n      <td>2021</td>\n      <td>NaN</td>\n      <td>NaN</td>\n      <td>NaN</td>\n      <td>NaN</td>\n      <td>NaN</td>\n      <td>NaN</td>\n      <td>NaN</td>\n      <td>NaN</td>\n      <td>NaN</td>\n      <td>NaN</td>\n      <td>NaN</td>\n      <td>NaN</td>\n    </tr>\n    <tr>\n      <th>98</th>\n      <td>11/26/2020</td>\n      <td>Xavier</td>\n      <td>51</td>\n      <td>Bradley</td>\n      <td>50</td>\n      <td>10</td>\n      <td>8.45</td>\n      <td>7.12</td>\n      <td>7.61</td>\n      <td>8.32</td>\n      <td>5.11</td>\n      <td>9.05</td>\n      <td>11</td>\n      <td>10.53</td>\n      <td>13.0</td>\n      <td>3.43</td>\n      <td>9.21</td>\n      <td>7.9</td>\n      <td>0.0</td>\n      <td>NaN</td>\n      <td>8.26</td>\n      <td>NaN</td>\n      <td>NaN</td>\n      <td>NaN</td>\n      <td>7.0</td>\n      <td>NaN</td>\n      <td>NaN</td>\n      <td>1.00</td>\n      <td>NaN</td>\n      <td>NaN</td>\n      <td>14.3</td>\n      <td>2021</td>\n      <td>NaN</td>\n      <td>NaN</td>\n      <td>NaN</td>\n      <td>NaN</td>\n      <td>NaN</td>\n      <td>NaN</td>\n      <td>NaN</td>\n      <td>NaN</td>\n      <td>NaN</td>\n      <td>NaN</td>\n      <td>NaN</td>\n      <td>NaN</td>\n    </tr>\n    <tr>\n      <th>99</th>\n      <td>11/27/2020</td>\n      <td>Arizona</td>\n      <td>74</td>\n      <td>Grambling St.</td>\n      <td>55</td>\n      <td>30</td>\n      <td>23.95</td>\n      <td>25.69</td>\n      <td>25.68</td>\n      <td>25.70</td>\n      <td>25.68</td>\n      <td>9.81</td>\n      <td>24</td>\n      <td>26.26</td>\n      <td>26.0</td>\n      <td>6.25</td>\n      <td>35.37</td>\n      <td>20.0</td>\n      <td>0.0</td>\n      <td>NaN</td>\n      <td>16.52</td>\n      <td>NaN</td>\n      <td>NaN</td>\n      <td>NaN</td>\n      <td>NaN</td>\n      <td>NaN</td>\n      <td>NaN</td>\n      <td>26.63</td>\n      <td>NaN</td>\n      <td>NaN</td>\n      <td>24.1</td>\n      <td>2021</td>\n      <td>NaN</td>\n      <td>NaN</td>\n      <td>NaN</td>\n      <td>NaN</td>\n      <td>NaN</td>\n      <td>NaN</td>\n      <td>NaN</td>\n      <td>NaN</td>\n      <td>NaN</td>\n      <td>NaN</td>\n      <td>NaN</td>\n      <td>NaN</td>\n    </tr>\n  </tbody>\n</table>\n<p>100 rows × 44 columns</p>\n</div>"
     },
     "metadata": {},
     "execution_count": 37
    }
   ],
   "source": [
    "spread_df.head(100)"
   ]
  },
  {
   "cell_type": "code",
   "execution_count": 38,
   "metadata": {},
   "outputs": [],
   "source": [
    "spread_df['home'] = spread_df['home'].str.lower()\n",
    "spread_df['road'] = spread_df['road'].str.lower()"
   ]
  },
  {
   "cell_type": "code",
   "execution_count": 39,
   "metadata": {},
   "outputs": [
    {
     "output_type": "execute_result",
     "data": {
      "text/plain": [
       "         date                  home hscore                road rscore  line  \\\n",
       "0         NaN     abilene christian     70  east tennessee st.     47   6.5   \n",
       "1  11/25/2020               alabama     81    jacksonville st.     57  20.5   \n",
       "2  11/25/2020              arkansas    142     miss valley st.     62  36.5   \n",
       "3  11/25/2020  arkansas-little rock     71        prairie view     66    14   \n",
       "4  11/25/2020        boston college     67           villanova     76   -14   \n",
       "\n",
       "   lineavg  linesag  linesage  linesagp  linesaggm linemoore lineopen  \\\n",
       "0    -5.46    -7.34     -7.34     -7.34      -7.34      1.46       -1   \n",
       "1    17.53    16.94     16.94     16.94      16.94     19.64       18   \n",
       "2    31.78    30.21     30.21     30.21      30.21     29.45       37   \n",
       "3     7.70     7.31      7.31      7.31       7.31     11.05     11.5   \n",
       "4   -13.40   -13.53    -13.53    -13.53     -13.53    -14.79      -14   \n",
       "\n",
       "   linedok  linefox   std  linepugh  linedonc  neutral  linetalis  lineespn  \\\n",
       "0    -9.32    -10.0  4.20     -1.32      -2.0      1.0        NaN       NaN   \n",
       "1    16.72     16.0  2.30     22.82      13.8      0.0        NaN     17.36   \n",
       "2      NaN     34.0  4.05     41.43      25.1      0.0        NaN     33.47   \n",
       "3      NaN      7.0  2.70     11.15       NaN      1.0        NaN      2.78   \n",
       "4   -16.65    -17.0  2.55    -13.88     -10.8      1.0        NaN    -10.34   \n",
       "\n",
       "   linepir  linepiw  linepib  line7ot  lineer  linedd  linemassey linedunk  \\\n",
       "0      NaN      NaN      NaN      NaN     NaN     NaN       -9.71      NaN   \n",
       "1      NaN      NaN      NaN      NaN     NaN     NaN       16.30      NaN   \n",
       "2      NaN      NaN      NaN      NaN     NaN     NaN       31.74      NaN   \n",
       "3      NaN      NaN      NaN      NaN     NaN     NaN        4.93      NaN   \n",
       "4      NaN      NaN      NaN      NaN     NaN     NaN       -8.20      NaN   \n",
       "\n",
       "   lineround  lineteamrnks  Season  lineashby  lineprophet  lineseven  \\\n",
       "0        NaN           0.2    2021        NaN          NaN        NaN   \n",
       "1        NaN          20.0    2021        NaN          NaN        NaN   \n",
       "2        NaN          33.6    2021        NaN          NaN        NaN   \n",
       "3        NaN          10.8    2021        NaN          NaN        NaN   \n",
       "4        NaN         -15.0    2021        NaN          NaN        NaN   \n",
       "\n",
       "   linepig linepom linemass linerpi linegreen lineash lineargh linemarkov  \\\n",
       "0      NaN     NaN      NaN     NaN       NaN     NaN      NaN        NaN   \n",
       "1      NaN     NaN      NaN     NaN       NaN     NaN      NaN        NaN   \n",
       "2      NaN     NaN      NaN     NaN       NaN     NaN      NaN        NaN   \n",
       "3      NaN     NaN      NaN     NaN       NaN     NaN      NaN        NaN   \n",
       "4      NaN     NaN      NaN     NaN       NaN     NaN      NaN        NaN   \n",
       "\n",
       "  linesauce  \n",
       "0       NaN  \n",
       "1       NaN  \n",
       "2       NaN  \n",
       "3       NaN  \n",
       "4       NaN  "
      ],
      "text/html": "<div>\n<style scoped>\n    .dataframe tbody tr th:only-of-type {\n        vertical-align: middle;\n    }\n\n    .dataframe tbody tr th {\n        vertical-align: top;\n    }\n\n    .dataframe thead th {\n        text-align: right;\n    }\n</style>\n<table border=\"1\" class=\"dataframe\">\n  <thead>\n    <tr style=\"text-align: right;\">\n      <th></th>\n      <th>date</th>\n      <th>home</th>\n      <th>hscore</th>\n      <th>road</th>\n      <th>rscore</th>\n      <th>line</th>\n      <th>lineavg</th>\n      <th>linesag</th>\n      <th>linesage</th>\n      <th>linesagp</th>\n      <th>linesaggm</th>\n      <th>linemoore</th>\n      <th>lineopen</th>\n      <th>linedok</th>\n      <th>linefox</th>\n      <th>std</th>\n      <th>linepugh</th>\n      <th>linedonc</th>\n      <th>neutral</th>\n      <th>linetalis</th>\n      <th>lineespn</th>\n      <th>linepir</th>\n      <th>linepiw</th>\n      <th>linepib</th>\n      <th>line7ot</th>\n      <th>lineer</th>\n      <th>linedd</th>\n      <th>linemassey</th>\n      <th>linedunk</th>\n      <th>lineround</th>\n      <th>lineteamrnks</th>\n      <th>Season</th>\n      <th>lineashby</th>\n      <th>lineprophet</th>\n      <th>lineseven</th>\n      <th>linepig</th>\n      <th>linepom</th>\n      <th>linemass</th>\n      <th>linerpi</th>\n      <th>linegreen</th>\n      <th>lineash</th>\n      <th>lineargh</th>\n      <th>linemarkov</th>\n      <th>linesauce</th>\n    </tr>\n  </thead>\n  <tbody>\n    <tr>\n      <th>0</th>\n      <td>NaN</td>\n      <td>abilene christian</td>\n      <td>70</td>\n      <td>east tennessee st.</td>\n      <td>47</td>\n      <td>6.5</td>\n      <td>-5.46</td>\n      <td>-7.34</td>\n      <td>-7.34</td>\n      <td>-7.34</td>\n      <td>-7.34</td>\n      <td>1.46</td>\n      <td>-1</td>\n      <td>-9.32</td>\n      <td>-10.0</td>\n      <td>4.20</td>\n      <td>-1.32</td>\n      <td>-2.0</td>\n      <td>1.0</td>\n      <td>NaN</td>\n      <td>NaN</td>\n      <td>NaN</td>\n      <td>NaN</td>\n      <td>NaN</td>\n      <td>NaN</td>\n      <td>NaN</td>\n      <td>NaN</td>\n      <td>-9.71</td>\n      <td>NaN</td>\n      <td>NaN</td>\n      <td>0.2</td>\n      <td>2021</td>\n      <td>NaN</td>\n      <td>NaN</td>\n      <td>NaN</td>\n      <td>NaN</td>\n      <td>NaN</td>\n      <td>NaN</td>\n      <td>NaN</td>\n      <td>NaN</td>\n      <td>NaN</td>\n      <td>NaN</td>\n      <td>NaN</td>\n      <td>NaN</td>\n    </tr>\n    <tr>\n      <th>1</th>\n      <td>11/25/2020</td>\n      <td>alabama</td>\n      <td>81</td>\n      <td>jacksonville st.</td>\n      <td>57</td>\n      <td>20.5</td>\n      <td>17.53</td>\n      <td>16.94</td>\n      <td>16.94</td>\n      <td>16.94</td>\n      <td>16.94</td>\n      <td>19.64</td>\n      <td>18</td>\n      <td>16.72</td>\n      <td>16.0</td>\n      <td>2.30</td>\n      <td>22.82</td>\n      <td>13.8</td>\n      <td>0.0</td>\n      <td>NaN</td>\n      <td>17.36</td>\n      <td>NaN</td>\n      <td>NaN</td>\n      <td>NaN</td>\n      <td>NaN</td>\n      <td>NaN</td>\n      <td>NaN</td>\n      <td>16.30</td>\n      <td>NaN</td>\n      <td>NaN</td>\n      <td>20.0</td>\n      <td>2021</td>\n      <td>NaN</td>\n      <td>NaN</td>\n      <td>NaN</td>\n      <td>NaN</td>\n      <td>NaN</td>\n      <td>NaN</td>\n      <td>NaN</td>\n      <td>NaN</td>\n      <td>NaN</td>\n      <td>NaN</td>\n      <td>NaN</td>\n      <td>NaN</td>\n    </tr>\n    <tr>\n      <th>2</th>\n      <td>11/25/2020</td>\n      <td>arkansas</td>\n      <td>142</td>\n      <td>miss valley st.</td>\n      <td>62</td>\n      <td>36.5</td>\n      <td>31.78</td>\n      <td>30.21</td>\n      <td>30.21</td>\n      <td>30.21</td>\n      <td>30.21</td>\n      <td>29.45</td>\n      <td>37</td>\n      <td>NaN</td>\n      <td>34.0</td>\n      <td>4.05</td>\n      <td>41.43</td>\n      <td>25.1</td>\n      <td>0.0</td>\n      <td>NaN</td>\n      <td>33.47</td>\n      <td>NaN</td>\n      <td>NaN</td>\n      <td>NaN</td>\n      <td>NaN</td>\n      <td>NaN</td>\n      <td>NaN</td>\n      <td>31.74</td>\n      <td>NaN</td>\n      <td>NaN</td>\n      <td>33.6</td>\n      <td>2021</td>\n      <td>NaN</td>\n      <td>NaN</td>\n      <td>NaN</td>\n      <td>NaN</td>\n      <td>NaN</td>\n      <td>NaN</td>\n      <td>NaN</td>\n      <td>NaN</td>\n      <td>NaN</td>\n      <td>NaN</td>\n      <td>NaN</td>\n      <td>NaN</td>\n    </tr>\n    <tr>\n      <th>3</th>\n      <td>11/25/2020</td>\n      <td>arkansas-little rock</td>\n      <td>71</td>\n      <td>prairie view</td>\n      <td>66</td>\n      <td>14</td>\n      <td>7.70</td>\n      <td>7.31</td>\n      <td>7.31</td>\n      <td>7.31</td>\n      <td>7.31</td>\n      <td>11.05</td>\n      <td>11.5</td>\n      <td>NaN</td>\n      <td>7.0</td>\n      <td>2.70</td>\n      <td>11.15</td>\n      <td>NaN</td>\n      <td>1.0</td>\n      <td>NaN</td>\n      <td>2.78</td>\n      <td>NaN</td>\n      <td>NaN</td>\n      <td>NaN</td>\n      <td>NaN</td>\n      <td>NaN</td>\n      <td>NaN</td>\n      <td>4.93</td>\n      <td>NaN</td>\n      <td>NaN</td>\n      <td>10.8</td>\n      <td>2021</td>\n      <td>NaN</td>\n      <td>NaN</td>\n      <td>NaN</td>\n      <td>NaN</td>\n      <td>NaN</td>\n      <td>NaN</td>\n      <td>NaN</td>\n      <td>NaN</td>\n      <td>NaN</td>\n      <td>NaN</td>\n      <td>NaN</td>\n      <td>NaN</td>\n    </tr>\n    <tr>\n      <th>4</th>\n      <td>11/25/2020</td>\n      <td>boston college</td>\n      <td>67</td>\n      <td>villanova</td>\n      <td>76</td>\n      <td>-14</td>\n      <td>-13.40</td>\n      <td>-13.53</td>\n      <td>-13.53</td>\n      <td>-13.53</td>\n      <td>-13.53</td>\n      <td>-14.79</td>\n      <td>-14</td>\n      <td>-16.65</td>\n      <td>-17.0</td>\n      <td>2.55</td>\n      <td>-13.88</td>\n      <td>-10.8</td>\n      <td>1.0</td>\n      <td>NaN</td>\n      <td>-10.34</td>\n      <td>NaN</td>\n      <td>NaN</td>\n      <td>NaN</td>\n      <td>NaN</td>\n      <td>NaN</td>\n      <td>NaN</td>\n      <td>-8.20</td>\n      <td>NaN</td>\n      <td>NaN</td>\n      <td>-15.0</td>\n      <td>2021</td>\n      <td>NaN</td>\n      <td>NaN</td>\n      <td>NaN</td>\n      <td>NaN</td>\n      <td>NaN</td>\n      <td>NaN</td>\n      <td>NaN</td>\n      <td>NaN</td>\n      <td>NaN</td>\n      <td>NaN</td>\n      <td>NaN</td>\n      <td>NaN</td>\n    </tr>\n  </tbody>\n</table>\n</div>"
     },
     "metadata": {},
     "execution_count": 39
    }
   ],
   "source": [
    "spread_df.head()"
   ]
  },
  {
   "source": [
    "Match Team IDs to data from NCAAM"
   ],
   "cell_type": "markdown",
   "metadata": {}
  },
  {
   "cell_type": "code",
   "execution_count": 40,
   "metadata": {},
   "outputs": [],
   "source": [
    "teams_df = pd.read_csv('C:/Users/FLUXNATURE/Desktop/New Kaggle world/NCAAM_stage_two_two/MDataFiles_Stage2/MTeamSpellings.csv', sep='\\,', engine='python')"
   ]
  },
  {
   "cell_type": "code",
   "execution_count": 41,
   "metadata": {},
   "outputs": [
    {
     "output_type": "execute_result",
     "data": {
      "text/plain": [
       "     TeamNameSpelling  TeamID\n",
       "0    a&m-corpus chris    1394\n",
       "1  a&m-corpus christi    1394\n",
       "2         abilene chr    1101"
      ],
      "text/html": "<div>\n<style scoped>\n    .dataframe tbody tr th:only-of-type {\n        vertical-align: middle;\n    }\n\n    .dataframe tbody tr th {\n        vertical-align: top;\n    }\n\n    .dataframe thead th {\n        text-align: right;\n    }\n</style>\n<table border=\"1\" class=\"dataframe\">\n  <thead>\n    <tr style=\"text-align: right;\">\n      <th></th>\n      <th>TeamNameSpelling</th>\n      <th>TeamID</th>\n    </tr>\n  </thead>\n  <tbody>\n    <tr>\n      <th>0</th>\n      <td>a&amp;m-corpus chris</td>\n      <td>1394</td>\n    </tr>\n    <tr>\n      <th>1</th>\n      <td>a&amp;m-corpus christi</td>\n      <td>1394</td>\n    </tr>\n    <tr>\n      <th>2</th>\n      <td>abilene chr</td>\n      <td>1101</td>\n    </tr>\n  </tbody>\n</table>\n</div>"
     },
     "metadata": {},
     "execution_count": 41
    }
   ],
   "source": [
    "teams_df.head(3)"
   ]
  },
  {
   "cell_type": "code",
   "execution_count": 42,
   "metadata": {},
   "outputs": [
    {
     "output_type": "execute_result",
     "data": {
      "text/plain": [
       "      TeamNameSpelling  TeamID\n",
       "1144  youngstown state    1464\n",
       "1145     youngstown-st    1464\n",
       "1146  youngstown-state    1464"
      ],
      "text/html": "<div>\n<style scoped>\n    .dataframe tbody tr th:only-of-type {\n        vertical-align: middle;\n    }\n\n    .dataframe tbody tr th {\n        vertical-align: top;\n    }\n\n    .dataframe thead th {\n        text-align: right;\n    }\n</style>\n<table border=\"1\" class=\"dataframe\">\n  <thead>\n    <tr style=\"text-align: right;\">\n      <th></th>\n      <th>TeamNameSpelling</th>\n      <th>TeamID</th>\n    </tr>\n  </thead>\n  <tbody>\n    <tr>\n      <th>1144</th>\n      <td>youngstown state</td>\n      <td>1464</td>\n    </tr>\n    <tr>\n      <th>1145</th>\n      <td>youngstown-st</td>\n      <td>1464</td>\n    </tr>\n    <tr>\n      <th>1146</th>\n      <td>youngstown-state</td>\n      <td>1464</td>\n    </tr>\n  </tbody>\n</table>\n</div>"
     },
     "metadata": {},
     "execution_count": 42
    }
   ],
   "source": [
    "teams_df.tail(3)"
   ]
  },
  {
   "cell_type": "code",
   "execution_count": 43,
   "metadata": {},
   "outputs": [],
   "source": [
    "team_list = ['home','road']\n",
    "for team in team_list:\n",
    "    spread_df = pd.merge(spread_df, teams_df, left_on=[team], right_on = ['TeamNameSpelling'], how='left')\n",
    "    if team=='home':\n",
    "        spread_df.rename(columns={'TeamID': 'HTeamID'}, inplace=True)\n",
    "    if team=='road':\n",
    "        spread_df.rename(columns={'TeamID': 'RTeamID'}, inplace=True)\n",
    "    spread_df = spread_df.drop(['TeamNameSpelling'], axis=1)"
   ]
  },
  {
   "source": [
    "mudifying home and road to team and score\n",
    "\n",
    "see implemetation below"
   ],
   "cell_type": "markdown",
   "metadata": {}
  },
  {
   "cell_type": "code",
   "execution_count": 44,
   "metadata": {},
   "outputs": [],
   "source": [
    "spread_df.loc[spread_df['hscore']>spread_df['rscore'], 'WTeamID'] = spread_df['HTeamID']\n",
    "spread_df.loc[spread_df['hscore']<spread_df['rscore'], 'LTeamID'] = spread_df['HTeamID']\n",
    "\n",
    "spread_df.loc[spread_df['hscore']>spread_df['rscore'], 'WScore'] = spread_df['hscore']\n",
    "spread_df.loc[spread_df['hscore']<spread_df['rscore'], 'LScore'] = spread_df['hscore']"
   ]
  },
  {
   "cell_type": "code",
   "execution_count": 45,
   "metadata": {},
   "outputs": [],
   "source": [
    "spread_df.loc[spread_df['rscore']>spread_df['hscore'], 'WTeamID'] = spread_df['RTeamID']\n",
    "spread_df.loc[spread_df['rscore']<spread_df['hscore'], 'LTeamID'] = spread_df['RTeamID']\n",
    "\n",
    "spread_df.loc[spread_df['rscore']>spread_df['hscore'], 'WScore'] = spread_df['rscore']\n",
    "spread_df.loc[spread_df['rscore']<spread_df['hscore'], 'LScore'] = spread_df['rscore']"
   ]
  },
  {
   "cell_type": "code",
   "execution_count": 46,
   "metadata": {},
   "outputs": [],
   "source": [
    "spread_df.replace([np.inf, -np.inf], np.nan).dropna(subset=['WTeamID','LTeamID','WScore','LScore','line'])\n",
    "spread_df = spread_df[spread_df['WScore'] != \".\"]\n",
    "spread_df = spread_df[spread_df['LScore'] != \".\"]\n",
    "spread_df = spread_df[spread_df['line'] != \".\"]"
   ]
  },
  {
   "cell_type": "code",
   "execution_count": 47,
   "metadata": {},
   "outputs": [
    {
     "output_type": "execute_result",
     "data": {
      "text/plain": [
       "3.5      1830\n",
       "2.5      1828\n",
       "3.0      1819\n",
       "5.5      1788\n",
       "5.0      1770\n",
       "         ... \n",
       "46.0        1\n",
       "26.5        1\n",
       "-17.0       1\n",
       "-37.0       1\n",
       "-32.5       1\n",
       "Name: line, Length: 273, dtype: int64"
      ]
     },
     "metadata": {},
     "execution_count": 47
    }
   ],
   "source": [
    "spread_df['line'].value_counts(dropna=False)"
   ]
  },
  {
   "cell_type": "code",
   "execution_count": 48,
   "metadata": {},
   "outputs": [],
   "source": [
    "#drop spreads with bad coverage\n",
    "spread_df = spread_df.drop(['line7ot','lineargh','lineash','lineashby','linedd','linedunk','lineer','linegreen','linemarkov','linemass','linepib','linepig','linepir','linepiw','linepom','lineprophet','linerpi','lineround','linesauce','lineseven','neutral','lineteamrnks','linetalis','lineespn','linemassey','linedonc','linesaggm','std','linepugh','linefox','linedok','lineopen'], axis=1)"
   ]
  },
  {
   "cell_type": "code",
   "execution_count": 49,
   "metadata": {},
   "outputs": [
    {
     "output_type": "execute_result",
     "data": {
      "text/plain": [
       "             date          home hscore          road rscore  line  lineavg  \\\n",
       "67700  03/30/2004      iowa st.     81       rutgers     84   2.0     1.22   \n",
       "67701  04/01/2004      michigan     62       rutgers     55   5.5     2.06   \n",
       "67702  04/03/2004          duke     78   connecticut     79  -2.0     2.85   \n",
       "67703  04/03/2004  oklahoma st.     67  georgia tech     67   4.5     2.05   \n",
       "67704  04/05/2004   connecticut     82  georgia tech     73   5.0     1.65   \n",
       "\n",
       "       linesag  linesage  linesagp linemoore  Season  HTeamID  RTeamID  \\\n",
       "67700     1.50      1.25      1.74      1.61    2004   1235.0   1353.0   \n",
       "67701     1.51      0.46      2.44      4.47    2004   1276.0   1353.0   \n",
       "67702     2.85      2.24      3.94      1.43    2004   1181.0   1163.0   \n",
       "67703     1.99      3.58      0.52      3.08    2004   1329.0   1210.0   \n",
       "67704     1.12      1.31      0.91      4.57    2004   1163.0   1210.0   \n",
       "\n",
       "       WTeamID  LTeamID WScore LScore  \n",
       "67700   1353.0   1235.0     84     81  \n",
       "67701   1276.0   1353.0     62     55  \n",
       "67702   1163.0   1181.0     79     78  \n",
       "67703      NaN      NaN    NaN    NaN  \n",
       "67704   1163.0   1210.0     82     73  "
      ],
      "text/html": "<div>\n<style scoped>\n    .dataframe tbody tr th:only-of-type {\n        vertical-align: middle;\n    }\n\n    .dataframe tbody tr th {\n        vertical-align: top;\n    }\n\n    .dataframe thead th {\n        text-align: right;\n    }\n</style>\n<table border=\"1\" class=\"dataframe\">\n  <thead>\n    <tr style=\"text-align: right;\">\n      <th></th>\n      <th>date</th>\n      <th>home</th>\n      <th>hscore</th>\n      <th>road</th>\n      <th>rscore</th>\n      <th>line</th>\n      <th>lineavg</th>\n      <th>linesag</th>\n      <th>linesage</th>\n      <th>linesagp</th>\n      <th>linemoore</th>\n      <th>Season</th>\n      <th>HTeamID</th>\n      <th>RTeamID</th>\n      <th>WTeamID</th>\n      <th>LTeamID</th>\n      <th>WScore</th>\n      <th>LScore</th>\n    </tr>\n  </thead>\n  <tbody>\n    <tr>\n      <th>67700</th>\n      <td>03/30/2004</td>\n      <td>iowa st.</td>\n      <td>81</td>\n      <td>rutgers</td>\n      <td>84</td>\n      <td>2.0</td>\n      <td>1.22</td>\n      <td>1.50</td>\n      <td>1.25</td>\n      <td>1.74</td>\n      <td>1.61</td>\n      <td>2004</td>\n      <td>1235.0</td>\n      <td>1353.0</td>\n      <td>1353.0</td>\n      <td>1235.0</td>\n      <td>84</td>\n      <td>81</td>\n    </tr>\n    <tr>\n      <th>67701</th>\n      <td>04/01/2004</td>\n      <td>michigan</td>\n      <td>62</td>\n      <td>rutgers</td>\n      <td>55</td>\n      <td>5.5</td>\n      <td>2.06</td>\n      <td>1.51</td>\n      <td>0.46</td>\n      <td>2.44</td>\n      <td>4.47</td>\n      <td>2004</td>\n      <td>1276.0</td>\n      <td>1353.0</td>\n      <td>1276.0</td>\n      <td>1353.0</td>\n      <td>62</td>\n      <td>55</td>\n    </tr>\n    <tr>\n      <th>67702</th>\n      <td>04/03/2004</td>\n      <td>duke</td>\n      <td>78</td>\n      <td>connecticut</td>\n      <td>79</td>\n      <td>-2.0</td>\n      <td>2.85</td>\n      <td>2.85</td>\n      <td>2.24</td>\n      <td>3.94</td>\n      <td>1.43</td>\n      <td>2004</td>\n      <td>1181.0</td>\n      <td>1163.0</td>\n      <td>1163.0</td>\n      <td>1181.0</td>\n      <td>79</td>\n      <td>78</td>\n    </tr>\n    <tr>\n      <th>67703</th>\n      <td>04/03/2004</td>\n      <td>oklahoma st.</td>\n      <td>67</td>\n      <td>georgia tech</td>\n      <td>67</td>\n      <td>4.5</td>\n      <td>2.05</td>\n      <td>1.99</td>\n      <td>3.58</td>\n      <td>0.52</td>\n      <td>3.08</td>\n      <td>2004</td>\n      <td>1329.0</td>\n      <td>1210.0</td>\n      <td>NaN</td>\n      <td>NaN</td>\n      <td>NaN</td>\n      <td>NaN</td>\n    </tr>\n    <tr>\n      <th>67704</th>\n      <td>04/05/2004</td>\n      <td>connecticut</td>\n      <td>82</td>\n      <td>georgia tech</td>\n      <td>73</td>\n      <td>5.0</td>\n      <td>1.65</td>\n      <td>1.12</td>\n      <td>1.31</td>\n      <td>0.91</td>\n      <td>4.57</td>\n      <td>2004</td>\n      <td>1163.0</td>\n      <td>1210.0</td>\n      <td>1163.0</td>\n      <td>1210.0</td>\n      <td>82</td>\n      <td>73</td>\n    </tr>\n  </tbody>\n</table>\n</div>"
     },
     "metadata": {},
     "execution_count": 49
    }
   ],
   "source": [
    "spread_df.tail()"
   ]
  },
  {
   "cell_type": "code",
   "execution_count": 50,
   "metadata": {},
   "outputs": [
    {
     "output_type": "execute_result",
     "data": {
      "text/plain": [
       "             date                  home hscore                road rscore  \\\n",
       "0             NaN     abilene christian     70  east tennessee st.     47   \n",
       "1      11/25/2020               alabama     81    jacksonville st.     57   \n",
       "2      11/25/2020              arkansas    142     miss valley st.     62   \n",
       "3      11/25/2020  arkansas-little rock     71        prairie view     66   \n",
       "4      11/25/2020        boston college     67           villanova     76   \n",
       "...           ...                   ...    ...                 ...    ...   \n",
       "67700  03/30/2004              iowa st.     81             rutgers     84   \n",
       "67701  04/01/2004              michigan     62             rutgers     55   \n",
       "67702  04/03/2004                  duke     78         connecticut     79   \n",
       "67703  04/03/2004          oklahoma st.     67        georgia tech     67   \n",
       "67704  04/05/2004           connecticut     82        georgia tech     73   \n",
       "\n",
       "       line  lineavg  linesag  linesage  linesagp linemoore  Season  HTeamID  \\\n",
       "0       6.5    -5.46    -7.34     -7.34     -7.34      1.46    2021   1101.0   \n",
       "1      20.5    17.53    16.94     16.94     16.94     19.64    2021   1104.0   \n",
       "2      36.5    31.78    30.21     30.21     30.21     29.45    2021   1116.0   \n",
       "3        14     7.70     7.31      7.31      7.31     11.05    2021   1114.0   \n",
       "4       -14   -13.40   -13.53    -13.53    -13.53    -14.79    2021   1130.0   \n",
       "...     ...      ...      ...       ...       ...       ...     ...      ...   \n",
       "67700   2.0     1.22     1.50      1.25      1.74      1.61    2004   1235.0   \n",
       "67701   5.5     2.06     1.51      0.46      2.44      4.47    2004   1276.0   \n",
       "67702  -2.0     2.85     2.85      2.24      3.94      1.43    2004   1181.0   \n",
       "67703   4.5     2.05     1.99      3.58      0.52      3.08    2004   1329.0   \n",
       "67704   5.0     1.65     1.12      1.31      0.91      4.57    2004   1163.0   \n",
       "\n",
       "       RTeamID  WTeamID  LTeamID WScore LScore  \n",
       "0       1190.0   1101.0   1190.0     70     47  \n",
       "1       1240.0   1104.0   1240.0     81     57  \n",
       "2       1290.0   1116.0   1290.0    142     62  \n",
       "3       1341.0   1114.0   1341.0     71     66  \n",
       "4       1437.0   1437.0   1130.0     76     67  \n",
       "...        ...      ...      ...    ...    ...  \n",
       "67700   1353.0   1353.0   1235.0     84     81  \n",
       "67701   1353.0   1276.0   1353.0     62     55  \n",
       "67702   1163.0   1163.0   1181.0     79     78  \n",
       "67703   1210.0      NaN      NaN    NaN    NaN  \n",
       "67704   1210.0   1163.0   1210.0     82     73  \n",
       "\n",
       "[67111 rows x 18 columns]"
      ],
      "text/html": "<div>\n<style scoped>\n    .dataframe tbody tr th:only-of-type {\n        vertical-align: middle;\n    }\n\n    .dataframe tbody tr th {\n        vertical-align: top;\n    }\n\n    .dataframe thead th {\n        text-align: right;\n    }\n</style>\n<table border=\"1\" class=\"dataframe\">\n  <thead>\n    <tr style=\"text-align: right;\">\n      <th></th>\n      <th>date</th>\n      <th>home</th>\n      <th>hscore</th>\n      <th>road</th>\n      <th>rscore</th>\n      <th>line</th>\n      <th>lineavg</th>\n      <th>linesag</th>\n      <th>linesage</th>\n      <th>linesagp</th>\n      <th>linemoore</th>\n      <th>Season</th>\n      <th>HTeamID</th>\n      <th>RTeamID</th>\n      <th>WTeamID</th>\n      <th>LTeamID</th>\n      <th>WScore</th>\n      <th>LScore</th>\n    </tr>\n  </thead>\n  <tbody>\n    <tr>\n      <th>0</th>\n      <td>NaN</td>\n      <td>abilene christian</td>\n      <td>70</td>\n      <td>east tennessee st.</td>\n      <td>47</td>\n      <td>6.5</td>\n      <td>-5.46</td>\n      <td>-7.34</td>\n      <td>-7.34</td>\n      <td>-7.34</td>\n      <td>1.46</td>\n      <td>2021</td>\n      <td>1101.0</td>\n      <td>1190.0</td>\n      <td>1101.0</td>\n      <td>1190.0</td>\n      <td>70</td>\n      <td>47</td>\n    </tr>\n    <tr>\n      <th>1</th>\n      <td>11/25/2020</td>\n      <td>alabama</td>\n      <td>81</td>\n      <td>jacksonville st.</td>\n      <td>57</td>\n      <td>20.5</td>\n      <td>17.53</td>\n      <td>16.94</td>\n      <td>16.94</td>\n      <td>16.94</td>\n      <td>19.64</td>\n      <td>2021</td>\n      <td>1104.0</td>\n      <td>1240.0</td>\n      <td>1104.0</td>\n      <td>1240.0</td>\n      <td>81</td>\n      <td>57</td>\n    </tr>\n    <tr>\n      <th>2</th>\n      <td>11/25/2020</td>\n      <td>arkansas</td>\n      <td>142</td>\n      <td>miss valley st.</td>\n      <td>62</td>\n      <td>36.5</td>\n      <td>31.78</td>\n      <td>30.21</td>\n      <td>30.21</td>\n      <td>30.21</td>\n      <td>29.45</td>\n      <td>2021</td>\n      <td>1116.0</td>\n      <td>1290.0</td>\n      <td>1116.0</td>\n      <td>1290.0</td>\n      <td>142</td>\n      <td>62</td>\n    </tr>\n    <tr>\n      <th>3</th>\n      <td>11/25/2020</td>\n      <td>arkansas-little rock</td>\n      <td>71</td>\n      <td>prairie view</td>\n      <td>66</td>\n      <td>14</td>\n      <td>7.70</td>\n      <td>7.31</td>\n      <td>7.31</td>\n      <td>7.31</td>\n      <td>11.05</td>\n      <td>2021</td>\n      <td>1114.0</td>\n      <td>1341.0</td>\n      <td>1114.0</td>\n      <td>1341.0</td>\n      <td>71</td>\n      <td>66</td>\n    </tr>\n    <tr>\n      <th>4</th>\n      <td>11/25/2020</td>\n      <td>boston college</td>\n      <td>67</td>\n      <td>villanova</td>\n      <td>76</td>\n      <td>-14</td>\n      <td>-13.40</td>\n      <td>-13.53</td>\n      <td>-13.53</td>\n      <td>-13.53</td>\n      <td>-14.79</td>\n      <td>2021</td>\n      <td>1130.0</td>\n      <td>1437.0</td>\n      <td>1437.0</td>\n      <td>1130.0</td>\n      <td>76</td>\n      <td>67</td>\n    </tr>\n    <tr>\n      <th>...</th>\n      <td>...</td>\n      <td>...</td>\n      <td>...</td>\n      <td>...</td>\n      <td>...</td>\n      <td>...</td>\n      <td>...</td>\n      <td>...</td>\n      <td>...</td>\n      <td>...</td>\n      <td>...</td>\n      <td>...</td>\n      <td>...</td>\n      <td>...</td>\n      <td>...</td>\n      <td>...</td>\n      <td>...</td>\n      <td>...</td>\n    </tr>\n    <tr>\n      <th>67700</th>\n      <td>03/30/2004</td>\n      <td>iowa st.</td>\n      <td>81</td>\n      <td>rutgers</td>\n      <td>84</td>\n      <td>2.0</td>\n      <td>1.22</td>\n      <td>1.50</td>\n      <td>1.25</td>\n      <td>1.74</td>\n      <td>1.61</td>\n      <td>2004</td>\n      <td>1235.0</td>\n      <td>1353.0</td>\n      <td>1353.0</td>\n      <td>1235.0</td>\n      <td>84</td>\n      <td>81</td>\n    </tr>\n    <tr>\n      <th>67701</th>\n      <td>04/01/2004</td>\n      <td>michigan</td>\n      <td>62</td>\n      <td>rutgers</td>\n      <td>55</td>\n      <td>5.5</td>\n      <td>2.06</td>\n      <td>1.51</td>\n      <td>0.46</td>\n      <td>2.44</td>\n      <td>4.47</td>\n      <td>2004</td>\n      <td>1276.0</td>\n      <td>1353.0</td>\n      <td>1276.0</td>\n      <td>1353.0</td>\n      <td>62</td>\n      <td>55</td>\n    </tr>\n    <tr>\n      <th>67702</th>\n      <td>04/03/2004</td>\n      <td>duke</td>\n      <td>78</td>\n      <td>connecticut</td>\n      <td>79</td>\n      <td>-2.0</td>\n      <td>2.85</td>\n      <td>2.85</td>\n      <td>2.24</td>\n      <td>3.94</td>\n      <td>1.43</td>\n      <td>2004</td>\n      <td>1181.0</td>\n      <td>1163.0</td>\n      <td>1163.0</td>\n      <td>1181.0</td>\n      <td>79</td>\n      <td>78</td>\n    </tr>\n    <tr>\n      <th>67703</th>\n      <td>04/03/2004</td>\n      <td>oklahoma st.</td>\n      <td>67</td>\n      <td>georgia tech</td>\n      <td>67</td>\n      <td>4.5</td>\n      <td>2.05</td>\n      <td>1.99</td>\n      <td>3.58</td>\n      <td>0.52</td>\n      <td>3.08</td>\n      <td>2004</td>\n      <td>1329.0</td>\n      <td>1210.0</td>\n      <td>NaN</td>\n      <td>NaN</td>\n      <td>NaN</td>\n      <td>NaN</td>\n    </tr>\n    <tr>\n      <th>67704</th>\n      <td>04/05/2004</td>\n      <td>connecticut</td>\n      <td>82</td>\n      <td>georgia tech</td>\n      <td>73</td>\n      <td>5.0</td>\n      <td>1.65</td>\n      <td>1.12</td>\n      <td>1.31</td>\n      <td>0.91</td>\n      <td>4.57</td>\n      <td>2004</td>\n      <td>1163.0</td>\n      <td>1210.0</td>\n      <td>1163.0</td>\n      <td>1210.0</td>\n      <td>82</td>\n      <td>73</td>\n    </tr>\n  </tbody>\n</table>\n<p>67111 rows × 18 columns</p>\n</div>"
     },
     "metadata": {},
     "execution_count": 50
    }
   ],
   "source": [
    "spread_df.dropna(subset=['line'])"
   ]
  },
  {
   "source": [
    "Write the data to a csv"
   ],
   "cell_type": "markdown",
   "metadata": {}
  },
  {
   "cell_type": "code",
   "execution_count": 51,
   "metadata": {},
   "outputs": [],
   "source": [
    "spread_df.to_csv('spreads_all.csv', index=False)"
   ]
  },
  {
   "cell_type": "code",
   "execution_count": null,
   "metadata": {},
   "outputs": [],
   "source": []
  }
 ]
}
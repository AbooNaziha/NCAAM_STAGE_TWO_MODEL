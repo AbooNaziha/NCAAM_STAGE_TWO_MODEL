{
 "metadata": {
  "language_info": {
   "codemirror_mode": {
    "name": "ipython",
    "version": 3
   },
   "file_extension": ".py",
   "mimetype": "text/x-python",
   "name": "python",
   "nbconvert_exporter": "python",
   "pygments_lexer": "ipython3",
   "version": "3.7.7-final"
  },
  "orig_nbformat": 2,
  "kernelspec": {
   "name": "python3",
   "display_name": "Python 3.7.7 64-bit ('tf': conda)",
   "metadata": {
    "interpreter": {
     "hash": "1b4bd66619e1f63a2810c0f91c748d47860e139f5a175a9a480ebd9d4456bd5e"
    }
   }
  }
 },
 "nbformat": 4,
 "nbformat_minor": 2,
 "cells": [
  {
   "cell_type": "code",
   "execution_count": 173,
   "metadata": {},
   "outputs": [],
   "source": [
    "import os\n",
    "import re\n",
    "import sklearn\n",
    "import numpy as np \n",
    "import pandas as pd\n",
    "import seaborn as sns\n",
    "import matplotlib.pyplot as plt\n",
    "from collections import Counter\n",
    "from sklearn.metrics import *\n",
    "from sklearn.linear_model import *\n",
    "from sklearn.model_selection import *\n",
    "\n",
    "pd.set_option('display.max_columns', None)"
   ]
  },
  {
   "cell_type": "code",
   "execution_count": 174,
   "metadata": {},
   "outputs": [
    {
     "output_type": "execute_result",
     "data": {
      "text/plain": [
       "   is_tourney  Season  HTeamID  RTeamID  Hwin\n",
       "0         0.0    2004   1113.0   1168.0     1\n",
       "1         0.0    2004   1337.0   1168.0     0\n",
       "2         0.0    2004   1414.0   1168.0     1\n",
       "3         0.0    2004   1142.0   1168.0     1\n",
       "4         0.0    2004   1429.0   1168.0     1"
      ],
      "text/html": "<div>\n<style scoped>\n    .dataframe tbody tr th:only-of-type {\n        vertical-align: middle;\n    }\n\n    .dataframe tbody tr th {\n        vertical-align: top;\n    }\n\n    .dataframe thead th {\n        text-align: right;\n    }\n</style>\n<table border=\"1\" class=\"dataframe\">\n  <thead>\n    <tr style=\"text-align: right;\">\n      <th></th>\n      <th>is_tourney</th>\n      <th>Season</th>\n      <th>HTeamID</th>\n      <th>RTeamID</th>\n      <th>Hwin</th>\n    </tr>\n  </thead>\n  <tbody>\n    <tr>\n      <th>0</th>\n      <td>0.0</td>\n      <td>2004</td>\n      <td>1113.0</td>\n      <td>1168.0</td>\n      <td>1</td>\n    </tr>\n    <tr>\n      <th>1</th>\n      <td>0.0</td>\n      <td>2004</td>\n      <td>1337.0</td>\n      <td>1168.0</td>\n      <td>0</td>\n    </tr>\n    <tr>\n      <th>2</th>\n      <td>0.0</td>\n      <td>2004</td>\n      <td>1414.0</td>\n      <td>1168.0</td>\n      <td>1</td>\n    </tr>\n    <tr>\n      <th>3</th>\n      <td>0.0</td>\n      <td>2004</td>\n      <td>1142.0</td>\n      <td>1168.0</td>\n      <td>1</td>\n    </tr>\n    <tr>\n      <th>4</th>\n      <td>0.0</td>\n      <td>2004</td>\n      <td>1429.0</td>\n      <td>1168.0</td>\n      <td>1</td>\n    </tr>\n  </tbody>\n</table>\n</div>"
     },
     "metadata": {},
     "execution_count": 174
    }
   ],
   "source": [
    "all_games_df = pd.read_csv('all_games_df.csv')\n",
    "all_games_df = all_games_df[['is_tourney','Season','HTeamID','RTeamID','Hwin']]\n",
    "all_games_df.head()"
   ]
  },
  {
   "cell_type": "code",
   "execution_count": 175,
   "metadata": {},
   "outputs": [
    {
     "output_type": "execute_result",
     "data": {
      "text/plain": [
       "       is_tourney  Season  HTeamID  RTeamID  Hwin\n",
       "71322         0.0    2021   1259.0   1248.0     1\n",
       "71323         0.0    2021   1259.0   1248.0     1\n",
       "71324         0.0    2021   1259.0   1248.0     1\n",
       "71325         0.0    2021   1259.0   1248.0     1\n",
       "71326         0.0    2021   1259.0   1248.0     1"
      ],
      "text/html": "<div>\n<style scoped>\n    .dataframe tbody tr th:only-of-type {\n        vertical-align: middle;\n    }\n\n    .dataframe tbody tr th {\n        vertical-align: top;\n    }\n\n    .dataframe thead th {\n        text-align: right;\n    }\n</style>\n<table border=\"1\" class=\"dataframe\">\n  <thead>\n    <tr style=\"text-align: right;\">\n      <th></th>\n      <th>is_tourney</th>\n      <th>Season</th>\n      <th>HTeamID</th>\n      <th>RTeamID</th>\n      <th>Hwin</th>\n    </tr>\n  </thead>\n  <tbody>\n    <tr>\n      <th>71322</th>\n      <td>0.0</td>\n      <td>2021</td>\n      <td>1259.0</td>\n      <td>1248.0</td>\n      <td>1</td>\n    </tr>\n    <tr>\n      <th>71323</th>\n      <td>0.0</td>\n      <td>2021</td>\n      <td>1259.0</td>\n      <td>1248.0</td>\n      <td>1</td>\n    </tr>\n    <tr>\n      <th>71324</th>\n      <td>0.0</td>\n      <td>2021</td>\n      <td>1259.0</td>\n      <td>1248.0</td>\n      <td>1</td>\n    </tr>\n    <tr>\n      <th>71325</th>\n      <td>0.0</td>\n      <td>2021</td>\n      <td>1259.0</td>\n      <td>1248.0</td>\n      <td>1</td>\n    </tr>\n    <tr>\n      <th>71326</th>\n      <td>0.0</td>\n      <td>2021</td>\n      <td>1259.0</td>\n      <td>1248.0</td>\n      <td>1</td>\n    </tr>\n  </tbody>\n</table>\n</div>"
     },
     "metadata": {},
     "execution_count": 175
    }
   ],
   "source": [
    "all_games_df.tail()"
   ]
  },
  {
   "cell_type": "code",
   "execution_count": 176,
   "metadata": {},
   "outputs": [
    {
     "output_type": "execute_result",
     "data": {
      "text/plain": [
       "                     team  conf  adjem   adjo   adjd   luck  Season  TeamID\n",
       "0                 gonzaga   WCC  36.62  126.1   89.5  0.018    2021  1211.0\n",
       "1                michigan   B10  30.79  119.4   88.6  0.026    2021  1276.0\n",
       "2                illinois   B10  30.61  119.0   88.3  0.030    2021  1228.0\n",
       "3                  baylor   B12  29.50  123.3   93.8  0.050    2021  1124.0\n",
       "4                    iowa   B10  28.90  123.5   94.6 -0.028    2021  1234.0\n",
       "...                   ...   ...    ...    ...    ...    ...     ...     ...\n",
       "6862         nicholls st.  Slnd -26.22   87.1  113.3 -0.070    2002  1311.0\n",
       "6863  arkansas pine bluff  SWAC -28.85   82.2  111.1 -0.014    2002     NaN\n",
       "6864     mount st. mary's   NEC -29.36   85.1  114.5  0.019    2002  1291.0\n",
       "6865         morris brown   ind -29.95   85.1  115.1  0.044    2002  1289.0\n",
       "6866         savannah st.   ind -31.15   78.1  109.2 -0.021    2002  1366.0\n",
       "\n",
       "[6867 rows x 8 columns]"
      ],
      "text/html": "<div>\n<style scoped>\n    .dataframe tbody tr th:only-of-type {\n        vertical-align: middle;\n    }\n\n    .dataframe tbody tr th {\n        vertical-align: top;\n    }\n\n    .dataframe thead th {\n        text-align: right;\n    }\n</style>\n<table border=\"1\" class=\"dataframe\">\n  <thead>\n    <tr style=\"text-align: right;\">\n      <th></th>\n      <th>team</th>\n      <th>conf</th>\n      <th>adjem</th>\n      <th>adjo</th>\n      <th>adjd</th>\n      <th>luck</th>\n      <th>Season</th>\n      <th>TeamID</th>\n    </tr>\n  </thead>\n  <tbody>\n    <tr>\n      <th>0</th>\n      <td>gonzaga</td>\n      <td>WCC</td>\n      <td>36.62</td>\n      <td>126.1</td>\n      <td>89.5</td>\n      <td>0.018</td>\n      <td>2021</td>\n      <td>1211.0</td>\n    </tr>\n    <tr>\n      <th>1</th>\n      <td>michigan</td>\n      <td>B10</td>\n      <td>30.79</td>\n      <td>119.4</td>\n      <td>88.6</td>\n      <td>0.026</td>\n      <td>2021</td>\n      <td>1276.0</td>\n    </tr>\n    <tr>\n      <th>2</th>\n      <td>illinois</td>\n      <td>B10</td>\n      <td>30.61</td>\n      <td>119.0</td>\n      <td>88.3</td>\n      <td>0.030</td>\n      <td>2021</td>\n      <td>1228.0</td>\n    </tr>\n    <tr>\n      <th>3</th>\n      <td>baylor</td>\n      <td>B12</td>\n      <td>29.50</td>\n      <td>123.3</td>\n      <td>93.8</td>\n      <td>0.050</td>\n      <td>2021</td>\n      <td>1124.0</td>\n    </tr>\n    <tr>\n      <th>4</th>\n      <td>iowa</td>\n      <td>B10</td>\n      <td>28.90</td>\n      <td>123.5</td>\n      <td>94.6</td>\n      <td>-0.028</td>\n      <td>2021</td>\n      <td>1234.0</td>\n    </tr>\n    <tr>\n      <th>...</th>\n      <td>...</td>\n      <td>...</td>\n      <td>...</td>\n      <td>...</td>\n      <td>...</td>\n      <td>...</td>\n      <td>...</td>\n      <td>...</td>\n    </tr>\n    <tr>\n      <th>6862</th>\n      <td>nicholls st.</td>\n      <td>Slnd</td>\n      <td>-26.22</td>\n      <td>87.1</td>\n      <td>113.3</td>\n      <td>-0.070</td>\n      <td>2002</td>\n      <td>1311.0</td>\n    </tr>\n    <tr>\n      <th>6863</th>\n      <td>arkansas pine bluff</td>\n      <td>SWAC</td>\n      <td>-28.85</td>\n      <td>82.2</td>\n      <td>111.1</td>\n      <td>-0.014</td>\n      <td>2002</td>\n      <td>NaN</td>\n    </tr>\n    <tr>\n      <th>6864</th>\n      <td>mount st. mary's</td>\n      <td>NEC</td>\n      <td>-29.36</td>\n      <td>85.1</td>\n      <td>114.5</td>\n      <td>0.019</td>\n      <td>2002</td>\n      <td>1291.0</td>\n    </tr>\n    <tr>\n      <th>6865</th>\n      <td>morris brown</td>\n      <td>ind</td>\n      <td>-29.95</td>\n      <td>85.1</td>\n      <td>115.1</td>\n      <td>0.044</td>\n      <td>2002</td>\n      <td>1289.0</td>\n    </tr>\n    <tr>\n      <th>6866</th>\n      <td>savannah st.</td>\n      <td>ind</td>\n      <td>-31.15</td>\n      <td>78.1</td>\n      <td>109.2</td>\n      <td>-0.021</td>\n      <td>2002</td>\n      <td>1366.0</td>\n    </tr>\n  </tbody>\n</table>\n<p>6867 rows × 8 columns</p>\n</div>"
     },
     "metadata": {},
     "execution_count": 176
    }
   ],
   "source": [
    "kp_df = pd.read_csv('kp_all.csv')\n",
    "kp_df.sort_index()"
   ]
  },
  {
   "cell_type": "code",
   "execution_count": 177,
   "metadata": {},
   "outputs": [
    {
     "output_type": "execute_result",
     "data": {
      "text/plain": [
       "   TeamID  Season  wins_top25  PointMargin        FG       FG3\n",
       "0    1101    2014           0   -15.476190  0.410184  0.380275\n",
       "1    1101    2015           0   -10.857143  0.407501  0.381507\n",
       "2    1101    2016           0    -6.407407  0.442606  0.364517\n",
       "3    1101    2017           0    -4.760000  0.457867  0.371026\n",
       "4    1101    2018           0    -2.148148  0.452366  0.327240"
      ],
      "text/html": "<div>\n<style scoped>\n    .dataframe tbody tr th:only-of-type {\n        vertical-align: middle;\n    }\n\n    .dataframe tbody tr th {\n        vertical-align: top;\n    }\n\n    .dataframe thead th {\n        text-align: right;\n    }\n</style>\n<table border=\"1\" class=\"dataframe\">\n  <thead>\n    <tr style=\"text-align: right;\">\n      <th></th>\n      <th>TeamID</th>\n      <th>Season</th>\n      <th>wins_top25</th>\n      <th>PointMargin</th>\n      <th>FG</th>\n      <th>FG3</th>\n    </tr>\n  </thead>\n  <tbody>\n    <tr>\n      <th>0</th>\n      <td>1101</td>\n      <td>2014</td>\n      <td>0</td>\n      <td>-15.476190</td>\n      <td>0.410184</td>\n      <td>0.380275</td>\n    </tr>\n    <tr>\n      <th>1</th>\n      <td>1101</td>\n      <td>2015</td>\n      <td>0</td>\n      <td>-10.857143</td>\n      <td>0.407501</td>\n      <td>0.381507</td>\n    </tr>\n    <tr>\n      <th>2</th>\n      <td>1101</td>\n      <td>2016</td>\n      <td>0</td>\n      <td>-6.407407</td>\n      <td>0.442606</td>\n      <td>0.364517</td>\n    </tr>\n    <tr>\n      <th>3</th>\n      <td>1101</td>\n      <td>2017</td>\n      <td>0</td>\n      <td>-4.760000</td>\n      <td>0.457867</td>\n      <td>0.371026</td>\n    </tr>\n    <tr>\n      <th>4</th>\n      <td>1101</td>\n      <td>2018</td>\n      <td>0</td>\n      <td>-2.148148</td>\n      <td>0.452366</td>\n      <td>0.327240</td>\n    </tr>\n  </tbody>\n</table>\n</div>"
     },
     "metadata": {},
     "execution_count": 177
    }
   ],
   "source": [
    "regseason_df = pd.read_csv('regseason_df.csv')\n",
    "regseason_df  = regseason_df[['TeamID','Season','wins_top25','PointMargin','FG','FG3']]\n",
    "regseason_df.head()"
   ]
  },
  {
   "cell_type": "code",
   "execution_count": 178,
   "metadata": {},
   "outputs": [
    {
     "output_type": "execute_result",
     "data": {
      "text/plain": [
       "      TeamID  Season  wins_top25  PointMargin        FG       FG3\n",
       "6529    1467    2021           0    -0.388889  0.448842  0.313038\n",
       "6530    1468    2021           0     4.277778  0.500646  0.366353\n",
       "6531    1469    2021           0   -10.578947  0.403965  0.285279\n",
       "6532    1470    2021           0    -4.266667  0.432487  0.361324\n",
       "6533    1471    2021           0    -7.928571  0.459440  0.372476"
      ],
      "text/html": "<div>\n<style scoped>\n    .dataframe tbody tr th:only-of-type {\n        vertical-align: middle;\n    }\n\n    .dataframe tbody tr th {\n        vertical-align: top;\n    }\n\n    .dataframe thead th {\n        text-align: right;\n    }\n</style>\n<table border=\"1\" class=\"dataframe\">\n  <thead>\n    <tr style=\"text-align: right;\">\n      <th></th>\n      <th>TeamID</th>\n      <th>Season</th>\n      <th>wins_top25</th>\n      <th>PointMargin</th>\n      <th>FG</th>\n      <th>FG3</th>\n    </tr>\n  </thead>\n  <tbody>\n    <tr>\n      <th>6529</th>\n      <td>1467</td>\n      <td>2021</td>\n      <td>0</td>\n      <td>-0.388889</td>\n      <td>0.448842</td>\n      <td>0.313038</td>\n    </tr>\n    <tr>\n      <th>6530</th>\n      <td>1468</td>\n      <td>2021</td>\n      <td>0</td>\n      <td>4.277778</td>\n      <td>0.500646</td>\n      <td>0.366353</td>\n    </tr>\n    <tr>\n      <th>6531</th>\n      <td>1469</td>\n      <td>2021</td>\n      <td>0</td>\n      <td>-10.578947</td>\n      <td>0.403965</td>\n      <td>0.285279</td>\n    </tr>\n    <tr>\n      <th>6532</th>\n      <td>1470</td>\n      <td>2021</td>\n      <td>0</td>\n      <td>-4.266667</td>\n      <td>0.432487</td>\n      <td>0.361324</td>\n    </tr>\n    <tr>\n      <th>6533</th>\n      <td>1471</td>\n      <td>2021</td>\n      <td>0</td>\n      <td>-7.928571</td>\n      <td>0.459440</td>\n      <td>0.372476</td>\n    </tr>\n  </tbody>\n</table>\n</div>"
     },
     "metadata": {},
     "execution_count": 178
    }
   ],
   "source": [
    "regseason_df.tail()"
   ]
  },
  {
   "cell_type": "code",
   "execution_count": 179,
   "metadata": {},
   "outputs": [
    {
     "output_type": "stream",
     "name": "stderr",
     "text": [
      "C:\\Users\\FLUXNATURE\\Anaconda3\\envs\\tf\\lib\\site-packages\\pandas\\core\\frame.py:4133: SettingWithCopyWarning: \nA value is trying to be set on a copy of a slice from a DataFrame\n\nSee the caveats in the documentation: https://pandas.pydata.org/pandas-docs/stable/user_guide/indexing.html#returning-a-view-versus-a-copy\n  errors=errors,\n"
     ]
    },
    {
     "output_type": "execute_result",
     "data": {
      "text/plain": [
       "        Season  TeamID  RankPOM\n",
       "392714    2005    1102       54\n",
       "392715    2005    1103       75\n",
       "392716    2005    1104       18\n",
       "392717    2005    1105      291\n",
       "392718    2005    1106      300"
      ],
      "text/html": "<div>\n<style scoped>\n    .dataframe tbody tr th:only-of-type {\n        vertical-align: middle;\n    }\n\n    .dataframe tbody tr th {\n        vertical-align: top;\n    }\n\n    .dataframe thead th {\n        text-align: right;\n    }\n</style>\n<table border=\"1\" class=\"dataframe\">\n  <thead>\n    <tr style=\"text-align: right;\">\n      <th></th>\n      <th>Season</th>\n      <th>TeamID</th>\n      <th>RankPOM</th>\n    </tr>\n  </thead>\n  <tbody>\n    <tr>\n      <th>392714</th>\n      <td>2005</td>\n      <td>1102</td>\n      <td>54</td>\n    </tr>\n    <tr>\n      <th>392715</th>\n      <td>2005</td>\n      <td>1103</td>\n      <td>75</td>\n    </tr>\n    <tr>\n      <th>392716</th>\n      <td>2005</td>\n      <td>1104</td>\n      <td>18</td>\n    </tr>\n    <tr>\n      <th>392717</th>\n      <td>2005</td>\n      <td>1105</td>\n      <td>291</td>\n    </tr>\n    <tr>\n      <th>392718</th>\n      <td>2005</td>\n      <td>1106</td>\n      <td>300</td>\n    </tr>\n  </tbody>\n</table>\n</div>"
     },
     "metadata": {},
     "execution_count": 179
    }
   ],
   "source": [
    "massey_df = pd.read_csv('C:/Users/FLUXNATURE/Desktop/New Kaggle world/NCAAM_stage_two_two/MDataFiles_Stage2/MMasseyOrdinals.csv')\n",
    "POM_df = massey_df[massey_df['SystemName'].str.contains(\"POM\")]\n",
    "POM_end_df = POM_df.loc[POM_df['RankingDayNum'] == 128]\n",
    "POM_end_df.rename(columns={'OrdinalRank': 'RankPOM'}, inplace=True)\n",
    "POM_end_df = POM_end_df[['Season','TeamID','RankPOM']]\n",
    "POM_end_df.head()"
   ]
  },
  {
   "cell_type": "code",
   "execution_count": 180,
   "metadata": {},
   "outputs": [
    {
     "output_type": "execute_result",
     "data": {
      "text/plain": [
       "         Season  TeamID  RankPOM\n",
       "4317029    2021    1467      273\n",
       "4317030    2021    1468      177\n",
       "4317031    2021    1469      323\n",
       "4317032    2021    1470      262\n",
       "4317033    2021    1471      231"
      ],
      "text/html": "<div>\n<style scoped>\n    .dataframe tbody tr th:only-of-type {\n        vertical-align: middle;\n    }\n\n    .dataframe tbody tr th {\n        vertical-align: top;\n    }\n\n    .dataframe thead th {\n        text-align: right;\n    }\n</style>\n<table border=\"1\" class=\"dataframe\">\n  <thead>\n    <tr style=\"text-align: right;\">\n      <th></th>\n      <th>Season</th>\n      <th>TeamID</th>\n      <th>RankPOM</th>\n    </tr>\n  </thead>\n  <tbody>\n    <tr>\n      <th>4317029</th>\n      <td>2021</td>\n      <td>1467</td>\n      <td>273</td>\n    </tr>\n    <tr>\n      <th>4317030</th>\n      <td>2021</td>\n      <td>1468</td>\n      <td>177</td>\n    </tr>\n    <tr>\n      <th>4317031</th>\n      <td>2021</td>\n      <td>1469</td>\n      <td>323</td>\n    </tr>\n    <tr>\n      <th>4317032</th>\n      <td>2021</td>\n      <td>1470</td>\n      <td>262</td>\n    </tr>\n    <tr>\n      <th>4317033</th>\n      <td>2021</td>\n      <td>1471</td>\n      <td>231</td>\n    </tr>\n  </tbody>\n</table>\n</div>"
     },
     "metadata": {},
     "execution_count": 180
    }
   ],
   "source": [
    "POM_end_df.tail()"
   ]
  },
  {
   "source": [
    "Create test data set"
   ],
   "cell_type": "markdown",
   "metadata": {}
  },
  {
   "cell_type": "code",
   "execution_count": 181,
   "metadata": {},
   "outputs": [
    {
     "output_type": "execute_result",
     "data": {
      "text/plain": [
       "      Season              ID  HTeamID  RTeamID  HSeed  RSeed  is_tourney\n",
       "2       2021  2021_1276_1400   1276.0   1400.0    1.0    3.0           1\n",
       "8       2021  2021_1276_1382   1276.0   1382.0    1.0    9.0           1\n",
       "10      2021  2021_1276_1277   1276.0   1277.0    1.0   11.0           1\n",
       "11      2021  2021_1276_1417   1276.0   1417.0    1.0   11.0           1\n",
       "13      2021  2021_1276_1422   1276.0   1422.0    1.0   13.0           1\n",
       "...      ...             ...      ...      ...    ...    ...         ...\n",
       "4617    2021  2021_1216_1439   1439.0   1216.0   10.0   16.0           1\n",
       "4618    2021  2021_1216_1429   1429.0   1216.0   11.0   16.0           1\n",
       "4619    2021  2021_1216_1457   1457.0   1216.0   12.0   16.0           1\n",
       "4620    2021  2021_1216_1317   1317.0   1216.0   13.0   16.0           1\n",
       "4622    2021  2021_1216_1331   1331.0   1216.0   15.0   16.0           1\n",
       "\n",
       "[2278 rows x 7 columns]"
      ],
      "text/html": "<div>\n<style scoped>\n    .dataframe tbody tr th:only-of-type {\n        vertical-align: middle;\n    }\n\n    .dataframe tbody tr th {\n        vertical-align: top;\n    }\n\n    .dataframe thead th {\n        text-align: right;\n    }\n</style>\n<table border=\"1\" class=\"dataframe\">\n  <thead>\n    <tr style=\"text-align: right;\">\n      <th></th>\n      <th>Season</th>\n      <th>ID</th>\n      <th>HTeamID</th>\n      <th>RTeamID</th>\n      <th>HSeed</th>\n      <th>RSeed</th>\n      <th>is_tourney</th>\n    </tr>\n  </thead>\n  <tbody>\n    <tr>\n      <th>2</th>\n      <td>2021</td>\n      <td>2021_1276_1400</td>\n      <td>1276.0</td>\n      <td>1400.0</td>\n      <td>1.0</td>\n      <td>3.0</td>\n      <td>1</td>\n    </tr>\n    <tr>\n      <th>8</th>\n      <td>2021</td>\n      <td>2021_1276_1382</td>\n      <td>1276.0</td>\n      <td>1382.0</td>\n      <td>1.0</td>\n      <td>9.0</td>\n      <td>1</td>\n    </tr>\n    <tr>\n      <th>10</th>\n      <td>2021</td>\n      <td>2021_1276_1277</td>\n      <td>1276.0</td>\n      <td>1277.0</td>\n      <td>1.0</td>\n      <td>11.0</td>\n      <td>1</td>\n    </tr>\n    <tr>\n      <th>11</th>\n      <td>2021</td>\n      <td>2021_1276_1417</td>\n      <td>1276.0</td>\n      <td>1417.0</td>\n      <td>1.0</td>\n      <td>11.0</td>\n      <td>1</td>\n    </tr>\n    <tr>\n      <th>13</th>\n      <td>2021</td>\n      <td>2021_1276_1422</td>\n      <td>1276.0</td>\n      <td>1422.0</td>\n      <td>1.0</td>\n      <td>13.0</td>\n      <td>1</td>\n    </tr>\n    <tr>\n      <th>...</th>\n      <td>...</td>\n      <td>...</td>\n      <td>...</td>\n      <td>...</td>\n      <td>...</td>\n      <td>...</td>\n      <td>...</td>\n    </tr>\n    <tr>\n      <th>4617</th>\n      <td>2021</td>\n      <td>2021_1216_1439</td>\n      <td>1439.0</td>\n      <td>1216.0</td>\n      <td>10.0</td>\n      <td>16.0</td>\n      <td>1</td>\n    </tr>\n    <tr>\n      <th>4618</th>\n      <td>2021</td>\n      <td>2021_1216_1429</td>\n      <td>1429.0</td>\n      <td>1216.0</td>\n      <td>11.0</td>\n      <td>16.0</td>\n      <td>1</td>\n    </tr>\n    <tr>\n      <th>4619</th>\n      <td>2021</td>\n      <td>2021_1216_1457</td>\n      <td>1457.0</td>\n      <td>1216.0</td>\n      <td>12.0</td>\n      <td>16.0</td>\n      <td>1</td>\n    </tr>\n    <tr>\n      <th>4620</th>\n      <td>2021</td>\n      <td>2021_1216_1317</td>\n      <td>1317.0</td>\n      <td>1216.0</td>\n      <td>13.0</td>\n      <td>16.0</td>\n      <td>1</td>\n    </tr>\n    <tr>\n      <th>4622</th>\n      <td>2021</td>\n      <td>2021_1216_1331</td>\n      <td>1331.0</td>\n      <td>1216.0</td>\n      <td>15.0</td>\n      <td>16.0</td>\n      <td>1</td>\n    </tr>\n  </tbody>\n</table>\n<p>2278 rows × 7 columns</p>\n</div>"
     },
     "metadata": {},
     "execution_count": 181
    }
   ],
   "source": [
    "#Test set (this sets the data up in the format Kaggle needs for scoring)\n",
    "df_seeds = pd.read_csv('C:/Users/FLUXNATURE/Desktop/New Kaggle world/NCAAM_stage_two_two/MDataFiles_Stage2/MNCAATourneySeeds.csv')\n",
    "df_seeds = df_seeds[df_seeds['Season']==2021]\n",
    "df_19_tourney = df_seeds.merge(df_seeds, how='inner', on='Season')\n",
    "df_19_tourney = df_19_tourney[df_19_tourney['TeamID_x'] < df_19_tourney['TeamID_y']]\n",
    "df_19_tourney['ID'] = df_19_tourney['Season'].astype(str) + '_' \\\n",
    "              + df_19_tourney['TeamID_x'].astype(str) + '_' \\\n",
    "              + df_19_tourney['TeamID_y'].astype(str)\n",
    "df_19_tourney['SeedInt_x'] = [int(x[1:3]) for x in df_19_tourney['Seed_x']]\n",
    "df_19_tourney['SeedInt_y'] = [int(x[1:3]) for x in df_19_tourney['Seed_y']]\n",
    "\n",
    "#Make home team lower seed (consistent with training data)\n",
    "df_19_tourney.loc[df_19_tourney['SeedInt_x']<df_19_tourney['SeedInt_y'], 'HTeamID'] = df_19_tourney['TeamID_x']\n",
    "df_19_tourney.loc[df_19_tourney['SeedInt_x']>df_19_tourney['SeedInt_y'], 'HTeamID'] = df_19_tourney['TeamID_y']\n",
    "df_19_tourney.loc[df_19_tourney['SeedInt_x']<df_19_tourney['SeedInt_y'], 'RTeamID'] = df_19_tourney['TeamID_y']\n",
    "df_19_tourney.loc[df_19_tourney['SeedInt_x']>df_19_tourney['SeedInt_y'], 'RTeamID'] = df_19_tourney['TeamID_x']\n",
    "df_19_tourney.loc[df_19_tourney['SeedInt_x']==df_19_tourney['SeedInt_y'], 'HTeamID'] = df_19_tourney['TeamID_x']\n",
    "df_19_tourney.loc[df_19_tourney['SeedInt_x']==df_19_tourney['SeedInt_y'], 'RTeamID'] = df_19_tourney['TeamID_y']\n",
    "\n",
    "df_19_tourney.loc[df_19_tourney['SeedInt_x']<df_19_tourney['SeedInt_y'], 'HSeed'] = df_19_tourney['SeedInt_x']\n",
    "df_19_tourney.loc[df_19_tourney['SeedInt_x']>df_19_tourney['SeedInt_y'], 'HSeed'] = df_19_tourney['SeedInt_y']\n",
    "df_19_tourney.loc[df_19_tourney['SeedInt_x']<df_19_tourney['SeedInt_y'], 'RSeed'] = df_19_tourney['SeedInt_y']\n",
    "df_19_tourney.loc[df_19_tourney['SeedInt_x']>df_19_tourney['SeedInt_y'], 'RSeed'] = df_19_tourney['SeedInt_x']\n",
    "df_19_tourney.loc[df_19_tourney['SeedInt_x']==df_19_tourney['SeedInt_y'], 'HSeed'] = df_19_tourney['SeedInt_x']\n",
    "df_19_tourney.loc[df_19_tourney['SeedInt_x']==df_19_tourney['SeedInt_y'], 'RSeed'] = df_19_tourney['SeedInt_y']\n",
    "\n",
    "df_19_tourney['is_tourney'] = 1\n",
    "\n",
    "df_19_tourney = df_19_tourney.drop(['Seed_x','Seed_y','TeamID_x','TeamID_y','SeedInt_x','SeedInt_y'], axis=1)\n",
    "df_19_tourney.sort_index()\n"
   ]
  },
  {
   "cell_type": "code",
   "execution_count": 182,
   "metadata": {},
   "outputs": [],
   "source": [
    "home_road = ['H','R']\n",
    "for hr in home_road:\n",
    "    df_19_tourney = pd.merge(df_19_tourney, regseason_df, left_on=['Season',hr+'TeamID'], right_on = ['Season','TeamID'], how='left')\n",
    "    df_19_tourney.rename(columns={'wins_top25': hr+'wins_top25'}, inplace=True)\n",
    "    df_19_tourney.rename(columns={'PointMargin': hr+'PointMargin'}, inplace=True)\n",
    "    df_19_tourney.rename(columns={'FG': hr+'FG'}, inplace=True)\n",
    "    df_19_tourney.rename(columns={'FG3': hr+'FG3'}, inplace=True)\n",
    "    df_19_tourney = df_19_tourney.drop(['TeamID'], axis=1)"
   ]
  },
  {
   "cell_type": "code",
   "execution_count": 183,
   "metadata": {},
   "outputs": [
    {
     "output_type": "execute_result",
     "data": {
      "text/plain": [
       "      Season              ID  HTeamID  RTeamID  HSeed  RSeed  is_tourney  \\\n",
       "2273    2021  2021_1216_1439   1439.0   1216.0   10.0   16.0           1   \n",
       "2274    2021  2021_1216_1429   1429.0   1216.0   11.0   16.0           1   \n",
       "2275    2021  2021_1216_1457   1457.0   1216.0   12.0   16.0           1   \n",
       "2276    2021  2021_1216_1317   1317.0   1216.0   13.0   16.0           1   \n",
       "2277    2021  2021_1216_1331   1331.0   1216.0   15.0   16.0           1   \n",
       "\n",
       "      Hwins_top25  HPointMargin       HFG      HFG3  Rwins_top25  \\\n",
       "2273            8      6.619048  0.452007  0.357875            0   \n",
       "2274            8     10.481481  0.442059  0.335270            0   \n",
       "2275            0     12.750000  0.462443  0.350717            0   \n",
       "2276            0      7.640000  0.470076  0.369846            0   \n",
       "2277            0      1.826087  0.450063  0.391579            0   \n",
       "\n",
       "      RPointMargin       RFG      RFG3  \n",
       "2273      2.608696  0.436148  0.329668  \n",
       "2274      2.608696  0.436148  0.329668  \n",
       "2275      2.608696  0.436148  0.329668  \n",
       "2276      2.608696  0.436148  0.329668  \n",
       "2277      2.608696  0.436148  0.329668  "
      ],
      "text/html": "<div>\n<style scoped>\n    .dataframe tbody tr th:only-of-type {\n        vertical-align: middle;\n    }\n\n    .dataframe tbody tr th {\n        vertical-align: top;\n    }\n\n    .dataframe thead th {\n        text-align: right;\n    }\n</style>\n<table border=\"1\" class=\"dataframe\">\n  <thead>\n    <tr style=\"text-align: right;\">\n      <th></th>\n      <th>Season</th>\n      <th>ID</th>\n      <th>HTeamID</th>\n      <th>RTeamID</th>\n      <th>HSeed</th>\n      <th>RSeed</th>\n      <th>is_tourney</th>\n      <th>Hwins_top25</th>\n      <th>HPointMargin</th>\n      <th>HFG</th>\n      <th>HFG3</th>\n      <th>Rwins_top25</th>\n      <th>RPointMargin</th>\n      <th>RFG</th>\n      <th>RFG3</th>\n    </tr>\n  </thead>\n  <tbody>\n    <tr>\n      <th>2273</th>\n      <td>2021</td>\n      <td>2021_1216_1439</td>\n      <td>1439.0</td>\n      <td>1216.0</td>\n      <td>10.0</td>\n      <td>16.0</td>\n      <td>1</td>\n      <td>8</td>\n      <td>6.619048</td>\n      <td>0.452007</td>\n      <td>0.357875</td>\n      <td>0</td>\n      <td>2.608696</td>\n      <td>0.436148</td>\n      <td>0.329668</td>\n    </tr>\n    <tr>\n      <th>2274</th>\n      <td>2021</td>\n      <td>2021_1216_1429</td>\n      <td>1429.0</td>\n      <td>1216.0</td>\n      <td>11.0</td>\n      <td>16.0</td>\n      <td>1</td>\n      <td>8</td>\n      <td>10.481481</td>\n      <td>0.442059</td>\n      <td>0.335270</td>\n      <td>0</td>\n      <td>2.608696</td>\n      <td>0.436148</td>\n      <td>0.329668</td>\n    </tr>\n    <tr>\n      <th>2275</th>\n      <td>2021</td>\n      <td>2021_1216_1457</td>\n      <td>1457.0</td>\n      <td>1216.0</td>\n      <td>12.0</td>\n      <td>16.0</td>\n      <td>1</td>\n      <td>0</td>\n      <td>12.750000</td>\n      <td>0.462443</td>\n      <td>0.350717</td>\n      <td>0</td>\n      <td>2.608696</td>\n      <td>0.436148</td>\n      <td>0.329668</td>\n    </tr>\n    <tr>\n      <th>2276</th>\n      <td>2021</td>\n      <td>2021_1216_1317</td>\n      <td>1317.0</td>\n      <td>1216.0</td>\n      <td>13.0</td>\n      <td>16.0</td>\n      <td>1</td>\n      <td>0</td>\n      <td>7.640000</td>\n      <td>0.470076</td>\n      <td>0.369846</td>\n      <td>0</td>\n      <td>2.608696</td>\n      <td>0.436148</td>\n      <td>0.329668</td>\n    </tr>\n    <tr>\n      <th>2277</th>\n      <td>2021</td>\n      <td>2021_1216_1331</td>\n      <td>1331.0</td>\n      <td>1216.0</td>\n      <td>15.0</td>\n      <td>16.0</td>\n      <td>1</td>\n      <td>0</td>\n      <td>1.826087</td>\n      <td>0.450063</td>\n      <td>0.391579</td>\n      <td>0</td>\n      <td>2.608696</td>\n      <td>0.436148</td>\n      <td>0.329668</td>\n    </tr>\n  </tbody>\n</table>\n</div>"
     },
     "metadata": {},
     "execution_count": 183
    }
   ],
   "source": [
    "df_19_tourney.tail()"
   ]
  },
  {
   "cell_type": "code",
   "execution_count": 184,
   "metadata": {},
   "outputs": [],
   "source": [
    "for hr in home_road:\n",
    "    df_19_tourney = pd.merge(df_19_tourney, POM_end_df, left_on=['Season',hr+'TeamID'], right_on = ['Season','TeamID'], how='left')\n",
    "    df_19_tourney.rename(columns={'RankPOM': hr+'RankPOM'}, inplace=True)\n",
    "    df_19_tourney = df_19_tourney.drop(['TeamID'], axis=1)"
   ]
  },
  {
   "cell_type": "code",
   "execution_count": 185,
   "metadata": {},
   "outputs": [
    {
     "output_type": "execute_result",
     "data": {
      "text/plain": [
       "      Season              ID  HTeamID  RTeamID  HSeed  RSeed  is_tourney  \\\n",
       "2273    2021  2021_1216_1439   1439.0   1216.0   10.0   16.0           1   \n",
       "2274    2021  2021_1216_1429   1429.0   1216.0   11.0   16.0           1   \n",
       "2275    2021  2021_1216_1457   1457.0   1216.0   12.0   16.0           1   \n",
       "2276    2021  2021_1216_1317   1317.0   1216.0   13.0   16.0           1   \n",
       "2277    2021  2021_1216_1331   1331.0   1216.0   15.0   16.0           1   \n",
       "\n",
       "      Hwins_top25  HPointMargin       HFG      HFG3  Rwins_top25  \\\n",
       "2273            8      6.619048  0.452007  0.357875            0   \n",
       "2274            8     10.481481  0.442059  0.335270            0   \n",
       "2275            0     12.750000  0.462443  0.350717            0   \n",
       "2276            0      7.640000  0.470076  0.369846            0   \n",
       "2277            0      1.826087  0.450063  0.391579            0   \n",
       "\n",
       "      RPointMargin       RFG      RFG3  HRankPOM  RRankPOM  \n",
       "2273      2.608696  0.436148  0.329668        47       197  \n",
       "2274      2.608696  0.436148  0.329668        45       197  \n",
       "2275      2.608696  0.436148  0.329668        86       197  \n",
       "2276      2.608696  0.436148  0.329668        80       197  \n",
       "2277      2.608696  0.436148  0.329668       154       197  "
      ],
      "text/html": "<div>\n<style scoped>\n    .dataframe tbody tr th:only-of-type {\n        vertical-align: middle;\n    }\n\n    .dataframe tbody tr th {\n        vertical-align: top;\n    }\n\n    .dataframe thead th {\n        text-align: right;\n    }\n</style>\n<table border=\"1\" class=\"dataframe\">\n  <thead>\n    <tr style=\"text-align: right;\">\n      <th></th>\n      <th>Season</th>\n      <th>ID</th>\n      <th>HTeamID</th>\n      <th>RTeamID</th>\n      <th>HSeed</th>\n      <th>RSeed</th>\n      <th>is_tourney</th>\n      <th>Hwins_top25</th>\n      <th>HPointMargin</th>\n      <th>HFG</th>\n      <th>HFG3</th>\n      <th>Rwins_top25</th>\n      <th>RPointMargin</th>\n      <th>RFG</th>\n      <th>RFG3</th>\n      <th>HRankPOM</th>\n      <th>RRankPOM</th>\n    </tr>\n  </thead>\n  <tbody>\n    <tr>\n      <th>2273</th>\n      <td>2021</td>\n      <td>2021_1216_1439</td>\n      <td>1439.0</td>\n      <td>1216.0</td>\n      <td>10.0</td>\n      <td>16.0</td>\n      <td>1</td>\n      <td>8</td>\n      <td>6.619048</td>\n      <td>0.452007</td>\n      <td>0.357875</td>\n      <td>0</td>\n      <td>2.608696</td>\n      <td>0.436148</td>\n      <td>0.329668</td>\n      <td>47</td>\n      <td>197</td>\n    </tr>\n    <tr>\n      <th>2274</th>\n      <td>2021</td>\n      <td>2021_1216_1429</td>\n      <td>1429.0</td>\n      <td>1216.0</td>\n      <td>11.0</td>\n      <td>16.0</td>\n      <td>1</td>\n      <td>8</td>\n      <td>10.481481</td>\n      <td>0.442059</td>\n      <td>0.335270</td>\n      <td>0</td>\n      <td>2.608696</td>\n      <td>0.436148</td>\n      <td>0.329668</td>\n      <td>45</td>\n      <td>197</td>\n    </tr>\n    <tr>\n      <th>2275</th>\n      <td>2021</td>\n      <td>2021_1216_1457</td>\n      <td>1457.0</td>\n      <td>1216.0</td>\n      <td>12.0</td>\n      <td>16.0</td>\n      <td>1</td>\n      <td>0</td>\n      <td>12.750000</td>\n      <td>0.462443</td>\n      <td>0.350717</td>\n      <td>0</td>\n      <td>2.608696</td>\n      <td>0.436148</td>\n      <td>0.329668</td>\n      <td>86</td>\n      <td>197</td>\n    </tr>\n    <tr>\n      <th>2276</th>\n      <td>2021</td>\n      <td>2021_1216_1317</td>\n      <td>1317.0</td>\n      <td>1216.0</td>\n      <td>13.0</td>\n      <td>16.0</td>\n      <td>1</td>\n      <td>0</td>\n      <td>7.640000</td>\n      <td>0.470076</td>\n      <td>0.369846</td>\n      <td>0</td>\n      <td>2.608696</td>\n      <td>0.436148</td>\n      <td>0.329668</td>\n      <td>80</td>\n      <td>197</td>\n    </tr>\n    <tr>\n      <th>2277</th>\n      <td>2021</td>\n      <td>2021_1216_1331</td>\n      <td>1331.0</td>\n      <td>1216.0</td>\n      <td>15.0</td>\n      <td>16.0</td>\n      <td>1</td>\n      <td>0</td>\n      <td>1.826087</td>\n      <td>0.450063</td>\n      <td>0.391579</td>\n      <td>0</td>\n      <td>2.608696</td>\n      <td>0.436148</td>\n      <td>0.329668</td>\n      <td>154</td>\n      <td>197</td>\n    </tr>\n  </tbody>\n</table>\n</div>"
     },
     "metadata": {},
     "execution_count": 185
    }
   ],
   "source": [
    "df_19_tourney.tail()"
   ]
  },
  {
   "cell_type": "code",
   "execution_count": 186,
   "metadata": {},
   "outputs": [],
   "source": [
    "efficiency_list = ['conf','adjem','adjo','adjd','luck','TeamID']\n",
    "for hr in home_road:\n",
    "    df_19_tourney = pd.merge(df_19_tourney, kp_df, left_on=[hr+'TeamID','Season'], right_on = ['TeamID','Season'], how='left')\n",
    "    df_19_tourney = df_19_tourney.drop(['TeamID'], axis=1)\n",
    "    for metric in efficiency_list:\n",
    "        df_19_tourney.rename(columns={metric: hr+metric}, inplace=True)\n",
    "    if hr == 'H':\n",
    "        df_19_tourney.rename(columns={'team': 'home'}, inplace=True)\n",
    "    if hr == 'R':\n",
    "        df_19_tourney.rename(columns={'team': 'road'}, inplace=True)"
   ]
  },
  {
   "cell_type": "code",
   "execution_count": 187,
   "metadata": {},
   "outputs": [
    {
     "output_type": "execute_result",
     "data": {
      "text/plain": [
       "      Season              ID  HTeamID  RTeamID  HSeed  RSeed  is_tourney  \\\n",
       "2273    2021  2021_1216_1439   1439.0   1216.0   10.0   16.0           1   \n",
       "2274    2021  2021_1216_1429   1429.0   1216.0   11.0   16.0           1   \n",
       "2275    2021  2021_1216_1457   1457.0   1216.0   12.0   16.0           1   \n",
       "2276    2021  2021_1216_1317   1317.0   1216.0   13.0   16.0           1   \n",
       "2277    2021  2021_1216_1331   1331.0   1216.0   15.0   16.0           1   \n",
       "\n",
       "      Hwins_top25  HPointMargin       HFG      HFG3  Rwins_top25  \\\n",
       "2273            8      6.619048  0.452007  0.357875            0   \n",
       "2274            8     10.481481  0.442059  0.335270            0   \n",
       "2275            0     12.750000  0.462443  0.350717            0   \n",
       "2276            0      7.640000  0.470076  0.369846            0   \n",
       "2277            0      1.826087  0.450063  0.391579            0   \n",
       "\n",
       "      RPointMargin       RFG      RFG3  HRankPOM  RRankPOM           home  \\\n",
       "2273      2.608696  0.436148  0.329668        47       197  virginia tech   \n",
       "2274      2.608696  0.436148  0.329668        45       197       utah st.   \n",
       "2275      2.608696  0.436148  0.329668        86       197       winthrop   \n",
       "2276      2.608696  0.436148  0.329668        80       197    north texas   \n",
       "2277      2.608696  0.436148  0.329668       154       197   oral roberts   \n",
       "\n",
       "     Hconf  Hadjem  Hadjo  Hadjd  Hluck      road Rconf  Radjem  Radjo  Radjd  \\\n",
       "2273   ACC   15.22  110.0   94.8  0.066  hartford    AE   -2.73   97.5  100.2   \n",
       "2274   MWC   16.51  105.7   89.2 -0.032  hartford    AE   -2.73   97.5  100.2   \n",
       "2275  BSth    8.94  105.1   96.2  0.032  hartford    AE   -2.73   97.5  100.2   \n",
       "2276  CUSA   11.70  105.4   93.7 -0.042  hartford    AE   -2.73   97.5  100.2   \n",
       "2277   Sum    1.22  108.7  107.4  0.013  hartford    AE   -2.73   97.5  100.2   \n",
       "\n",
       "      Rluck  \n",
       "2273  0.078  \n",
       "2274  0.078  \n",
       "2275  0.078  \n",
       "2276  0.078  \n",
       "2277  0.078  "
      ],
      "text/html": "<div>\n<style scoped>\n    .dataframe tbody tr th:only-of-type {\n        vertical-align: middle;\n    }\n\n    .dataframe tbody tr th {\n        vertical-align: top;\n    }\n\n    .dataframe thead th {\n        text-align: right;\n    }\n</style>\n<table border=\"1\" class=\"dataframe\">\n  <thead>\n    <tr style=\"text-align: right;\">\n      <th></th>\n      <th>Season</th>\n      <th>ID</th>\n      <th>HTeamID</th>\n      <th>RTeamID</th>\n      <th>HSeed</th>\n      <th>RSeed</th>\n      <th>is_tourney</th>\n      <th>Hwins_top25</th>\n      <th>HPointMargin</th>\n      <th>HFG</th>\n      <th>HFG3</th>\n      <th>Rwins_top25</th>\n      <th>RPointMargin</th>\n      <th>RFG</th>\n      <th>RFG3</th>\n      <th>HRankPOM</th>\n      <th>RRankPOM</th>\n      <th>home</th>\n      <th>Hconf</th>\n      <th>Hadjem</th>\n      <th>Hadjo</th>\n      <th>Hadjd</th>\n      <th>Hluck</th>\n      <th>road</th>\n      <th>Rconf</th>\n      <th>Radjem</th>\n      <th>Radjo</th>\n      <th>Radjd</th>\n      <th>Rluck</th>\n    </tr>\n  </thead>\n  <tbody>\n    <tr>\n      <th>2273</th>\n      <td>2021</td>\n      <td>2021_1216_1439</td>\n      <td>1439.0</td>\n      <td>1216.0</td>\n      <td>10.0</td>\n      <td>16.0</td>\n      <td>1</td>\n      <td>8</td>\n      <td>6.619048</td>\n      <td>0.452007</td>\n      <td>0.357875</td>\n      <td>0</td>\n      <td>2.608696</td>\n      <td>0.436148</td>\n      <td>0.329668</td>\n      <td>47</td>\n      <td>197</td>\n      <td>virginia tech</td>\n      <td>ACC</td>\n      <td>15.22</td>\n      <td>110.0</td>\n      <td>94.8</td>\n      <td>0.066</td>\n      <td>hartford</td>\n      <td>AE</td>\n      <td>-2.73</td>\n      <td>97.5</td>\n      <td>100.2</td>\n      <td>0.078</td>\n    </tr>\n    <tr>\n      <th>2274</th>\n      <td>2021</td>\n      <td>2021_1216_1429</td>\n      <td>1429.0</td>\n      <td>1216.0</td>\n      <td>11.0</td>\n      <td>16.0</td>\n      <td>1</td>\n      <td>8</td>\n      <td>10.481481</td>\n      <td>0.442059</td>\n      <td>0.335270</td>\n      <td>0</td>\n      <td>2.608696</td>\n      <td>0.436148</td>\n      <td>0.329668</td>\n      <td>45</td>\n      <td>197</td>\n      <td>utah st.</td>\n      <td>MWC</td>\n      <td>16.51</td>\n      <td>105.7</td>\n      <td>89.2</td>\n      <td>-0.032</td>\n      <td>hartford</td>\n      <td>AE</td>\n      <td>-2.73</td>\n      <td>97.5</td>\n      <td>100.2</td>\n      <td>0.078</td>\n    </tr>\n    <tr>\n      <th>2275</th>\n      <td>2021</td>\n      <td>2021_1216_1457</td>\n      <td>1457.0</td>\n      <td>1216.0</td>\n      <td>12.0</td>\n      <td>16.0</td>\n      <td>1</td>\n      <td>0</td>\n      <td>12.750000</td>\n      <td>0.462443</td>\n      <td>0.350717</td>\n      <td>0</td>\n      <td>2.608696</td>\n      <td>0.436148</td>\n      <td>0.329668</td>\n      <td>86</td>\n      <td>197</td>\n      <td>winthrop</td>\n      <td>BSth</td>\n      <td>8.94</td>\n      <td>105.1</td>\n      <td>96.2</td>\n      <td>0.032</td>\n      <td>hartford</td>\n      <td>AE</td>\n      <td>-2.73</td>\n      <td>97.5</td>\n      <td>100.2</td>\n      <td>0.078</td>\n    </tr>\n    <tr>\n      <th>2276</th>\n      <td>2021</td>\n      <td>2021_1216_1317</td>\n      <td>1317.0</td>\n      <td>1216.0</td>\n      <td>13.0</td>\n      <td>16.0</td>\n      <td>1</td>\n      <td>0</td>\n      <td>7.640000</td>\n      <td>0.470076</td>\n      <td>0.369846</td>\n      <td>0</td>\n      <td>2.608696</td>\n      <td>0.436148</td>\n      <td>0.329668</td>\n      <td>80</td>\n      <td>197</td>\n      <td>north texas</td>\n      <td>CUSA</td>\n      <td>11.70</td>\n      <td>105.4</td>\n      <td>93.7</td>\n      <td>-0.042</td>\n      <td>hartford</td>\n      <td>AE</td>\n      <td>-2.73</td>\n      <td>97.5</td>\n      <td>100.2</td>\n      <td>0.078</td>\n    </tr>\n    <tr>\n      <th>2277</th>\n      <td>2021</td>\n      <td>2021_1216_1331</td>\n      <td>1331.0</td>\n      <td>1216.0</td>\n      <td>15.0</td>\n      <td>16.0</td>\n      <td>1</td>\n      <td>0</td>\n      <td>1.826087</td>\n      <td>0.450063</td>\n      <td>0.391579</td>\n      <td>0</td>\n      <td>2.608696</td>\n      <td>0.436148</td>\n      <td>0.329668</td>\n      <td>154</td>\n      <td>197</td>\n      <td>oral roberts</td>\n      <td>Sum</td>\n      <td>1.22</td>\n      <td>108.7</td>\n      <td>107.4</td>\n      <td>0.013</td>\n      <td>hartford</td>\n      <td>AE</td>\n      <td>-2.73</td>\n      <td>97.5</td>\n      <td>100.2</td>\n      <td>0.078</td>\n    </tr>\n  </tbody>\n</table>\n</div>"
     },
     "metadata": {},
     "execution_count": 187
    }
   ],
   "source": [
    "df_19_tourney.tail()"
   ]
  },
  {
   "cell_type": "code",
   "execution_count": 188,
   "metadata": {},
   "outputs": [],
   "source": [
    "df_19_tourney['Htourny20plus'] = 0\n",
    "df_19_tourney['Rtourny20plus'] = 0\n",
    "\n",
    "experienced_teams = ['kansas','north carolina','kentucky','duke','michigan st.','wisconsin','florida','villanova','gonzaga','louisville','arizona','xavier','connecticut','syracuse','butler','ohio st.','ucla','west virginia','texas','michigan','pittsburgh','memphis','oregon']\n",
    "for team in experienced_teams:\n",
    "    df_19_tourney.loc[df_19_tourney['home']==team, 'Htourny20plus'] = 1\n",
    "    df_19_tourney.loc[df_19_tourney['road']==team, 'Rtourny20plus'] = 1"
   ]
  },
  {
   "cell_type": "code",
   "execution_count": 189,
   "metadata": {},
   "outputs": [
    {
     "output_type": "execute_result",
     "data": {
      "text/plain": [
       "      Season              ID  HTeamID  RTeamID  HSeed  RSeed  is_tourney  \\\n",
       "2273    2021  2021_1216_1439   1439.0   1216.0   10.0   16.0           1   \n",
       "2274    2021  2021_1216_1429   1429.0   1216.0   11.0   16.0           1   \n",
       "2275    2021  2021_1216_1457   1457.0   1216.0   12.0   16.0           1   \n",
       "2276    2021  2021_1216_1317   1317.0   1216.0   13.0   16.0           1   \n",
       "2277    2021  2021_1216_1331   1331.0   1216.0   15.0   16.0           1   \n",
       "\n",
       "      Hwins_top25  HPointMargin       HFG      HFG3  Rwins_top25  \\\n",
       "2273            8      6.619048  0.452007  0.357875            0   \n",
       "2274            8     10.481481  0.442059  0.335270            0   \n",
       "2275            0     12.750000  0.462443  0.350717            0   \n",
       "2276            0      7.640000  0.470076  0.369846            0   \n",
       "2277            0      1.826087  0.450063  0.391579            0   \n",
       "\n",
       "      RPointMargin       RFG      RFG3  HRankPOM  RRankPOM           home  \\\n",
       "2273      2.608696  0.436148  0.329668        47       197  virginia tech   \n",
       "2274      2.608696  0.436148  0.329668        45       197       utah st.   \n",
       "2275      2.608696  0.436148  0.329668        86       197       winthrop   \n",
       "2276      2.608696  0.436148  0.329668        80       197    north texas   \n",
       "2277      2.608696  0.436148  0.329668       154       197   oral roberts   \n",
       "\n",
       "     Hconf  Hadjem  Hadjo  Hadjd  Hluck      road Rconf  Radjem  Radjo  Radjd  \\\n",
       "2273   ACC   15.22  110.0   94.8  0.066  hartford    AE   -2.73   97.5  100.2   \n",
       "2274   MWC   16.51  105.7   89.2 -0.032  hartford    AE   -2.73   97.5  100.2   \n",
       "2275  BSth    8.94  105.1   96.2  0.032  hartford    AE   -2.73   97.5  100.2   \n",
       "2276  CUSA   11.70  105.4   93.7 -0.042  hartford    AE   -2.73   97.5  100.2   \n",
       "2277   Sum    1.22  108.7  107.4  0.013  hartford    AE   -2.73   97.5  100.2   \n",
       "\n",
       "      Rluck  Htourny20plus  Rtourny20plus  \n",
       "2273  0.078              0              0  \n",
       "2274  0.078              0              0  \n",
       "2275  0.078              0              0  \n",
       "2276  0.078              0              0  \n",
       "2277  0.078              0              0  "
      ],
      "text/html": "<div>\n<style scoped>\n    .dataframe tbody tr th:only-of-type {\n        vertical-align: middle;\n    }\n\n    .dataframe tbody tr th {\n        vertical-align: top;\n    }\n\n    .dataframe thead th {\n        text-align: right;\n    }\n</style>\n<table border=\"1\" class=\"dataframe\">\n  <thead>\n    <tr style=\"text-align: right;\">\n      <th></th>\n      <th>Season</th>\n      <th>ID</th>\n      <th>HTeamID</th>\n      <th>RTeamID</th>\n      <th>HSeed</th>\n      <th>RSeed</th>\n      <th>is_tourney</th>\n      <th>Hwins_top25</th>\n      <th>HPointMargin</th>\n      <th>HFG</th>\n      <th>HFG3</th>\n      <th>Rwins_top25</th>\n      <th>RPointMargin</th>\n      <th>RFG</th>\n      <th>RFG3</th>\n      <th>HRankPOM</th>\n      <th>RRankPOM</th>\n      <th>home</th>\n      <th>Hconf</th>\n      <th>Hadjem</th>\n      <th>Hadjo</th>\n      <th>Hadjd</th>\n      <th>Hluck</th>\n      <th>road</th>\n      <th>Rconf</th>\n      <th>Radjem</th>\n      <th>Radjo</th>\n      <th>Radjd</th>\n      <th>Rluck</th>\n      <th>Htourny20plus</th>\n      <th>Rtourny20plus</th>\n    </tr>\n  </thead>\n  <tbody>\n    <tr>\n      <th>2273</th>\n      <td>2021</td>\n      <td>2021_1216_1439</td>\n      <td>1439.0</td>\n      <td>1216.0</td>\n      <td>10.0</td>\n      <td>16.0</td>\n      <td>1</td>\n      <td>8</td>\n      <td>6.619048</td>\n      <td>0.452007</td>\n      <td>0.357875</td>\n      <td>0</td>\n      <td>2.608696</td>\n      <td>0.436148</td>\n      <td>0.329668</td>\n      <td>47</td>\n      <td>197</td>\n      <td>virginia tech</td>\n      <td>ACC</td>\n      <td>15.22</td>\n      <td>110.0</td>\n      <td>94.8</td>\n      <td>0.066</td>\n      <td>hartford</td>\n      <td>AE</td>\n      <td>-2.73</td>\n      <td>97.5</td>\n      <td>100.2</td>\n      <td>0.078</td>\n      <td>0</td>\n      <td>0</td>\n    </tr>\n    <tr>\n      <th>2274</th>\n      <td>2021</td>\n      <td>2021_1216_1429</td>\n      <td>1429.0</td>\n      <td>1216.0</td>\n      <td>11.0</td>\n      <td>16.0</td>\n      <td>1</td>\n      <td>8</td>\n      <td>10.481481</td>\n      <td>0.442059</td>\n      <td>0.335270</td>\n      <td>0</td>\n      <td>2.608696</td>\n      <td>0.436148</td>\n      <td>0.329668</td>\n      <td>45</td>\n      <td>197</td>\n      <td>utah st.</td>\n      <td>MWC</td>\n      <td>16.51</td>\n      <td>105.7</td>\n      <td>89.2</td>\n      <td>-0.032</td>\n      <td>hartford</td>\n      <td>AE</td>\n      <td>-2.73</td>\n      <td>97.5</td>\n      <td>100.2</td>\n      <td>0.078</td>\n      <td>0</td>\n      <td>0</td>\n    </tr>\n    <tr>\n      <th>2275</th>\n      <td>2021</td>\n      <td>2021_1216_1457</td>\n      <td>1457.0</td>\n      <td>1216.0</td>\n      <td>12.0</td>\n      <td>16.0</td>\n      <td>1</td>\n      <td>0</td>\n      <td>12.750000</td>\n      <td>0.462443</td>\n      <td>0.350717</td>\n      <td>0</td>\n      <td>2.608696</td>\n      <td>0.436148</td>\n      <td>0.329668</td>\n      <td>86</td>\n      <td>197</td>\n      <td>winthrop</td>\n      <td>BSth</td>\n      <td>8.94</td>\n      <td>105.1</td>\n      <td>96.2</td>\n      <td>0.032</td>\n      <td>hartford</td>\n      <td>AE</td>\n      <td>-2.73</td>\n      <td>97.5</td>\n      <td>100.2</td>\n      <td>0.078</td>\n      <td>0</td>\n      <td>0</td>\n    </tr>\n    <tr>\n      <th>2276</th>\n      <td>2021</td>\n      <td>2021_1216_1317</td>\n      <td>1317.0</td>\n      <td>1216.0</td>\n      <td>13.0</td>\n      <td>16.0</td>\n      <td>1</td>\n      <td>0</td>\n      <td>7.640000</td>\n      <td>0.470076</td>\n      <td>0.369846</td>\n      <td>0</td>\n      <td>2.608696</td>\n      <td>0.436148</td>\n      <td>0.329668</td>\n      <td>80</td>\n      <td>197</td>\n      <td>north texas</td>\n      <td>CUSA</td>\n      <td>11.70</td>\n      <td>105.4</td>\n      <td>93.7</td>\n      <td>-0.042</td>\n      <td>hartford</td>\n      <td>AE</td>\n      <td>-2.73</td>\n      <td>97.5</td>\n      <td>100.2</td>\n      <td>0.078</td>\n      <td>0</td>\n      <td>0</td>\n    </tr>\n    <tr>\n      <th>2277</th>\n      <td>2021</td>\n      <td>2021_1216_1331</td>\n      <td>1331.0</td>\n      <td>1216.0</td>\n      <td>15.0</td>\n      <td>16.0</td>\n      <td>1</td>\n      <td>0</td>\n      <td>1.826087</td>\n      <td>0.450063</td>\n      <td>0.391579</td>\n      <td>0</td>\n      <td>2.608696</td>\n      <td>0.436148</td>\n      <td>0.329668</td>\n      <td>154</td>\n      <td>197</td>\n      <td>oral roberts</td>\n      <td>Sum</td>\n      <td>1.22</td>\n      <td>108.7</td>\n      <td>107.4</td>\n      <td>0.013</td>\n      <td>hartford</td>\n      <td>AE</td>\n      <td>-2.73</td>\n      <td>97.5</td>\n      <td>100.2</td>\n      <td>0.078</td>\n      <td>0</td>\n      <td>0</td>\n    </tr>\n  </tbody>\n</table>\n</div>"
     },
     "metadata": {},
     "execution_count": 189
    }
   ],
   "source": [
    "df_19_tourney.tail()"
   ]
  },
  {
   "cell_type": "code",
   "execution_count": 190,
   "metadata": {},
   "outputs": [],
   "source": [
    "df_19_tourney['HBig4Conf'] = 0\n",
    "df_19_tourney['RBig4Conf'] = 0\n",
    "conferences = ['ACC','B10','B12','SEC', 'BE']\n",
    "for conf in conferences:\n",
    "    df_19_tourney.loc[df_19_tourney['Hconf']==conf, 'HBig4Conf'] = 1\n",
    "    df_19_tourney.loc[df_19_tourney['Rconf']==conf, 'RBig4Conf'] = 1"
   ]
  },
  {
   "cell_type": "code",
   "execution_count": 191,
   "metadata": {},
   "outputs": [
    {
     "output_type": "execute_result",
     "data": {
      "text/plain": [
       "['Season',\n",
       " 'ID',\n",
       " 'HTeamID',\n",
       " 'RTeamID',\n",
       " 'HSeed',\n",
       " 'RSeed',\n",
       " 'is_tourney',\n",
       " 'Hwins_top25',\n",
       " 'HPointMargin',\n",
       " 'HFG',\n",
       " 'HFG3',\n",
       " 'Rwins_top25',\n",
       " 'RPointMargin',\n",
       " 'RFG',\n",
       " 'RFG3',\n",
       " 'HRankPOM',\n",
       " 'RRankPOM',\n",
       " 'home',\n",
       " 'Hconf',\n",
       " 'Hadjem',\n",
       " 'Hadjo',\n",
       " 'Hadjd',\n",
       " 'Hluck',\n",
       " 'road',\n",
       " 'Rconf',\n",
       " 'Radjem',\n",
       " 'Radjo',\n",
       " 'Radjd',\n",
       " 'Rluck',\n",
       " 'Htourny20plus',\n",
       " 'Rtourny20plus',\n",
       " 'HBig4Conf',\n",
       " 'RBig4Conf']"
      ]
     },
     "metadata": {},
     "execution_count": 191
    }
   ],
   "source": [
    "list(df_19_tourney)"
   ]
  },
  {
   "cell_type": "code",
   "execution_count": 192,
   "metadata": {},
   "outputs": [
    {
     "output_type": "execute_result",
     "data": {
      "text/plain": [
       "   Season              ID  HTeamID  RTeamID  HSeed  RSeed  is_tourney  \\\n",
       "0    2021  2021_1276_1400   1276.0   1400.0    1.0    3.0           1   \n",
       "1    2021  2021_1276_1382   1276.0   1382.0    1.0    9.0           1   \n",
       "2    2021  2021_1276_1277   1276.0   1277.0    1.0   11.0           1   \n",
       "3    2021  2021_1276_1417   1276.0   1417.0    1.0   11.0           1   \n",
       "4    2021  2021_1276_1422   1276.0   1422.0    1.0   13.0           1   \n",
       "\n",
       "   Hwins_top25  HPointMargin       HFG      HFG3  Rwins_top25  RPointMargin  \\\n",
       "0           20        10.875  0.482426  0.386504           14      6.423077   \n",
       "1           20        10.875  0.482426  0.386504            0     10.150000   \n",
       "2           20        10.875  0.482426  0.386504           12     -1.518519   \n",
       "3           20        10.875  0.482426  0.386504            4      4.346154   \n",
       "4           20        10.875  0.482426  0.386504            0      6.172414   \n",
       "\n",
       "        RFG      RFG3  HRankPOM  RRankPOM      home Hconf  Hadjem  Hadjo  \\\n",
       "0  0.457855  0.361382         3        26  michigan   B10   30.79  119.4   \n",
       "1  0.449645  0.345861         3        27  michigan   B10   30.79  119.4   \n",
       "2  0.424548  0.322040         3        55  michigan   B10   30.79  119.4   \n",
       "3  0.463615  0.378662         3        42  michigan   B10   30.79  119.4   \n",
       "4  0.424032  0.302067         3        98  michigan   B10   30.79  119.4   \n",
       "\n",
       "   Hadjd  Hluck             road Rconf  Radjem  Radjo  Radjd  Rluck  \\\n",
       "0   88.6  0.026            texas   B12   20.58  113.8   93.3  0.017   \n",
       "1   88.6  0.026  st. bonaventure   A10   20.82  111.3   90.5  0.014   \n",
       "2   88.6  0.026     michigan st.   B10   14.01  107.0   93.0  0.106   \n",
       "3   88.6  0.026             ucla   P12   15.92  113.4   97.5  0.024   \n",
       "4   88.6  0.026   unc greensboro    SC    8.15  104.1   96.0  0.005   \n",
       "\n",
       "   Htourny20plus  Rtourny20plus  HBig4Conf  RBig4Conf  \n",
       "0              1              1          1          1  \n",
       "1              1              0          1          0  \n",
       "2              1              1          1          1  \n",
       "3              1              1          1          0  \n",
       "4              1              0          1          0  "
      ],
      "text/html": "<div>\n<style scoped>\n    .dataframe tbody tr th:only-of-type {\n        vertical-align: middle;\n    }\n\n    .dataframe tbody tr th {\n        vertical-align: top;\n    }\n\n    .dataframe thead th {\n        text-align: right;\n    }\n</style>\n<table border=\"1\" class=\"dataframe\">\n  <thead>\n    <tr style=\"text-align: right;\">\n      <th></th>\n      <th>Season</th>\n      <th>ID</th>\n      <th>HTeamID</th>\n      <th>RTeamID</th>\n      <th>HSeed</th>\n      <th>RSeed</th>\n      <th>is_tourney</th>\n      <th>Hwins_top25</th>\n      <th>HPointMargin</th>\n      <th>HFG</th>\n      <th>HFG3</th>\n      <th>Rwins_top25</th>\n      <th>RPointMargin</th>\n      <th>RFG</th>\n      <th>RFG3</th>\n      <th>HRankPOM</th>\n      <th>RRankPOM</th>\n      <th>home</th>\n      <th>Hconf</th>\n      <th>Hadjem</th>\n      <th>Hadjo</th>\n      <th>Hadjd</th>\n      <th>Hluck</th>\n      <th>road</th>\n      <th>Rconf</th>\n      <th>Radjem</th>\n      <th>Radjo</th>\n      <th>Radjd</th>\n      <th>Rluck</th>\n      <th>Htourny20plus</th>\n      <th>Rtourny20plus</th>\n      <th>HBig4Conf</th>\n      <th>RBig4Conf</th>\n    </tr>\n  </thead>\n  <tbody>\n    <tr>\n      <th>0</th>\n      <td>2021</td>\n      <td>2021_1276_1400</td>\n      <td>1276.0</td>\n      <td>1400.0</td>\n      <td>1.0</td>\n      <td>3.0</td>\n      <td>1</td>\n      <td>20</td>\n      <td>10.875</td>\n      <td>0.482426</td>\n      <td>0.386504</td>\n      <td>14</td>\n      <td>6.423077</td>\n      <td>0.457855</td>\n      <td>0.361382</td>\n      <td>3</td>\n      <td>26</td>\n      <td>michigan</td>\n      <td>B10</td>\n      <td>30.79</td>\n      <td>119.4</td>\n      <td>88.6</td>\n      <td>0.026</td>\n      <td>texas</td>\n      <td>B12</td>\n      <td>20.58</td>\n      <td>113.8</td>\n      <td>93.3</td>\n      <td>0.017</td>\n      <td>1</td>\n      <td>1</td>\n      <td>1</td>\n      <td>1</td>\n    </tr>\n    <tr>\n      <th>1</th>\n      <td>2021</td>\n      <td>2021_1276_1382</td>\n      <td>1276.0</td>\n      <td>1382.0</td>\n      <td>1.0</td>\n      <td>9.0</td>\n      <td>1</td>\n      <td>20</td>\n      <td>10.875</td>\n      <td>0.482426</td>\n      <td>0.386504</td>\n      <td>0</td>\n      <td>10.150000</td>\n      <td>0.449645</td>\n      <td>0.345861</td>\n      <td>3</td>\n      <td>27</td>\n      <td>michigan</td>\n      <td>B10</td>\n      <td>30.79</td>\n      <td>119.4</td>\n      <td>88.6</td>\n      <td>0.026</td>\n      <td>st. bonaventure</td>\n      <td>A10</td>\n      <td>20.82</td>\n      <td>111.3</td>\n      <td>90.5</td>\n      <td>0.014</td>\n      <td>1</td>\n      <td>0</td>\n      <td>1</td>\n      <td>0</td>\n    </tr>\n    <tr>\n      <th>2</th>\n      <td>2021</td>\n      <td>2021_1276_1277</td>\n      <td>1276.0</td>\n      <td>1277.0</td>\n      <td>1.0</td>\n      <td>11.0</td>\n      <td>1</td>\n      <td>20</td>\n      <td>10.875</td>\n      <td>0.482426</td>\n      <td>0.386504</td>\n      <td>12</td>\n      <td>-1.518519</td>\n      <td>0.424548</td>\n      <td>0.322040</td>\n      <td>3</td>\n      <td>55</td>\n      <td>michigan</td>\n      <td>B10</td>\n      <td>30.79</td>\n      <td>119.4</td>\n      <td>88.6</td>\n      <td>0.026</td>\n      <td>michigan st.</td>\n      <td>B10</td>\n      <td>14.01</td>\n      <td>107.0</td>\n      <td>93.0</td>\n      <td>0.106</td>\n      <td>1</td>\n      <td>1</td>\n      <td>1</td>\n      <td>1</td>\n    </tr>\n    <tr>\n      <th>3</th>\n      <td>2021</td>\n      <td>2021_1276_1417</td>\n      <td>1276.0</td>\n      <td>1417.0</td>\n      <td>1.0</td>\n      <td>11.0</td>\n      <td>1</td>\n      <td>20</td>\n      <td>10.875</td>\n      <td>0.482426</td>\n      <td>0.386504</td>\n      <td>4</td>\n      <td>4.346154</td>\n      <td>0.463615</td>\n      <td>0.378662</td>\n      <td>3</td>\n      <td>42</td>\n      <td>michigan</td>\n      <td>B10</td>\n      <td>30.79</td>\n      <td>119.4</td>\n      <td>88.6</td>\n      <td>0.026</td>\n      <td>ucla</td>\n      <td>P12</td>\n      <td>15.92</td>\n      <td>113.4</td>\n      <td>97.5</td>\n      <td>0.024</td>\n      <td>1</td>\n      <td>1</td>\n      <td>1</td>\n      <td>0</td>\n    </tr>\n    <tr>\n      <th>4</th>\n      <td>2021</td>\n      <td>2021_1276_1422</td>\n      <td>1276.0</td>\n      <td>1422.0</td>\n      <td>1.0</td>\n      <td>13.0</td>\n      <td>1</td>\n      <td>20</td>\n      <td>10.875</td>\n      <td>0.482426</td>\n      <td>0.386504</td>\n      <td>0</td>\n      <td>6.172414</td>\n      <td>0.424032</td>\n      <td>0.302067</td>\n      <td>3</td>\n      <td>98</td>\n      <td>michigan</td>\n      <td>B10</td>\n      <td>30.79</td>\n      <td>119.4</td>\n      <td>88.6</td>\n      <td>0.026</td>\n      <td>unc greensboro</td>\n      <td>SC</td>\n      <td>8.15</td>\n      <td>104.1</td>\n      <td>96.0</td>\n      <td>0.005</td>\n      <td>1</td>\n      <td>0</td>\n      <td>1</td>\n      <td>0</td>\n    </tr>\n  </tbody>\n</table>\n</div>"
     },
     "metadata": {},
     "execution_count": 192
    }
   ],
   "source": [
    "df_19_tourney.head()"
   ]
  },
  {
   "cell_type": "code",
   "execution_count": 193,
   "metadata": {},
   "outputs": [
    {
     "output_type": "execute_result",
     "data": {
      "text/plain": [
       "      Season              ID  HTeamID  RTeamID  HSeed  RSeed  is_tourney  \\\n",
       "2273    2021  2021_1216_1439   1439.0   1216.0   10.0   16.0           1   \n",
       "2274    2021  2021_1216_1429   1429.0   1216.0   11.0   16.0           1   \n",
       "2275    2021  2021_1216_1457   1457.0   1216.0   12.0   16.0           1   \n",
       "2276    2021  2021_1216_1317   1317.0   1216.0   13.0   16.0           1   \n",
       "2277    2021  2021_1216_1331   1331.0   1216.0   15.0   16.0           1   \n",
       "\n",
       "      Hwins_top25  HPointMargin       HFG      HFG3  Rwins_top25  \\\n",
       "2273            8      6.619048  0.452007  0.357875            0   \n",
       "2274            8     10.481481  0.442059  0.335270            0   \n",
       "2275            0     12.750000  0.462443  0.350717            0   \n",
       "2276            0      7.640000  0.470076  0.369846            0   \n",
       "2277            0      1.826087  0.450063  0.391579            0   \n",
       "\n",
       "      RPointMargin       RFG      RFG3  HRankPOM  RRankPOM           home  \\\n",
       "2273      2.608696  0.436148  0.329668        47       197  virginia tech   \n",
       "2274      2.608696  0.436148  0.329668        45       197       utah st.   \n",
       "2275      2.608696  0.436148  0.329668        86       197       winthrop   \n",
       "2276      2.608696  0.436148  0.329668        80       197    north texas   \n",
       "2277      2.608696  0.436148  0.329668       154       197   oral roberts   \n",
       "\n",
       "     Hconf  Hadjem  Hadjo  Hadjd  Hluck      road Rconf  Radjem  Radjo  Radjd  \\\n",
       "2273   ACC   15.22  110.0   94.8  0.066  hartford    AE   -2.73   97.5  100.2   \n",
       "2274   MWC   16.51  105.7   89.2 -0.032  hartford    AE   -2.73   97.5  100.2   \n",
       "2275  BSth    8.94  105.1   96.2  0.032  hartford    AE   -2.73   97.5  100.2   \n",
       "2276  CUSA   11.70  105.4   93.7 -0.042  hartford    AE   -2.73   97.5  100.2   \n",
       "2277   Sum    1.22  108.7  107.4  0.013  hartford    AE   -2.73   97.5  100.2   \n",
       "\n",
       "      Rluck  Htourny20plus  Rtourny20plus  HBig4Conf  RBig4Conf  \n",
       "2273  0.078              0              0          1          0  \n",
       "2274  0.078              0              0          0          0  \n",
       "2275  0.078              0              0          0          0  \n",
       "2276  0.078              0              0          0          0  \n",
       "2277  0.078              0              0          0          0  "
      ],
      "text/html": "<div>\n<style scoped>\n    .dataframe tbody tr th:only-of-type {\n        vertical-align: middle;\n    }\n\n    .dataframe tbody tr th {\n        vertical-align: top;\n    }\n\n    .dataframe thead th {\n        text-align: right;\n    }\n</style>\n<table border=\"1\" class=\"dataframe\">\n  <thead>\n    <tr style=\"text-align: right;\">\n      <th></th>\n      <th>Season</th>\n      <th>ID</th>\n      <th>HTeamID</th>\n      <th>RTeamID</th>\n      <th>HSeed</th>\n      <th>RSeed</th>\n      <th>is_tourney</th>\n      <th>Hwins_top25</th>\n      <th>HPointMargin</th>\n      <th>HFG</th>\n      <th>HFG3</th>\n      <th>Rwins_top25</th>\n      <th>RPointMargin</th>\n      <th>RFG</th>\n      <th>RFG3</th>\n      <th>HRankPOM</th>\n      <th>RRankPOM</th>\n      <th>home</th>\n      <th>Hconf</th>\n      <th>Hadjem</th>\n      <th>Hadjo</th>\n      <th>Hadjd</th>\n      <th>Hluck</th>\n      <th>road</th>\n      <th>Rconf</th>\n      <th>Radjem</th>\n      <th>Radjo</th>\n      <th>Radjd</th>\n      <th>Rluck</th>\n      <th>Htourny20plus</th>\n      <th>Rtourny20plus</th>\n      <th>HBig4Conf</th>\n      <th>RBig4Conf</th>\n    </tr>\n  </thead>\n  <tbody>\n    <tr>\n      <th>2273</th>\n      <td>2021</td>\n      <td>2021_1216_1439</td>\n      <td>1439.0</td>\n      <td>1216.0</td>\n      <td>10.0</td>\n      <td>16.0</td>\n      <td>1</td>\n      <td>8</td>\n      <td>6.619048</td>\n      <td>0.452007</td>\n      <td>0.357875</td>\n      <td>0</td>\n      <td>2.608696</td>\n      <td>0.436148</td>\n      <td>0.329668</td>\n      <td>47</td>\n      <td>197</td>\n      <td>virginia tech</td>\n      <td>ACC</td>\n      <td>15.22</td>\n      <td>110.0</td>\n      <td>94.8</td>\n      <td>0.066</td>\n      <td>hartford</td>\n      <td>AE</td>\n      <td>-2.73</td>\n      <td>97.5</td>\n      <td>100.2</td>\n      <td>0.078</td>\n      <td>0</td>\n      <td>0</td>\n      <td>1</td>\n      <td>0</td>\n    </tr>\n    <tr>\n      <th>2274</th>\n      <td>2021</td>\n      <td>2021_1216_1429</td>\n      <td>1429.0</td>\n      <td>1216.0</td>\n      <td>11.0</td>\n      <td>16.0</td>\n      <td>1</td>\n      <td>8</td>\n      <td>10.481481</td>\n      <td>0.442059</td>\n      <td>0.335270</td>\n      <td>0</td>\n      <td>2.608696</td>\n      <td>0.436148</td>\n      <td>0.329668</td>\n      <td>45</td>\n      <td>197</td>\n      <td>utah st.</td>\n      <td>MWC</td>\n      <td>16.51</td>\n      <td>105.7</td>\n      <td>89.2</td>\n      <td>-0.032</td>\n      <td>hartford</td>\n      <td>AE</td>\n      <td>-2.73</td>\n      <td>97.5</td>\n      <td>100.2</td>\n      <td>0.078</td>\n      <td>0</td>\n      <td>0</td>\n      <td>0</td>\n      <td>0</td>\n    </tr>\n    <tr>\n      <th>2275</th>\n      <td>2021</td>\n      <td>2021_1216_1457</td>\n      <td>1457.0</td>\n      <td>1216.0</td>\n      <td>12.0</td>\n      <td>16.0</td>\n      <td>1</td>\n      <td>0</td>\n      <td>12.750000</td>\n      <td>0.462443</td>\n      <td>0.350717</td>\n      <td>0</td>\n      <td>2.608696</td>\n      <td>0.436148</td>\n      <td>0.329668</td>\n      <td>86</td>\n      <td>197</td>\n      <td>winthrop</td>\n      <td>BSth</td>\n      <td>8.94</td>\n      <td>105.1</td>\n      <td>96.2</td>\n      <td>0.032</td>\n      <td>hartford</td>\n      <td>AE</td>\n      <td>-2.73</td>\n      <td>97.5</td>\n      <td>100.2</td>\n      <td>0.078</td>\n      <td>0</td>\n      <td>0</td>\n      <td>0</td>\n      <td>0</td>\n    </tr>\n    <tr>\n      <th>2276</th>\n      <td>2021</td>\n      <td>2021_1216_1317</td>\n      <td>1317.0</td>\n      <td>1216.0</td>\n      <td>13.0</td>\n      <td>16.0</td>\n      <td>1</td>\n      <td>0</td>\n      <td>7.640000</td>\n      <td>0.470076</td>\n      <td>0.369846</td>\n      <td>0</td>\n      <td>2.608696</td>\n      <td>0.436148</td>\n      <td>0.329668</td>\n      <td>80</td>\n      <td>197</td>\n      <td>north texas</td>\n      <td>CUSA</td>\n      <td>11.70</td>\n      <td>105.4</td>\n      <td>93.7</td>\n      <td>-0.042</td>\n      <td>hartford</td>\n      <td>AE</td>\n      <td>-2.73</td>\n      <td>97.5</td>\n      <td>100.2</td>\n      <td>0.078</td>\n      <td>0</td>\n      <td>0</td>\n      <td>0</td>\n      <td>0</td>\n    </tr>\n    <tr>\n      <th>2277</th>\n      <td>2021</td>\n      <td>2021_1216_1331</td>\n      <td>1331.0</td>\n      <td>1216.0</td>\n      <td>15.0</td>\n      <td>16.0</td>\n      <td>1</td>\n      <td>0</td>\n      <td>1.826087</td>\n      <td>0.450063</td>\n      <td>0.391579</td>\n      <td>0</td>\n      <td>2.608696</td>\n      <td>0.436148</td>\n      <td>0.329668</td>\n      <td>154</td>\n      <td>197</td>\n      <td>oral roberts</td>\n      <td>Sum</td>\n      <td>1.22</td>\n      <td>108.7</td>\n      <td>107.4</td>\n      <td>0.013</td>\n      <td>hartford</td>\n      <td>AE</td>\n      <td>-2.73</td>\n      <td>97.5</td>\n      <td>100.2</td>\n      <td>0.078</td>\n      <td>0</td>\n      <td>0</td>\n      <td>0</td>\n      <td>0</td>\n    </tr>\n  </tbody>\n</table>\n</div>"
     },
     "metadata": {},
     "execution_count": 193
    }
   ],
   "source": [
    "df_19_tourney.tail()"
   ]
  },
  {
   "cell_type": "code",
   "execution_count": 194,
   "metadata": {},
   "outputs": [],
   "source": [
    "df_19_tourney = df_19_tourney.fillna(df_19_tourney.mean())"
   ]
  },
  {
   "cell_type": "code",
   "execution_count": 195,
   "metadata": {},
   "outputs": [],
   "source": [
    "df_19_tourney.to_csv('test_combos_df_2021.csv', index=False)"
   ]
  },
  {
   "cell_type": "code",
   "execution_count": 196,
   "metadata": {},
   "outputs": [],
   "source": [
    "#submission_3 = pd.read_csv('C:/Users/FLUXNATURE/Desktop/New Kaggle world/NCAAM_stage_two_two/MDataFiles_Stage2/MSampleSubmissionStage2.csv')"
   ]
  },
  {
   "cell_type": "code",
   "execution_count": 197,
   "metadata": {},
   "outputs": [
    {
     "output_type": "execute_result",
     "data": {
      "text/plain": [
       "               ID  Pred\n",
       "0  2021_1101_1104   0.5\n",
       "1  2021_1101_1111   0.5\n",
       "2  2021_1101_1116   0.5\n",
       "3  2021_1101_1124   0.5\n",
       "4  2021_1101_1140   0.5"
      ],
      "text/html": "<div>\n<style scoped>\n    .dataframe tbody tr th:only-of-type {\n        vertical-align: middle;\n    }\n\n    .dataframe tbody tr th {\n        vertical-align: top;\n    }\n\n    .dataframe thead th {\n        text-align: right;\n    }\n</style>\n<table border=\"1\" class=\"dataframe\">\n  <thead>\n    <tr style=\"text-align: right;\">\n      <th></th>\n      <th>ID</th>\n      <th>Pred</th>\n    </tr>\n  </thead>\n  <tbody>\n    <tr>\n      <th>0</th>\n      <td>2021_1101_1104</td>\n      <td>0.5</td>\n    </tr>\n    <tr>\n      <th>1</th>\n      <td>2021_1101_1111</td>\n      <td>0.5</td>\n    </tr>\n    <tr>\n      <th>2</th>\n      <td>2021_1101_1116</td>\n      <td>0.5</td>\n    </tr>\n    <tr>\n      <th>3</th>\n      <td>2021_1101_1124</td>\n      <td>0.5</td>\n    </tr>\n    <tr>\n      <th>4</th>\n      <td>2021_1101_1140</td>\n      <td>0.5</td>\n    </tr>\n  </tbody>\n</table>\n</div>"
     },
     "metadata": {},
     "execution_count": 197
    }
   ],
   "source": [
    "#submission_3.head()"
   ]
  },
  {
   "cell_type": "code",
   "execution_count": 198,
   "metadata": {},
   "outputs": [
    {
     "output_type": "execute_result",
     "data": {
      "text/plain": [
       "                  ID  Pred\n",
       "2273  2021_1452_1457   0.5\n",
       "2274  2021_1452_1458   0.5\n",
       "2275  2021_1455_1457   0.5\n",
       "2276  2021_1455_1458   0.5\n",
       "2277  2021_1457_1458   0.5"
      ],
      "text/html": "<div>\n<style scoped>\n    .dataframe tbody tr th:only-of-type {\n        vertical-align: middle;\n    }\n\n    .dataframe tbody tr th {\n        vertical-align: top;\n    }\n\n    .dataframe thead th {\n        text-align: right;\n    }\n</style>\n<table border=\"1\" class=\"dataframe\">\n  <thead>\n    <tr style=\"text-align: right;\">\n      <th></th>\n      <th>ID</th>\n      <th>Pred</th>\n    </tr>\n  </thead>\n  <tbody>\n    <tr>\n      <th>2273</th>\n      <td>2021_1452_1457</td>\n      <td>0.5</td>\n    </tr>\n    <tr>\n      <th>2274</th>\n      <td>2021_1452_1458</td>\n      <td>0.5</td>\n    </tr>\n    <tr>\n      <th>2275</th>\n      <td>2021_1455_1457</td>\n      <td>0.5</td>\n    </tr>\n    <tr>\n      <th>2276</th>\n      <td>2021_1455_1458</td>\n      <td>0.5</td>\n    </tr>\n    <tr>\n      <th>2277</th>\n      <td>2021_1457_1458</td>\n      <td>0.5</td>\n    </tr>\n  </tbody>\n</table>\n</div>"
     },
     "metadata": {},
     "execution_count": 198
    }
   ],
   "source": [
    "#submission_3.tail()"
   ]
  },
  {
   "cell_type": "code",
   "execution_count": null,
   "metadata": {},
   "outputs": [],
   "source": []
  }
 ]
}
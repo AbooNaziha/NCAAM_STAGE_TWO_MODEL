{
 "metadata": {
  "language_info": {
   "codemirror_mode": {
    "name": "ipython",
    "version": 3
   },
   "file_extension": ".py",
   "mimetype": "text/x-python",
   "name": "python",
   "nbconvert_exporter": "python",
   "pygments_lexer": "ipython3",
   "version": "3.7.7-final"
  },
  "orig_nbformat": 2,
  "kernelspec": {
   "name": "python3",
   "display_name": "Python 3.7.7 64-bit ('tf': conda)",
   "metadata": {
    "interpreter": {
     "hash": "1b4bd66619e1f63a2810c0f91c748d47860e139f5a175a9a480ebd9d4456bd5e"
    }
   }
  }
 },
 "nbformat": 4,
 "nbformat_minor": 2,
 "cells": [
  {
   "cell_type": "code",
   "execution_count": 117,
   "metadata": {},
   "outputs": [],
   "source": [
    "import numpy as np\n",
    "import pandas as pd\n",
    "\n",
    "import matplotlib.pyplot as plt\n",
    "import seaborn as sns\n",
    "%matplotlib inline\n",
    "\n",
    "from collections import Counter\n",
    "\n",
    "from sklearn.neural_network import MLPClassifier\n",
    "from sklearn.preprocessing import StandardScaler\n",
    "from sklearn.ensemble import RandomForestClassifier\n",
    "from sklearn.ensemble import VotingClassifier\n",
    "from sklearn.linear_model import LogisticRegression\n",
    "from sklearn.model_selection import GridSearchCV, cross_val_score, StratifiedKFold, learning_curve, train_test_split\n",
    "from sklearn.metrics import brier_score_loss\n",
    "\n",
    "import xgboost as xgb\n",
    "from xgboost import XGBClassifier\n",
    "\n",
    "pd.set_option('display.max_columns', None)"
   ]
  },
  {
   "source": [
    "LOAD MODEL DATA SETS"
   ],
   "cell_type": "markdown",
   "metadata": {}
  },
  {
   "cell_type": "code",
   "execution_count": 118,
   "metadata": {},
   "outputs": [],
   "source": [
    "all_games_df = pd.read_csv('all_games_df.csv')"
   ]
  },
  {
   "cell_type": "code",
   "execution_count": 119,
   "metadata": {},
   "outputs": [],
   "source": [
    "test_combos_df = pd.read_csv('test_combos_df_2021.csv')\n",
    "test_combos_df = test_combos_df.sort_values(by=['ID']).reset_index(drop=True)"
   ]
  },
  {
   "cell_type": "code",
   "execution_count": 120,
   "metadata": {},
   "outputs": [
    {
     "output_type": "execute_result",
     "data": {
      "text/plain": [
       "   Season              ID  HTeamID  RTeamID  HSeed  RSeed  is_tourney  \\\n",
       "0    2021  2021_1101_1104   1104.0   1101.0    2.0   14.0           1   \n",
       "1    2021  2021_1101_1111   1101.0   1111.0   14.0   16.0           1   \n",
       "2    2021  2021_1101_1116   1116.0   1101.0    3.0   14.0           1   \n",
       "\n",
       "   Hwins_top25  HPointMargin       HFG      HFG3  Rwins_top25  RPointMargin  \\\n",
       "0           12      9.800000  0.430893  0.348281            0     14.565217   \n",
       "1            0     14.565217  0.459648  0.383192            0     -0.083333   \n",
       "2            4     11.714286  0.454653  0.331366            0     14.565217   \n",
       "\n",
       "        RFG      RFG3  HRankPOM  RRankPOM               home Hconf  Hadjem  \\\n",
       "0  0.459648  0.383192         8        93            alabama   SEC   24.99   \n",
       "1  0.405138  0.320992        93       207  abilene christian  Slnd   10.13   \n",
       "2  0.459648  0.383192        18        93           arkansas   SEC   21.53   \n",
       "\n",
       "   Hadjo  Hadjd  Hluck               road Rconf  Radjem  Radjo  Radjd  Rluck  \\\n",
       "0  111.7   86.7  0.031  abilene christian  Slnd   10.13  103.0   92.9 -0.027   \n",
       "1  103.0   92.9 -0.027    appalachian st.    SB   -4.34   99.4  103.7  0.060   \n",
       "2  111.5   90.0  0.056  abilene christian  Slnd   10.13  103.0   92.9 -0.027   \n",
       "\n",
       "   Htourny20plus  Rtourny20plus  HBig4Conf  RBig4Conf  \n",
       "0              0              0          1          0  \n",
       "1              0              0          0          0  \n",
       "2              0              0          1          0  "
      ],
      "text/html": "<div>\n<style scoped>\n    .dataframe tbody tr th:only-of-type {\n        vertical-align: middle;\n    }\n\n    .dataframe tbody tr th {\n        vertical-align: top;\n    }\n\n    .dataframe thead th {\n        text-align: right;\n    }\n</style>\n<table border=\"1\" class=\"dataframe\">\n  <thead>\n    <tr style=\"text-align: right;\">\n      <th></th>\n      <th>Season</th>\n      <th>ID</th>\n      <th>HTeamID</th>\n      <th>RTeamID</th>\n      <th>HSeed</th>\n      <th>RSeed</th>\n      <th>is_tourney</th>\n      <th>Hwins_top25</th>\n      <th>HPointMargin</th>\n      <th>HFG</th>\n      <th>HFG3</th>\n      <th>Rwins_top25</th>\n      <th>RPointMargin</th>\n      <th>RFG</th>\n      <th>RFG3</th>\n      <th>HRankPOM</th>\n      <th>RRankPOM</th>\n      <th>home</th>\n      <th>Hconf</th>\n      <th>Hadjem</th>\n      <th>Hadjo</th>\n      <th>Hadjd</th>\n      <th>Hluck</th>\n      <th>road</th>\n      <th>Rconf</th>\n      <th>Radjem</th>\n      <th>Radjo</th>\n      <th>Radjd</th>\n      <th>Rluck</th>\n      <th>Htourny20plus</th>\n      <th>Rtourny20plus</th>\n      <th>HBig4Conf</th>\n      <th>RBig4Conf</th>\n    </tr>\n  </thead>\n  <tbody>\n    <tr>\n      <th>0</th>\n      <td>2021</td>\n      <td>2021_1101_1104</td>\n      <td>1104.0</td>\n      <td>1101.0</td>\n      <td>2.0</td>\n      <td>14.0</td>\n      <td>1</td>\n      <td>12</td>\n      <td>9.800000</td>\n      <td>0.430893</td>\n      <td>0.348281</td>\n      <td>0</td>\n      <td>14.565217</td>\n      <td>0.459648</td>\n      <td>0.383192</td>\n      <td>8</td>\n      <td>93</td>\n      <td>alabama</td>\n      <td>SEC</td>\n      <td>24.99</td>\n      <td>111.7</td>\n      <td>86.7</td>\n      <td>0.031</td>\n      <td>abilene christian</td>\n      <td>Slnd</td>\n      <td>10.13</td>\n      <td>103.0</td>\n      <td>92.9</td>\n      <td>-0.027</td>\n      <td>0</td>\n      <td>0</td>\n      <td>1</td>\n      <td>0</td>\n    </tr>\n    <tr>\n      <th>1</th>\n      <td>2021</td>\n      <td>2021_1101_1111</td>\n      <td>1101.0</td>\n      <td>1111.0</td>\n      <td>14.0</td>\n      <td>16.0</td>\n      <td>1</td>\n      <td>0</td>\n      <td>14.565217</td>\n      <td>0.459648</td>\n      <td>0.383192</td>\n      <td>0</td>\n      <td>-0.083333</td>\n      <td>0.405138</td>\n      <td>0.320992</td>\n      <td>93</td>\n      <td>207</td>\n      <td>abilene christian</td>\n      <td>Slnd</td>\n      <td>10.13</td>\n      <td>103.0</td>\n      <td>92.9</td>\n      <td>-0.027</td>\n      <td>appalachian st.</td>\n      <td>SB</td>\n      <td>-4.34</td>\n      <td>99.4</td>\n      <td>103.7</td>\n      <td>0.060</td>\n      <td>0</td>\n      <td>0</td>\n      <td>0</td>\n      <td>0</td>\n    </tr>\n    <tr>\n      <th>2</th>\n      <td>2021</td>\n      <td>2021_1101_1116</td>\n      <td>1116.0</td>\n      <td>1101.0</td>\n      <td>3.0</td>\n      <td>14.0</td>\n      <td>1</td>\n      <td>4</td>\n      <td>11.714286</td>\n      <td>0.454653</td>\n      <td>0.331366</td>\n      <td>0</td>\n      <td>14.565217</td>\n      <td>0.459648</td>\n      <td>0.383192</td>\n      <td>18</td>\n      <td>93</td>\n      <td>arkansas</td>\n      <td>SEC</td>\n      <td>21.53</td>\n      <td>111.5</td>\n      <td>90.0</td>\n      <td>0.056</td>\n      <td>abilene christian</td>\n      <td>Slnd</td>\n      <td>10.13</td>\n      <td>103.0</td>\n      <td>92.9</td>\n      <td>-0.027</td>\n      <td>0</td>\n      <td>0</td>\n      <td>1</td>\n      <td>0</td>\n    </tr>\n  </tbody>\n</table>\n</div>"
     },
     "metadata": {},
     "execution_count": 120
    }
   ],
   "source": [
    "test_combos_df.head(3)"
   ]
  },
  {
   "cell_type": "code",
   "execution_count": 121,
   "metadata": {},
   "outputs": [
    {
     "output_type": "execute_result",
     "data": {
      "text/plain": [
       "      Season              ID  HTeamID  RTeamID  HSeed  RSeed  is_tourney  \\\n",
       "2273    2021  2021_1452_1457   1452.0   1457.0    3.0   12.0           1   \n",
       "2274    2021  2021_1452_1458   1452.0   1458.0    3.0    9.0           1   \n",
       "2275    2021  2021_1455_1457   1455.0   1457.0   11.0   12.0           1   \n",
       "2276    2021  2021_1455_1458   1458.0   1455.0    9.0   11.0           1   \n",
       "2277    2021  2021_1457_1458   1458.0   1457.0    9.0   12.0           1   \n",
       "\n",
       "      Hwins_top25  HPointMargin       HFG      HFG3  Rwins_top25  \\\n",
       "2273           12      5.185185  0.430284  0.362454            0   \n",
       "2274           12      5.185185  0.430284  0.362454            4   \n",
       "2275            4      2.631579  0.406527  0.344430            0   \n",
       "2276            4      5.310345  0.422498  0.369371            4   \n",
       "2277            4      5.310345  0.422498  0.369371            0   \n",
       "\n",
       "      RPointMargin       RFG      RFG3  HRankPOM  RRankPOM           home  \\\n",
       "2273     12.750000  0.462443  0.350717        25        86  west virginia   \n",
       "2274      5.310345  0.422498  0.369371        25        11  west virginia   \n",
       "2275     12.750000  0.462443  0.350717        72        86    wichita st.   \n",
       "2276      2.631579  0.406527  0.344430        11        72      wisconsin   \n",
       "2277     12.750000  0.462443  0.350717        11        86      wisconsin   \n",
       "\n",
       "     Hconf  Hadjem  Hadjo  Hadjd  Hluck         road Rconf  Radjem  Radjo  \\\n",
       "2273   B12   20.32  116.1   95.8 -0.040     winthrop  BSth    8.94  105.1   \n",
       "2274   B12   20.32  116.1   95.8 -0.040    wisconsin   B10   22.65  112.5   \n",
       "2275  Amer   11.55  110.0   98.4  0.121     winthrop  BSth    8.94  105.1   \n",
       "2276   B10   22.65  112.5   89.9 -0.049  wichita st.  Amer   11.55  110.0   \n",
       "2277   B10   22.65  112.5   89.9 -0.049     winthrop  BSth    8.94  105.1   \n",
       "\n",
       "      Radjd  Rluck  Htourny20plus  Rtourny20plus  HBig4Conf  RBig4Conf  \n",
       "2273   96.2  0.032              1              0          1          0  \n",
       "2274   89.9 -0.049              1              1          1          1  \n",
       "2275   96.2  0.032              0              0          0          0  \n",
       "2276   98.4  0.121              1              0          1          0  \n",
       "2277   96.2  0.032              1              0          1          0  "
      ],
      "text/html": "<div>\n<style scoped>\n    .dataframe tbody tr th:only-of-type {\n        vertical-align: middle;\n    }\n\n    .dataframe tbody tr th {\n        vertical-align: top;\n    }\n\n    .dataframe thead th {\n        text-align: right;\n    }\n</style>\n<table border=\"1\" class=\"dataframe\">\n  <thead>\n    <tr style=\"text-align: right;\">\n      <th></th>\n      <th>Season</th>\n      <th>ID</th>\n      <th>HTeamID</th>\n      <th>RTeamID</th>\n      <th>HSeed</th>\n      <th>RSeed</th>\n      <th>is_tourney</th>\n      <th>Hwins_top25</th>\n      <th>HPointMargin</th>\n      <th>HFG</th>\n      <th>HFG3</th>\n      <th>Rwins_top25</th>\n      <th>RPointMargin</th>\n      <th>RFG</th>\n      <th>RFG3</th>\n      <th>HRankPOM</th>\n      <th>RRankPOM</th>\n      <th>home</th>\n      <th>Hconf</th>\n      <th>Hadjem</th>\n      <th>Hadjo</th>\n      <th>Hadjd</th>\n      <th>Hluck</th>\n      <th>road</th>\n      <th>Rconf</th>\n      <th>Radjem</th>\n      <th>Radjo</th>\n      <th>Radjd</th>\n      <th>Rluck</th>\n      <th>Htourny20plus</th>\n      <th>Rtourny20plus</th>\n      <th>HBig4Conf</th>\n      <th>RBig4Conf</th>\n    </tr>\n  </thead>\n  <tbody>\n    <tr>\n      <th>2273</th>\n      <td>2021</td>\n      <td>2021_1452_1457</td>\n      <td>1452.0</td>\n      <td>1457.0</td>\n      <td>3.0</td>\n      <td>12.0</td>\n      <td>1</td>\n      <td>12</td>\n      <td>5.185185</td>\n      <td>0.430284</td>\n      <td>0.362454</td>\n      <td>0</td>\n      <td>12.750000</td>\n      <td>0.462443</td>\n      <td>0.350717</td>\n      <td>25</td>\n      <td>86</td>\n      <td>west virginia</td>\n      <td>B12</td>\n      <td>20.32</td>\n      <td>116.1</td>\n      <td>95.8</td>\n      <td>-0.040</td>\n      <td>winthrop</td>\n      <td>BSth</td>\n      <td>8.94</td>\n      <td>105.1</td>\n      <td>96.2</td>\n      <td>0.032</td>\n      <td>1</td>\n      <td>0</td>\n      <td>1</td>\n      <td>0</td>\n    </tr>\n    <tr>\n      <th>2274</th>\n      <td>2021</td>\n      <td>2021_1452_1458</td>\n      <td>1452.0</td>\n      <td>1458.0</td>\n      <td>3.0</td>\n      <td>9.0</td>\n      <td>1</td>\n      <td>12</td>\n      <td>5.185185</td>\n      <td>0.430284</td>\n      <td>0.362454</td>\n      <td>4</td>\n      <td>5.310345</td>\n      <td>0.422498</td>\n      <td>0.369371</td>\n      <td>25</td>\n      <td>11</td>\n      <td>west virginia</td>\n      <td>B12</td>\n      <td>20.32</td>\n      <td>116.1</td>\n      <td>95.8</td>\n      <td>-0.040</td>\n      <td>wisconsin</td>\n      <td>B10</td>\n      <td>22.65</td>\n      <td>112.5</td>\n      <td>89.9</td>\n      <td>-0.049</td>\n      <td>1</td>\n      <td>1</td>\n      <td>1</td>\n      <td>1</td>\n    </tr>\n    <tr>\n      <th>2275</th>\n      <td>2021</td>\n      <td>2021_1455_1457</td>\n      <td>1455.0</td>\n      <td>1457.0</td>\n      <td>11.0</td>\n      <td>12.0</td>\n      <td>1</td>\n      <td>4</td>\n      <td>2.631579</td>\n      <td>0.406527</td>\n      <td>0.344430</td>\n      <td>0</td>\n      <td>12.750000</td>\n      <td>0.462443</td>\n      <td>0.350717</td>\n      <td>72</td>\n      <td>86</td>\n      <td>wichita st.</td>\n      <td>Amer</td>\n      <td>11.55</td>\n      <td>110.0</td>\n      <td>98.4</td>\n      <td>0.121</td>\n      <td>winthrop</td>\n      <td>BSth</td>\n      <td>8.94</td>\n      <td>105.1</td>\n      <td>96.2</td>\n      <td>0.032</td>\n      <td>0</td>\n      <td>0</td>\n      <td>0</td>\n      <td>0</td>\n    </tr>\n    <tr>\n      <th>2276</th>\n      <td>2021</td>\n      <td>2021_1455_1458</td>\n      <td>1458.0</td>\n      <td>1455.0</td>\n      <td>9.0</td>\n      <td>11.0</td>\n      <td>1</td>\n      <td>4</td>\n      <td>5.310345</td>\n      <td>0.422498</td>\n      <td>0.369371</td>\n      <td>4</td>\n      <td>2.631579</td>\n      <td>0.406527</td>\n      <td>0.344430</td>\n      <td>11</td>\n      <td>72</td>\n      <td>wisconsin</td>\n      <td>B10</td>\n      <td>22.65</td>\n      <td>112.5</td>\n      <td>89.9</td>\n      <td>-0.049</td>\n      <td>wichita st.</td>\n      <td>Amer</td>\n      <td>11.55</td>\n      <td>110.0</td>\n      <td>98.4</td>\n      <td>0.121</td>\n      <td>1</td>\n      <td>0</td>\n      <td>1</td>\n      <td>0</td>\n    </tr>\n    <tr>\n      <th>2277</th>\n      <td>2021</td>\n      <td>2021_1457_1458</td>\n      <td>1458.0</td>\n      <td>1457.0</td>\n      <td>9.0</td>\n      <td>12.0</td>\n      <td>1</td>\n      <td>4</td>\n      <td>5.310345</td>\n      <td>0.422498</td>\n      <td>0.369371</td>\n      <td>0</td>\n      <td>12.750000</td>\n      <td>0.462443</td>\n      <td>0.350717</td>\n      <td>11</td>\n      <td>86</td>\n      <td>wisconsin</td>\n      <td>B10</td>\n      <td>22.65</td>\n      <td>112.5</td>\n      <td>89.9</td>\n      <td>-0.049</td>\n      <td>winthrop</td>\n      <td>BSth</td>\n      <td>8.94</td>\n      <td>105.1</td>\n      <td>96.2</td>\n      <td>0.032</td>\n      <td>1</td>\n      <td>0</td>\n      <td>1</td>\n      <td>0</td>\n    </tr>\n  </tbody>\n</table>\n</div>"
     },
     "metadata": {},
     "execution_count": 121
    }
   ],
   "source": [
    "test_combos_df.tail()"
   ]
  },
  {
   "cell_type": "code",
   "execution_count": 122,
   "metadata": {},
   "outputs": [],
   "source": [
    "ind_var_selected = [\n",
    "'is_tourney', \n",
    "'HRankPOM',\n",
    "'RRankPOM',\n",
    "'line',\n",
    "'Hwins_top25',\n",
    "'Rwins_top25',\n",
    "'HPointMargin',\n",
    "'RPointMargin',\n",
    "'HFG',\n",
    "'RFG',\n",
    "'HFG3',\n",
    "'RFG3',\n",
    "'Hadjem',\n",
    "'Hadjo',\n",
    "'Hadjd',\n",
    "'Hluck',\n",
    "'Radjem',\n",
    "'Radjo',\n",
    "'Radjd',\n",
    "'Rluck',\n",
    "'Htourny20plus',\n",
    "'Rtourny20plus',\n",
    "'HBig4Conf',\n",
    "'RBig4Conf', \n",
    "'HSeed',\n",
    "'RSeed'\n",
    "]"
   ]
  },
  {
   "source": [
    "Note: test is 2021 predictions but our \"test\" holdout set is referred to as \"valid\""
   ],
   "cell_type": "markdown",
   "metadata": {}
  },
  {
   "cell_type": "code",
   "execution_count": 123,
   "metadata": {},
   "outputs": [],
   "source": [
    "#prediction set 2021\n",
    "test_ids = test_combos_df['ID'].reset_index(drop=True)\n",
    "X_test = test_combos_df[['is_tourney','HRankPOM','RRankPOM','Hwins_top25','Rwins_top25','HPointMargin','RPointMargin','HFG','RFG','HFG3','RFG3','Hadjem','Hadjo','Hadjd','Hluck','Radjem','Radjo','Radjd','Rluck','Htourny20plus','Rtourny20plus','HBig4Conf','RBig4Conf','HSeed','RSeed']].reset_index(drop=True)"
   ]
  },
  {
   "cell_type": "code",
   "execution_count": 124,
   "metadata": {},
   "outputs": [],
   "source": [
    "#Predict the last two years as a test set (2017, 2018):\n",
    "temp_df = all_games_df[all_games_df['Season']>2016]\n",
    "temp_df = temp_df[temp_df['is_tourney']==1]\n",
    "X_valid = temp_df[ind_var_selected].reset_index(drop=True)\n",
    "y_valid = temp_df['Hwin'].reset_index(drop=True)\n",
    "\n",
    "#Train on everything else:\n",
    "temp_df1 = all_games_df[all_games_df['Season']>2016]\n",
    "temp_df1 = temp_df1[temp_df1['is_tourney']==0]\n",
    "temp_df2 = all_games_df[all_games_df['Season']<2017]\n",
    "combined_temp_df = temp_df1.append(temp_df2)\n",
    "\n",
    "X_train = combined_temp_df[ind_var_selected].reset_index(drop=True)\n",
    "y_train = combined_temp_df['Hwin'].reset_index(drop=True)\n",
    "\n",
    "#For final predictions:\n",
    "X_train_orig = all_games_df[ind_var_selected].reset_index(drop=True)\n",
    "y_train_orig = all_games_df['Hwin'].reset_index(drop=True)\n"
   ]
  },
  {
   "cell_type": "code",
   "execution_count": 125,
   "metadata": {},
   "outputs": [],
   "source": [
    "#Create second holdout set to double-check not overfit and check model stability (season 2016)\n",
    "temp_df16 = all_games_df[all_games_df['Season']==2016]\n",
    "temp_df16 = temp_df16[temp_df16['is_tourney']==1]\n",
    "X_valid16 = temp_df16[ind_var_selected].reset_index(drop=True)\n",
    "y_valid16 = temp_df16['Hwin'].reset_index(drop=True)\n",
    "\n",
    "temp_df1_16 = all_games_df[all_games_df['Season']==2016]\n",
    "temp_df1_16 = temp_df1_16[temp_df1_16['is_tourney']==0]\n",
    "temp_df2_16 = all_games_df[all_games_df['Season']!=2016]\n",
    "combined_temp_df_16 = temp_df1_16.append(temp_df2_16)\n",
    "\n",
    "X_train16 = combined_temp_df_16[ind_var_selected].reset_index(drop=True)\n",
    "y_train16 = combined_temp_df_16['Hwin'].reset_index(drop=True)"
   ]
  },
  {
   "cell_type": "code",
   "execution_count": 126,
   "metadata": {},
   "outputs": [],
   "source": [
    "X_test = X_test.astype(\"float64\")\n",
    "\n",
    "X_train_orig = X_train_orig.astype(\"float64\")\n",
    "y_train_orig = y_train_orig.astype(\"float64\")\n",
    "\n",
    "X_train = X_train.astype(\"float64\")\n",
    "X_valid = X_valid.astype(\"float64\")\n",
    "y_train = y_train.astype(\"float64\")\n",
    "y_valid = y_valid.astype(\"float64\")\n",
    "\n",
    "X_train16 = X_train16.astype(\"float64\")\n",
    "X_valid16 = X_valid16.astype(\"float64\")\n",
    "y_train16 = y_train16.astype(\"float64\")\n",
    "y_valid16 = y_valid16.astype(\"float64\")"
   ]
  },
  {
   "source": [
    "Scoring rules and benchmarks"
   ],
   "cell_type": "markdown",
   "metadata": {}
  },
  {
   "cell_type": "code",
   "execution_count": 127,
   "metadata": {},
   "outputs": [],
   "source": [
    "def LogLoss(predictions, realizations):\n",
    "    predictions_use = predictions.clip(0)\n",
    "    realizations_use = realizations.clip(0)\n",
    "    LogLoss = -np.mean( (realizations_use * np.log(predictions_use)) + \n",
    "                        (1 - realizations_use) * np.log(1 - predictions_use) )\n",
    "    return LogLoss"
   ]
  },
  {
   "source": [
    "If the model doesn't beat assuming 50% it is poor"
   ],
   "cell_type": "markdown",
   "metadata": {}
  },
  {
   "cell_type": "code",
   "execution_count": 128,
   "metadata": {},
   "outputs": [],
   "source": [
    "bench_5050 = np.repeat(0.5, len(y_valid))"
   ]
  },
  {
   "cell_type": "code",
   "execution_count": 129,
   "metadata": {},
   "outputs": [
    {
     "output_type": "execute_result",
     "data": {
      "text/plain": [
       "0.6931471805599453"
      ]
     },
     "metadata": {},
     "execution_count": 129
    }
   ],
   "source": [
    "LogLoss(bench_5050, y_valid)"
   ]
  },
  {
   "source": [
    "How does this compare to Lopez and Matthews (2014 winners)?"
   ],
   "cell_type": "markdown",
   "metadata": {}
  },
  {
   "cell_type": "code",
   "execution_count": 130,
   "metadata": {},
   "outputs": [],
   "source": [
    "Z1 = LogisticRegression(C = 1e9, random_state=23)\n",
    "Z1.fit(X_train[['line']], y_train)\n",
    "Z1_pred = pd.DataFrame(Z1.predict_proba(X_valid[['line']]))[1]"
   ]
  },
  {
   "cell_type": "code",
   "execution_count": 131,
   "metadata": {},
   "outputs": [
    {
     "output_type": "execute_result",
     "data": {
      "text/plain": [
       "0.5099275904348796"
      ]
     },
     "metadata": {},
     "execution_count": 131
    }
   ],
   "source": [
    "LogLoss(Z1_pred, y_valid)"
   ]
  },
  {
   "cell_type": "code",
   "execution_count": 132,
   "metadata": {},
   "outputs": [],
   "source": [
    "Z2 = LogisticRegression(C = 1e9, random_state=23)\n",
    "Z2.fit(X_train[['Hadjo','Hadjd','Radjo','Radjd']], y_train)\n",
    "Z2_pred = pd.DataFrame(Z2.predict_proba(X_valid[['Hadjo','Hadjd','Radjo','Radjd']]))[1]"
   ]
  },
  {
   "cell_type": "code",
   "execution_count": 133,
   "metadata": {},
   "outputs": [
    {
     "output_type": "execute_result",
     "data": {
      "text/plain": [
       "0.5126291000204722"
      ]
     },
     "metadata": {},
     "execution_count": 133
    }
   ],
   "source": [
    "LogLoss(Z2_pred, y_valid)"
   ]
  },
  {
   "cell_type": "code",
   "execution_count": 134,
   "metadata": {},
   "outputs": [],
   "source": [
    "Z1 = LogisticRegression(C = 1e9, random_state=23)\n",
    "Z1.fit(X_train16[['line']], y_train16)\n",
    "Z1_pred = pd.DataFrame(Z1.predict_proba(X_valid16[['line']]))[1]"
   ]
  },
  {
   "cell_type": "code",
   "execution_count": 135,
   "metadata": {},
   "outputs": [
    {
     "output_type": "execute_result",
     "data": {
      "text/plain": [
       "0.5381701864065767"
      ]
     },
     "metadata": {},
     "execution_count": 135
    }
   ],
   "source": [
    "LogLoss(Z1_pred, y_valid16)"
   ]
  },
  {
   "cell_type": "code",
   "execution_count": 136,
   "metadata": {},
   "outputs": [],
   "source": [
    "Z2 = LogisticRegression(C = 1e9, random_state=23)\n",
    "Z2.fit(X_train16[['Hadjo','Hadjd','Radjo','Radjd']], y_train16)\n",
    "Z2_pred = pd.DataFrame(Z2.predict_proba(X_valid16[['Hadjo','Hadjd','Radjo','Radjd']]))[1]"
   ]
  },
  {
   "cell_type": "code",
   "execution_count": 137,
   "metadata": {},
   "outputs": [
    {
     "output_type": "execute_result",
     "data": {
      "text/plain": [
       "0.523375490320045"
      ]
     },
     "metadata": {},
     "execution_count": 137
    }
   ],
   "source": [
    "LogLoss(Z2_pred, y_valid16)"
   ]
  },
  {
   "source": [
    "Fit a neural network (with and without line)\n",
    "\n",
    "Normalize data (using z-scores) before neural network"
   ],
   "cell_type": "markdown",
   "metadata": {}
  },
  {
   "cell_type": "code",
   "execution_count": 138,
   "metadata": {},
   "outputs": [],
   "source": [
    "scaler = StandardScaler()\n",
    "scaler.fit(X_train)  # Fit only to the training data\n",
    "scaled_X_train = pd.DataFrame(scaler.transform(X_train), index=X_train.index, columns=X_train.columns)\n",
    "scaled_X_valid = pd.DataFrame(scaler.transform(X_valid), index=X_valid.index, columns=X_valid.columns)"
   ]
  },
  {
   "cell_type": "code",
   "execution_count": 139,
   "metadata": {},
   "outputs": [],
   "source": [
    "scaler = StandardScaler()\n",
    "scaler.fit(X_train16)  # Fit only to the training data\n",
    "scaled_X_train16 = pd.DataFrame(scaler.transform(X_train16), index=X_train16.index, columns=X_train16.columns)\n",
    "scaled_X_valid16 = pd.DataFrame(scaler.transform(X_valid16), index=X_valid16.index, columns=X_valid16.columns)"
   ]
  },
  {
   "cell_type": "code",
   "execution_count": 140,
   "metadata": {},
   "outputs": [],
   "source": [
    "#drop line from training since we won't use in predictions, need these to be same number of columns.\n",
    "X_train_orig = X_train_orig.drop(['line'], axis=1)"
   ]
  },
  {
   "cell_type": "code",
   "execution_count": 141,
   "metadata": {},
   "outputs": [],
   "source": [
    "scaler = StandardScaler()\n",
    "scaler.fit(X_train_orig)  # Fit to all training data\n",
    "\n",
    "scaled_X_train_orig = pd.DataFrame(scaler.transform(X_train_orig), index=X_train_orig.index, columns=X_train_orig.columns)\n",
    "scaled_X_test = pd.DataFrame(scaler.transform(X_test), index=X_test.index, columns=X_test.columns)"
   ]
  },
  {
   "source": [
    "\n",
    "With line (note: we won't have line in the rounds after the first, but we could use this for the first round only like Lopez and Matthews did)"
   ],
   "cell_type": "markdown",
   "metadata": {}
  },
  {
   "cell_type": "code",
   "execution_count": 142,
   "metadata": {},
   "outputs": [],
   "source": [
    "#Note: I tried logistic activation and different combinations of hidden layers/nodes\n",
    "#Hyperparameters below minimized the log loss in the holdout set\n",
    "#I also submited a prediction with 10 nodes in the first layer, but this is the submission that placed 4th (w/ 8 in 1st)\n",
    "nn = MLPClassifier(activation='relu', hidden_layer_sizes=(8,5,3),random_state=201, max_iter=1000)\n",
    "nn.fit(scaled_X_train,y_train)\n",
    "nn_pred = pd.DataFrame(nn.predict_proba(scaled_X_valid))[1]"
   ]
  },
  {
   "cell_type": "code",
   "execution_count": 143,
   "metadata": {},
   "outputs": [
    {
     "output_type": "execute_result",
     "data": {
      "text/plain": [
       "0.46058352667105923"
      ]
     },
     "metadata": {},
     "execution_count": 143
    }
   ],
   "source": [
    "LogLoss(nn_pred, y_valid)"
   ]
  },
  {
   "cell_type": "code",
   "execution_count": 144,
   "metadata": {},
   "outputs": [
    {
     "output_type": "execute_result",
     "data": {
      "text/plain": [
       "0.46602394659108043"
      ]
     },
     "metadata": {},
     "execution_count": 144
    }
   ],
   "source": [
    "#try second holdout (does worse, but still better than baseline of 54)\n",
    "nn.fit(scaled_X_train16,y_train16)\n",
    "nn_pred16 = pd.DataFrame(nn.predict_proba(scaled_X_valid16))[1]\n",
    "LogLoss(nn_pred16, y_valid16)"
   ]
  },
  {
   "source": [
    "Without line"
   ],
   "cell_type": "markdown",
   "metadata": {}
  },
  {
   "cell_type": "code",
   "execution_count": 145,
   "metadata": {},
   "outputs": [],
   "source": [
    "#Note: I tried logistic activation and different combinations of hidden layers/nodes\n",
    "#Hyperparameters below minimized the log loss in the holdout set\n",
    "ind_var_selected_no_line = ['is_tourney', 'Hwins_top25','Rwins_top25','HPointMargin','RPointMargin','HFG','RFG','HFG3','RFG3','HRankPOM','RRankPOM','Hadjem','Hadjo','Hadjd','Hluck','Radjem','Radjo','Radjd','Rluck','Htourny20plus','Rtourny20plus','HBig4Conf','RBig4Conf', 'HSeed','RSeed']\n",
    "nn = MLPClassifier(activation='relu', hidden_layer_sizes=(7,5,3),random_state=201, max_iter=1000)\n",
    "nn.fit(scaled_X_train[ind_var_selected_no_line],y_train)\n",
    "nn_pred_no_line = pd.DataFrame(nn.predict_proba(scaled_X_valid[ind_var_selected_no_line]))[1]"
   ]
  },
  {
   "cell_type": "code",
   "execution_count": 146,
   "metadata": {},
   "outputs": [
    {
     "output_type": "execute_result",
     "data": {
      "text/plain": [
       "0.44535847672906115"
      ]
     },
     "metadata": {},
     "execution_count": 146
    }
   ],
   "source": [
    "LogLoss(nn_pred_no_line, y_valid)"
   ]
  },
  {
   "cell_type": "code",
   "execution_count": 147,
   "metadata": {},
   "outputs": [
    {
     "output_type": "execute_result",
     "data": {
      "text/plain": [
       "0.48802297812915235"
      ]
     },
     "metadata": {},
     "execution_count": 147
    }
   ],
   "source": [
    "#try second holdout (does better)\n",
    "nn.fit(scaled_X_train16[ind_var_selected_no_line],y_train16)\n",
    "nn_pred_no_line16 = pd.DataFrame(nn.predict_proba(scaled_X_valid16[ind_var_selected_no_line]))[1]\n",
    "LogLoss(nn_pred_no_line16, y_valid16)"
   ]
  },
  {
   "cell_type": "code",
   "execution_count": 148,
   "metadata": {},
   "outputs": [
    {
     "output_type": "execute_result",
     "data": {
      "text/plain": [
       "0.44832781692010787"
      ]
     },
     "metadata": {},
     "execution_count": 148
    }
   ],
   "source": [
    "avg = (nn_pred_no_line+nn_pred)/2\n",
    "LogLoss(avg, y_valid)"
   ]
  },
  {
   "cell_type": "code",
   "execution_count": 149,
   "metadata": {},
   "outputs": [
    {
     "output_type": "execute_result",
     "data": {
      "text/plain": [
       "0.469656232815097"
      ]
     },
     "metadata": {},
     "execution_count": 149
    }
   ],
   "source": [
    "avg16 = (nn_pred_no_line16+nn_pred16)/2\n",
    "LogLoss(avg16, y_valid16)"
   ]
  },
  {
   "source": [
    "Create test predictions"
   ],
   "cell_type": "markdown",
   "metadata": {}
  },
  {
   "cell_type": "code",
   "execution_count": 150,
   "metadata": {},
   "outputs": [],
   "source": [
    "#different submissions: differ by first layer of nueral net\n",
    "ind_var_selected_no_line = ['is_tourney', 'Hwins_top25','Rwins_top25','HPointMargin','RPointMargin','HFG','RFG','HFG3','RFG3','HRankPOM','RRankPOM','Hadjem','Hadjo','Hadjd','Hluck','Radjem','Radjo','Radjd','Rluck','Htourny20plus','Rtourny20plus','HBig4Conf','RBig4Conf', 'HSeed','RSeed']\n",
    "\n",
    "#train model on all data (previously held out some tournaments for a test set)\n",
    "nn = MLPClassifier(activation='relu', hidden_layer_sizes=(7,5,3),random_state=201, max_iter=1000)\n",
    "nn.fit(scaled_X_train_orig[ind_var_selected_no_line],y_train_orig)\n",
    "second_rd_submission_all = pd.DataFrame(nn.predict_proba(scaled_X_test[ind_var_selected_no_line]))"
   ]
  },
  {
   "cell_type": "code",
   "execution_count": 151,
   "metadata": {},
   "outputs": [],
   "source": [
    "#Note: I'm predicting home (lower seed) win probability. Need to convert to be consistent with output file (lower team ID)\n",
    "second_rd_submission = pd.merge(test_combos_df, second_rd_submission_all, left_index=True, right_index=True)"
   ]
  },
  {
   "cell_type": "code",
   "execution_count": 152,
   "metadata": {},
   "outputs": [],
   "source": [
    "second_rd_submission.loc[second_rd_submission['HTeamID']<second_rd_submission['RTeamID'], 'pred'] = second_rd_submission[1]\n",
    "second_rd_submission.loc[second_rd_submission['HTeamID']>second_rd_submission['RTeamID'], 'pred'] = second_rd_submission[0]"
   ]
  },
  {
   "cell_type": "code",
   "execution_count": 153,
   "metadata": {},
   "outputs": [],
   "source": [
    "second_rd_submission.to_csv('Ismail_Munira_second_rd_submission_all.csv', index=False)"
   ]
  },
  {
   "cell_type": "code",
   "execution_count": 154,
   "metadata": {},
   "outputs": [],
   "source": [
    "second_rd_submission = second_rd_submission[['ID','pred']]"
   ]
  },
  {
   "cell_type": "code",
   "execution_count": 155,
   "metadata": {},
   "outputs": [
    {
     "output_type": "execute_result",
     "data": {
      "text/plain": [
       "               ID      pred\n",
       "0  2021_1101_1104  0.108285\n",
       "1  2021_1101_1111  0.828493\n",
       "2  2021_1101_1116  0.064667\n",
       "3  2021_1101_1124  0.068472\n",
       "4  2021_1101_1140  0.071935"
      ],
      "text/html": "<div>\n<style scoped>\n    .dataframe tbody tr th:only-of-type {\n        vertical-align: middle;\n    }\n\n    .dataframe tbody tr th {\n        vertical-align: top;\n    }\n\n    .dataframe thead th {\n        text-align: right;\n    }\n</style>\n<table border=\"1\" class=\"dataframe\">\n  <thead>\n    <tr style=\"text-align: right;\">\n      <th></th>\n      <th>ID</th>\n      <th>pred</th>\n    </tr>\n  </thead>\n  <tbody>\n    <tr>\n      <th>0</th>\n      <td>2021_1101_1104</td>\n      <td>0.108285</td>\n    </tr>\n    <tr>\n      <th>1</th>\n      <td>2021_1101_1111</td>\n      <td>0.828493</td>\n    </tr>\n    <tr>\n      <th>2</th>\n      <td>2021_1101_1116</td>\n      <td>0.064667</td>\n    </tr>\n    <tr>\n      <th>3</th>\n      <td>2021_1101_1124</td>\n      <td>0.068472</td>\n    </tr>\n    <tr>\n      <th>4</th>\n      <td>2021_1101_1140</td>\n      <td>0.071935</td>\n    </tr>\n  </tbody>\n</table>\n</div>"
     },
     "metadata": {},
     "execution_count": 155
    }
   ],
   "source": [
    "second_rd_submission.head()"
   ]
  },
  {
   "cell_type": "code",
   "execution_count": 156,
   "metadata": {},
   "outputs": [
    {
     "output_type": "execute_result",
     "data": {
      "text/plain": [
       "                  ID      pred\n",
       "2273  2021_1452_1457  0.812187\n",
       "2274  2021_1452_1458  0.471668\n",
       "2275  2021_1455_1457  0.845873\n",
       "2276  2021_1455_1458  0.186780\n",
       "2277  2021_1457_1458  0.078025"
      ],
      "text/html": "<div>\n<style scoped>\n    .dataframe tbody tr th:only-of-type {\n        vertical-align: middle;\n    }\n\n    .dataframe tbody tr th {\n        vertical-align: top;\n    }\n\n    .dataframe thead th {\n        text-align: right;\n    }\n</style>\n<table border=\"1\" class=\"dataframe\">\n  <thead>\n    <tr style=\"text-align: right;\">\n      <th></th>\n      <th>ID</th>\n      <th>pred</th>\n    </tr>\n  </thead>\n  <tbody>\n    <tr>\n      <th>2273</th>\n      <td>2021_1452_1457</td>\n      <td>0.812187</td>\n    </tr>\n    <tr>\n      <th>2274</th>\n      <td>2021_1452_1458</td>\n      <td>0.471668</td>\n    </tr>\n    <tr>\n      <th>2275</th>\n      <td>2021_1455_1457</td>\n      <td>0.845873</td>\n    </tr>\n    <tr>\n      <th>2276</th>\n      <td>2021_1455_1458</td>\n      <td>0.186780</td>\n    </tr>\n    <tr>\n      <th>2277</th>\n      <td>2021_1457_1458</td>\n      <td>0.078025</td>\n    </tr>\n  </tbody>\n</table>\n</div>"
     },
     "metadata": {},
     "execution_count": 156
    }
   ],
   "source": [
    "second_rd_submission.tail()"
   ]
  },
  {
   "cell_type": "code",
   "execution_count": 157,
   "metadata": {},
   "outputs": [],
   "source": [
    "second_rd_submission.to_csv('Aboo_Munira_Neera2_submission.csv', index=False)"
   ]
  },
  {
   "cell_type": "code",
   "execution_count": null,
   "metadata": {},
   "outputs": [],
   "source": []
  }
 ]
}